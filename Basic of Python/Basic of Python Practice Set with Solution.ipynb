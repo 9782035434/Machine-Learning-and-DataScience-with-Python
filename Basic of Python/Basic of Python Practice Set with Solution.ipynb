{
 "cells": [
  {
   "cell_type": "markdown",
   "metadata": {},
   "source": [
    "# <center> Practice Set with Solution <h3><a href = \"https://www.linkedin.com/in/vipendrapal-rajput-3a0674160/\" target = \"_self\">  Vipendra Pal Rajput </a></h3></center>"
   ]
  },
  {
   "cell_type": "markdown",
   "metadata": {},
   "source": [
    "***"
   ]
  },
  {
   "cell_type": "markdown",
   "metadata": {},
   "source": [
    "<center><center> <font color='blue' size=5>Practice Set - 1</font></center> </center>"
   ]
  },
  {
   "cell_type": "markdown",
   "metadata": {},
   "source": [
    "<h3> 1. Python program to find the maxmium number <br><br>\n",
    "     2. Python Program to print Prime Numbers from 1 to 50 <br><br>\n",
    "     3. Swap value of two variables <br><br>\n",
    "     4. swap number without using temp or third variable <br><br>\n",
    "     5. validate mobile number that start with 6,7,8,9 and length of mobile number should be 10. <br><br>\n",
    "</h3>"
   ]
  },
  {
   "cell_type": "markdown",
   "metadata": {},
   "source": [
    "***"
   ]
  },
  {
   "cell_type": "markdown",
   "metadata": {},
   "source": [
    "<center> <font color='green' size=5>Solution for Practice set - 1</font></center>"
   ]
  },
  {
   "cell_type": "code",
   "execution_count": 1,
   "metadata": {},
   "outputs": [
    {
     "name": "stdout",
     "output_type": "stream",
     "text": [
      "Enter first number4\n",
      "Enter second number-7\n",
      "Enter third number6\n",
      "The max is 6\n"
     ]
    }
   ],
   "source": [
    "# Python program to find the maxmium number \n",
    "\n",
    "a = int(input(\"Enter first number\"))   # Take input from user\n",
    "b = int(input(\"Enter second number\"))\n",
    "c = int(input(\"Enter third number\"))\n",
    "\n",
    "if (a >= b) and (a >= c):\n",
    "    l = a\n",
    "elif (b >= a) and (b >= c):\n",
    "    l = b\n",
    "else:\n",
    "    l = c\n",
    "\n",
    "print(\"The max is\", l)"
   ]
  },
  {
   "cell_type": "code",
   "execution_count": 2,
   "metadata": {},
   "outputs": [
    {
     "name": "stdout",
     "output_type": "stream",
     "text": [
      " 2   3   5   7   11   13   17   19   23   29   31   37   41   43   47  "
     ]
    }
   ],
   "source": [
    "# Python Program to print Prime Numbers from 1 to 50\n",
    " \n",
    "for Number in range (1, 51):\n",
    "    count = 0\n",
    "    for i in range(2, (Number//2 + 1)):\n",
    "        if(Number % i == 0):\n",
    "            count = count + 1\n",
    "            break\n",
    "\n",
    "    if (count == 0 and Number != 1):\n",
    "        print(\" %d\" %Number, end = '  ')"
   ]
  },
  {
   "cell_type": "code",
   "execution_count": 3,
   "metadata": {},
   "outputs": [
    {
     "name": "stdout",
     "output_type": "stream",
     "text": [
      "4 5\n",
      "5 4\n"
     ]
    }
   ],
   "source": [
    "#Swap value of two variables\n",
    "\n",
    "a,b = 4,5\n",
    "print(a,b) #print values\n",
    "a,b = b,a #swap values \n",
    "print(a,b)#print after swaping"
   ]
  },
  {
   "cell_type": "code",
   "execution_count": 4,
   "metadata": {},
   "outputs": [
    {
     "name": "stdout",
     "output_type": "stream",
     "text": [
      "7 8\n"
     ]
    }
   ],
   "source": [
    "#swap number without using temp or third variable\n",
    "\n",
    "a = 8\n",
    "b = 7\n",
    "a = a + b\n",
    "b = a - b\n",
    "a = a - b\n",
    "print(a,b)"
   ]
  },
  {
   "cell_type": "code",
   "execution_count": 5,
   "metadata": {},
   "outputs": [
    {
     "name": "stdout",
     "output_type": "stream",
     "text": [
      "enter number : 76445876\n",
      "Un Valid\n"
     ]
    }
   ],
   "source": [
    "# Check validation of mobile number that start with 6,7,8,9\n",
    "N = int(input(\"enter number : \"))\n",
    "b= str(N) #convert in string\n",
    "if len(b)==10: #check length of given input if it is 10 then only show valid else unvalid\n",
    "    if b[0] == \"9\" or b[0] == \"8\" or b[0] == \"7\" or b[0] == \"6\": #Check for given numbers\n",
    "        print(\"valid\")\n",
    "    else:\n",
    "        print(\"Un Valid\")\n",
    "else:\n",
    "    print(\"Un Valid\")"
   ]
  },
  {
   "cell_type": "markdown",
   "metadata": {},
   "source": [
    "***"
   ]
  },
  {
   "cell_type": "markdown",
   "metadata": {},
   "source": [
    "***"
   ]
  },
  {
   "cell_type": "markdown",
   "metadata": {},
   "source": [
    "<center><center> <font color='blue' size=5>Practice Set - 2</font></center> </center>"
   ]
  },
  {
   "cell_type": "markdown",
   "metadata": {},
   "source": [
    "<h3> 1. Python program to check whether String is palindrome or not using slicing <br><br>\n",
    "     2. Python Program to Remove Special charactor from string using list<br><br>\n",
    "     3. Python Program to Remove Special charactor from string using ascii value <br><br>\n",
    "     4. Python Program to Find the median of given list <br><br>\n",
    "     5. Python Program to Find Max profit of list by sell and buy single time <br><br>\n",
    "</h3>"
   ]
  },
  {
   "cell_type": "markdown",
   "metadata": {},
   "source": [
    "***"
   ]
  },
  {
   "cell_type": "markdown",
   "metadata": {},
   "source": [
    "<center> <font color='green' size=5>Solution for Practice set - 2</font></center>"
   ]
  },
  {
   "cell_type": "code",
   "execution_count": 1,
   "metadata": {},
   "outputs": [
    {
     "name": "stdout",
     "output_type": "stream",
     "text": [
      "Enter String for check palindrome: MOSOM\n",
      "MOSOM\n",
      "MOSOM\n",
      "True\n"
     ]
    }
   ],
   "source": [
    "# Palindrom using slicing\n",
    "\n",
    "a=input(\"Enter String for check palindrome: \")\n",
    "print(a)\n",
    "b = a[::-1]\n",
    "print(b)\n",
    "if a==b:\n",
    "    print(True)\n",
    "else:\n",
    "    print(False)"
   ]
  },
  {
   "cell_type": "code",
   "execution_count": 2,
   "metadata": {},
   "outputs": [
    {
     "name": "stdout",
     "output_type": "stream",
     "text": [
      "Enter String : vip!@#$%ndr(){[a\n",
      "After Removing Special Character vipndra\n"
     ]
    }
   ],
   "source": [
    "# Remove Special charactor from string\n",
    "a = [\";\", \"!\", \"*\", \"@\",\"_\",\"!\",\"#\",\"$\",\"%\",\"^\",\"&\",\"*\",\"(\",\")\",\"<\",\">\",\"?\",\"/\",\"|\",\"}\",\"{\",\"~\",\":\",\"[\",\"]\"] \n",
    "b = input(\"Enter String : \")\n",
    "for x in a : \n",
    "    b = b.replace(x, '') \n",
    "print(\"After Removing Special Character\",b) "
   ]
  },
  {
   "cell_type": "code",
   "execution_count": 3,
   "metadata": {},
   "outputs": [
    {
     "name": "stdout",
     "output_type": "stream",
     "text": [
      "ENTER String : vupe9827 dk$%^jgdKJ44\n",
      "vupe9827 dkjgdKJ44\n",
      "None\n"
     ]
    }
   ],
   "source": [
    "# Using Ascii Value\n",
    "def s(a):\n",
    "    x = (c for c in a if 47 < ord(c) <58 or 64 < ord(c) < 91 or 97 < ord(c) < 122 or ord(c)==32)\n",
    "    print(''.join(x))\n",
    "\n",
    "t = input(\"ENTER String : \")\n",
    "print(s(t))"
   ]
  },
  {
   "cell_type": "code",
   "execution_count": 4,
   "metadata": {
    "scrolled": true
   },
   "outputs": [
    {
     "name": "stdout",
     "output_type": "stream",
     "text": [
      "Median is :  5.5\n"
     ]
    }
   ],
   "source": [
    "# Find the median of given list\n",
    "\n",
    "a=[1,2,3,4,5,6,7,8,9,10]\n",
    "n=len(a)\n",
    "if n%2 == 0:\n",
    "    m = n//2\n",
    "    print(\"Median is : \",(a[m]+a[m-1])/2)\n",
    "else:\n",
    "    m = n//2\n",
    "    print(\"Median is : \",a[m])\n",
    "    "
   ]
  },
  {
   "cell_type": "code",
   "execution_count": 5,
   "metadata": {},
   "outputs": [
    {
     "name": "stdout",
     "output_type": "stream",
     "text": [
      "Enter String :vipendra\n",
      "4\n"
     ]
    }
   ],
   "source": [
    "# Check how many time an input letter occour in the given string\n",
    "\n",
    "bag = \"avvGDJag\"\n",
    "fav = input(\"Enter String :\")\n",
    "c=0\n",
    "for i in bag:\n",
    "    if i in fav:\n",
    "        c+=1\n",
    "print(c)"
   ]
  },
  {
   "cell_type": "code",
   "execution_count": 6,
   "metadata": {},
   "outputs": [
    {
     "name": "stdout",
     "output_type": "stream",
     "text": [
      "Profit :  [4]\n",
      "Profit :  [4, 3]\n",
      "Profit :  [4, 3, 3]\n",
      "Max profit 10\n"
     ]
    }
   ],
   "source": [
    "# Find Max profit of list by sell and buy single time\n",
    "b = [7,1,5,3,6,9]\n",
    "l=len(b)\n",
    "a=[]\n",
    "for i in range(1,l):\n",
    "    if b[i]>b[i-1]:\n",
    "        mx = b[i]-b[i-1]\n",
    "        a.append(mx)\n",
    "        print(\"Profit : \",a)\n",
    "print(\"Max profit\",sum(a))        "
   ]
  },
  {
   "cell_type": "markdown",
   "metadata": {},
   "source": [
    "***"
   ]
  },
  {
   "cell_type": "markdown",
   "metadata": {},
   "source": [
    "***"
   ]
  },
  {
   "cell_type": "markdown",
   "metadata": {},
   "source": [
    "<center><center> <font color='blue' size=5>Practice Set - 3</font></center> </center>"
   ]
  },
  {
   "cell_type": "markdown",
   "metadata": {},
   "source": [
    "<h3> 1. Python Program to Read a List of Words and Return the Length of the Longest One <br><br>\n",
    "     2. Python Program to find value 20 in the list, and if it is present, replace it with 200. Only update the first occurrence of a value <br><br>\n",
    "     3. Python Program to Access value 20 from the given tuple. aTuple = (\"Orange\", [10, 20, 30], (5, 15, 25)) <br><br>\n",
    "     4. Python Program to Counts the number of occurrences of item 50 from a tuple. tuple1 = (50, 10, 60, 70, 50) <br><br>\n",
    "</h3>"
   ]
  },
  {
   "cell_type": "markdown",
   "metadata": {},
   "source": [
    "***"
   ]
  },
  {
   "cell_type": "markdown",
   "metadata": {},
   "source": [
    "<center> <font color='green' size=5>Solution for Practice set - 3</font></center>"
   ]
  },
  {
   "cell_type": "code",
   "execution_count": 1,
   "metadata": {
    "scrolled": true
   },
   "outputs": [
    {
     "name": "stdout",
     "output_type": "stream",
     "text": [
      "[5, 6, 3, 7]\n",
      "Longest length of word is :  7\n"
     ]
    }
   ],
   "source": [
    "# Python Program to Read a List of Words and Return the Length of the Longest One\n",
    "\n",
    "a = [\"apple\" , \"banana\", \"man\", \"guavava\"]\n",
    "l = [len(i) for i in a]\n",
    "print(l)\n",
    "ml = max(l) \n",
    "print(\"Longest length of word is : \",ml) "
   ]
  },
  {
   "cell_type": "code",
   "execution_count": 2,
   "metadata": {},
   "outputs": [
    {
     "name": "stdout",
     "output_type": "stream",
     "text": [
      "[5, 15, 25, 20, 50, 30, 40, 20, 10]\n",
      "[5, 15, 25, 200, 50, 30, 40, 20, 10]\n"
     ]
    }
   ],
   "source": [
    "#Given a Python list, find value 20 in the list, and if it is present, replace it with 200. Only update the first occurrence of a value\n",
    "\n",
    "l = [5, 15, 25,20,50,30,40,20,10]\n",
    "print(l)\n",
    "i = l.index(20)  #checking index of 20\n",
    "l[i] = 200\n",
    "print(l)"
   ]
  },
  {
   "cell_type": "code",
   "execution_count": 3,
   "metadata": {},
   "outputs": [
    {
     "data": {
      "text/plain": [
       "20"
      ]
     },
     "execution_count": 3,
     "metadata": {},
     "output_type": "execute_result"
    }
   ],
   "source": [
    "# Access value 20 from the following tuple\n",
    "\n",
    "aTuple = (\"Orange\", [10, 20, 30], (5, 15, 25))\n",
    "aTuple[1][1]"
   ]
  },
  {
   "cell_type": "code",
   "execution_count": 4,
   "metadata": {},
   "outputs": [
    {
     "name": "stdout",
     "output_type": "stream",
     "text": [
      "2\n"
     ]
    }
   ],
   "source": [
    "# Counts the number of occurrences of item 50 from a tuple\n",
    "\n",
    "tuple1 = (50, 10, 60, 70, 50)\n",
    "c=0\n",
    "for x in tuple1:\n",
    "    if x==50:\n",
    "        c+=1\n",
    "print(c)"
   ]
  },
  {
   "cell_type": "markdown",
   "metadata": {},
   "source": [
    "***"
   ]
  },
  {
   "cell_type": "markdown",
   "metadata": {},
   "source": [
    "***"
   ]
  },
  {
   "cell_type": "markdown",
   "metadata": {},
   "source": [
    "<center><center> <font color='blue' size=5>Practice Set - 4</font></center> </center>"
   ]
  },
  {
   "cell_type": "markdown",
   "metadata": {},
   "source": [
    "<h3>student name=[Alice, John, Bob]<br>\n",
    "    Grade=[8,7,10]\n",
    "    \n",
    "     1. Give name of student scoring higest marks with his marks \n",
    "     2. Convert inito dictionary then do it again question 1\n",
    "     3. Python Program to Sum All the values present in given Dictionary \n",
    "     4. Python Program to Get the key corresponding to the minimum value from the following dictionary Sub 1: 6 Sub 2: 7 Sub 3: 5 \n",
    "     5. Python Program to Merge two dictionaries into one.\n",
    "</h3>"
   ]
  },
  {
   "cell_type": "markdown",
   "metadata": {},
   "source": [
    "***"
   ]
  },
  {
   "cell_type": "markdown",
   "metadata": {},
   "source": [
    "<center> <font color='green' size=5>Solution for Practice set - 4</font></center>"
   ]
  },
  {
   "cell_type": "code",
   "execution_count": 1,
   "metadata": {},
   "outputs": [
    {
     "name": "stdout",
     "output_type": "stream",
     "text": [
      "BOB 16\n",
      "TUR 16\n"
     ]
    }
   ],
   "source": [
    "# Give name of student scoring higest marks with his marks \n",
    "s = [\"alice\", \"john\",\"trum\", \"BOB\",\"Race\",\"TUR\"]\n",
    "grade = [8,7,9,16,11,16]\n",
    "l = max(grade)\n",
    "for i in range(len(s)):\n",
    "    if grade[i] ==l:\n",
    "            print(s[i],grade[i])"
   ]
  },
  {
   "cell_type": "code",
   "execution_count": 2,
   "metadata": {},
   "outputs": [
    {
     "name": "stdout",
     "output_type": "stream",
     "text": [
      "{'alice': 8, 'john': 7, 'trum': 9, 'BOB': 16, 'Race': 11, 'TUR': 16}\n",
      "16\n"
     ]
    }
   ],
   "source": [
    "# Give name of student scoring higest marks with his marks using dictionary\n",
    "s = [\"alice\", \"john\",\"trum\", \"BOB\",\"Race\",\"TUR\"]\n",
    "grade = [8,7,9,16,11,16]\n",
    "dt=dict(zip(s,grade))\n",
    "print(dt)\n",
    "m = max(dt.values())\n",
    "print(m)\n",
    "for i in dt:\n",
    "    if i==m:\n",
    "        print()"
   ]
  },
  {
   "cell_type": "code",
   "execution_count": 3,
   "metadata": {},
   "outputs": [
    {
     "name": "stdout",
     "output_type": "stream",
     "text": [
      "530\n"
     ]
    }
   ],
   "source": [
    "# Find Sum of All the values  in a Dictionary\n",
    "\n",
    "dict = {\"a\": 60, \"b\":150, \"c\":200,\"d\":120}\n",
    "s = 0\n",
    "for i in dict:\n",
    "    s = s + dict[i] \n",
    "print(s)\n",
    "    "
   ]
  },
  {
   "cell_type": "code",
   "execution_count": 4,
   "metadata": {},
   "outputs": [
    {
     "name": "stdout",
     "output_type": "stream",
     "text": [
      "dict_values([6, 7, 5])\n",
      "5\n",
      "Sub 3 5\n"
     ]
    }
   ],
   "source": [
    "# Get the key corresponding to the minimum value from the following dictionary\n",
    "\n",
    "\n",
    "a = {'Sub 1':6, 'Sub 2':7, 'Sub 3':5}\n",
    "print(a.values())\n",
    "value = min(a.values())\n",
    "print(value)\n",
    "for i in a: \n",
    "    if a[i] == value:\n",
    "        print(i,a[i])"
   ]
  },
  {
   "cell_type": "code",
   "execution_count": 5,
   "metadata": {},
   "outputs": [
    {
     "name": "stdout",
     "output_type": "stream",
     "text": [
      "{'a': 'apple', 'b': 'Banana', 'o': 'fruits', 'k': 'Kiwi', 'm': 'Mango'}\n"
     ]
    }
   ],
   "source": [
    "# Merge two dictionaries into one\n",
    "\n",
    "f1 = {'a': 'apple', 'b': 'Banana' , 'o': 'Orange'}\n",
    "f2 = { 'k': 'Kiwi', 'm': 'Mango','o': 'fruits'}\n",
    "f1.update(f2)\n",
    "print(f1)"
   ]
  },
  {
   "cell_type": "markdown",
   "metadata": {},
   "source": [
    "***"
   ]
  },
  {
   "cell_type": "markdown",
   "metadata": {},
   "source": [
    "***"
   ]
  },
  {
   "cell_type": "markdown",
   "metadata": {},
   "source": [
    "<center><center> <font color='blue' size=5>Practice Set - 5</font></center> </center>"
   ]
  },
  {
   "cell_type": "markdown",
   "metadata": {},
   "source": [
    "<h3> 1. Create a function showEmployee() in such a way that it should accept employee name, and it’s salary and display both, and if the salary is missing in function call it should show it as 9000 <br> <br>\n",
    "     2. Return the median of the given list<br>\n",
    "         \n",
    "   3. Make a menu driven calculator using functions.\n",
    "            Enter 1 to perform addition<br>\n",
    "            Enter 7 to exit<br>\n",
    "</h3>"
   ]
  },
  {
   "cell_type": "markdown",
   "metadata": {},
   "source": [
    "***"
   ]
  },
  {
   "cell_type": "markdown",
   "metadata": {},
   "source": [
    "<center> <font color='green' size=5>Solution for Practice set - 5</font></center>"
   ]
  },
  {
   "cell_type": "code",
   "execution_count": 1,
   "metadata": {},
   "outputs": [
    {
     "name": "stdout",
     "output_type": "stream",
     "text": [
      "Emp_name is :  Vipenn salary is: 5\n",
      "Emp_name is :  Vipen salary is: 9000\n"
     ]
    }
   ],
   "source": [
    "# Create a function showEmployee() in such a way that it should accept employee name, \n",
    "# and it’s salary and display both, and if the salary is missing in function call it should show it as 9000\n",
    "\n",
    "def showEmployee(a,b = 9000):\n",
    "    print(\"Emp_name is : \", a, \"salary is:\", b)\n",
    "\n",
    "showEmployee(\"Vipenn\",5)\n",
    "showEmployee(\"Vipen\",)"
   ]
  },
  {
   "cell_type": "code",
   "execution_count": 2,
   "metadata": {},
   "outputs": [
    {
     "name": "stdout",
     "output_type": "stream",
     "text": [
      "Median :  5\n",
      "Median :  6.5\n"
     ]
    }
   ],
   "source": [
    "# find meadian \n",
    "\n",
    "def median(list):\n",
    "    list.sort()\n",
    "    l = len(list)\n",
    "    mid = (l-1)//2\n",
    "    if(l%2==0):\n",
    "        return (list[mid] + list[mid+1])/2\n",
    "    else:\n",
    "        return list[mid]\n",
    "        \n",
    "list1 = [2, 3, 3, 5, 6, 7, 7]\n",
    "list2 = [3, 4, 6, 6, 7, 8, 8, 10]\n",
    "print(\"Median : \", median(list1))\n",
    "print(\"Median : \", median(list2))"
   ]
  },
  {
   "cell_type": "code",
   "execution_count": 3,
   "metadata": {
    "scrolled": false
   },
   "outputs": [
    {
     "name": "stdout",
     "output_type": "stream",
     "text": [
      "Enter Number For performing operation \n",
      "1. Addition \n",
      "2. Subtraction\n",
      "3. Multiplication \n",
      "4. Division \n",
      "7. Exit \n",
      "\n",
      "what operation do you want to do ?  4\n",
      "Enter two numbers\n",
      "Enter Nuber 1st : 1\n",
      "Enter Number 2nd : 0\n",
      "Division is :  invalid divisiual : division can not be zero\n"
     ]
    }
   ],
   "source": [
    "# Make a menu driven calculator using functions.\n",
    "# Enter 1 to perform addition & Enter 7 to exit\n",
    "\n",
    "def add(n1,n2):\n",
    "    return n1 + n2\n",
    "def sub(n1,n2):\n",
    "    return n1 - n2\n",
    "def mul(n1,n2):\n",
    "    return n1 * n2\n",
    "def div(n1,n2):\n",
    "    if n2 ==0:\n",
    "        return 'invalid divisiual : division can not be zero'\n",
    "    return n1 / n2\n",
    "\n",
    "print(\"Enter Number For performing operation \\n\" \"1. Addition \\n\" \"2. Subtraction\\n\" \"3. Multiplication \\n\"\"4. Division \\n\" \"7. Exit \\n\")\n",
    "\n",
    "s = int(input(\"what operation do you want to do ?  \"))\n",
    "\n",
    "if s>0 and s<5:\n",
    "    print(\"Enter two numbers\")\n",
    "    num1 = int(input(\"Enter Nuber 1st : \"))\n",
    "    num2 = int(input(\"Enter Number 2nd : \"))\n",
    "    if s==1:\n",
    "        print(\"Addition is : \",add(num1,num2))\n",
    "    elif s==2:\n",
    "        print(\"Subtraction is : \",sub(num1,num2))\n",
    "    elif s==3:\n",
    "        print(\"Multiplation is : \",mul(num1,num2))\n",
    "    else:\n",
    "        print(\"Division is : \",div(num1,num2))\n",
    "elif s==7:\n",
    "    pass \n",
    "else:\n",
    "    print(\"Invalid\")\n",
    "\n"
   ]
  },
  {
   "cell_type": "markdown",
   "metadata": {},
   "source": [
    "***"
   ]
  },
  {
   "cell_type": "markdown",
   "metadata": {},
   "source": [
    "<center> <font color='blue' size=5>END</font></center>"
   ]
  },
  {
   "cell_type": "markdown",
   "metadata": {},
   "source": [
    "***"
   ]
  }
 ],
 "metadata": {
  "kernelspec": {
   "display_name": "Python 3",
   "language": "python",
   "name": "python3"
  },
  "language_info": {
   "codemirror_mode": {
    "name": "ipython",
    "version": 3
   },
   "file_extension": ".py",
   "mimetype": "text/x-python",
   "name": "python",
   "nbconvert_exporter": "python",
   "pygments_lexer": "ipython3",
   "version": "3.7.4"
  }
 },
 "nbformat": 4,
 "nbformat_minor": 2
}
