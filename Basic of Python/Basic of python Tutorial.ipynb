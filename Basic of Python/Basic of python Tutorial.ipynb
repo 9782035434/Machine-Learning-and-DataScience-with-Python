{
 "cells": [
  {
   "cell_type": "markdown",
   "metadata": {},
   "source": [
    "# <center> Basic of Python <h3><a href = \"https://www.linkedin.com/in/vipendrapal-rajput-3a0674160/\" target = \"_self\">  Vipendra Pal Rajput </a></h3></center>"
   ]
  },
  {
   "cell_type": "markdown",
   "metadata": {},
   "source": [
    "***"
   ]
  },
  {
   "cell_type": "code",
   "execution_count": 1,
   "metadata": {},
   "outputs": [
    {
     "name": "stdout",
     "output_type": "stream",
     "text": [
      "<class 'int'>\n",
      "<class 'str'>\n"
     ]
    }
   ],
   "source": [
    "#casting \n",
    "# if you want to specify the data type variable this can be done by casting\n",
    "\n",
    "x=3\n",
    "print(type(x)) #check datatype\n",
    "x=str(3)\n",
    "print(type(x))\n"
   ]
  },
  {
   "cell_type": "code",
   "execution_count": 2,
   "metadata": {},
   "outputs": [
    {
     "name": "stdout",
     "output_type": "stream",
     "text": [
      "10\n",
      "7\n",
      "7\n"
     ]
    }
   ],
   "source": [
    "# case sensitive or latest value put\n",
    "\n",
    "a=10\n",
    "A=5\n",
    "A=7\n",
    "print(a)\n",
    "print(A)\n",
    "print(A)"
   ]
  },
  {
   "cell_type": "code",
   "execution_count": 3,
   "metadata": {},
   "outputs": [
    {
     "name": "stdout",
     "output_type": "stream",
     "text": [
      "John\n",
      "John\n",
      "John\n"
     ]
    }
   ],
   "source": [
    "#camel case \n",
    "# each word except the first start with capital letter\n",
    "\n",
    "myVariableName = \"John\"\n",
    "\n",
    "# Pascal case\n",
    "# each word start with capital letter\n",
    "\n",
    "MyVariableName = \"John\"\n",
    "\n",
    "#snake case\n",
    "#each word is seprate by underscore\n",
    "my_variable_name = \"John\"\n",
    "\n",
    "print(myVariableName)\n",
    "print(MyVariableName)\n",
    "print(my_variable_name)"
   ]
  },
  {
   "cell_type": "code",
   "execution_count": 4,
   "metadata": {},
   "outputs": [
    {
     "name": "stdout",
     "output_type": "stream",
     "text": [
      "Orange\n",
      "Banana\n",
      "Cherry\n",
      "('Orange', 'Banana', 'Cherry')\n"
     ]
    }
   ],
   "source": [
    "# Pyhton  variable : assign multiple variable\n",
    "\n",
    "x,y,z = \"Orange\", \"Banana\", \"Cherry\"\n",
    "xyz = \"Orange\", \"Banana\", \"Cherry\"\n",
    "print(x)\n",
    "print(y)\n",
    "print(z)\n",
    "print(xyz)"
   ]
  },
  {
   "cell_type": "code",
   "execution_count": 5,
   "metadata": {},
   "outputs": [
    {
     "name": "stdout",
     "output_type": "stream",
     "text": [
      "pythn isawasome\n",
      "pythn is3\n",
      "pythn is3\n",
      "pythn is 3\n"
     ]
    }
   ],
   "source": [
    "# Output variable\n",
    "#The python print statement is often used to output variable\n",
    "\n",
    "# to create both text and a variable python use the + charactor\n",
    "\n",
    "x = \"awasome\"\n",
    "y=3\n",
    "y=str(3)\n",
    "\n",
    "print(\"pythn is\"+x)\n",
    "print(\"pythn is\"+y)\n",
    "print(\"pythn is\"+str(y))\n",
    "print(\"pythn is\",3)\n"
   ]
  },
  {
   "cell_type": "code",
   "execution_count": 6,
   "metadata": {},
   "outputs": [
    {
     "name": "stdout",
     "output_type": "stream",
     "text": [
      "enter first number56\n",
      "56\n",
      "enter second number44\n",
      "44\n",
      "100\n",
      "<class 'int'>\n"
     ]
    }
   ],
   "source": [
    "# taking input from user\n",
    "\n",
    "a= int(input(\"enter first number\"))\n",
    "print(a)\n",
    "b= int(input(\"enter second number\"))\n",
    "print(b)\n",
    "c=a+b\n",
    "print(c)\n",
    "print(type(c))"
   ]
  },
  {
   "cell_type": "code",
   "execution_count": 7,
   "metadata": {},
   "outputs": [
    {
     "name": "stdout",
     "output_type": "stream",
     "text": [
      "Please Enter any numeric number-67\n",
      "Entered number is Negetive\n"
     ]
    }
   ],
   "source": [
    "# wheather an number is +VE or -VE or Zero\n",
    "\n",
    "x=int(input(\"Please Enter any numeric number\")) #take input from user\n",
    "if x<0:                                         #apply conditions\n",
    "    print(\"Entered number is Negetive\")\n",
    "elif x>0:\n",
    "    print(\"Entered number is Positive\")\n",
    "else:\n",
    "    print(\"Entered number is Zero\")"
   ]
  },
  {
   "cell_type": "code",
   "execution_count": 8,
   "metadata": {},
   "outputs": [
    {
     "name": "stdout",
     "output_type": "stream",
     "text": [
      "Enter number : 97\n",
      "Odd\n"
     ]
    }
   ],
   "source": [
    "# wheather number is odd or even\n",
    "\n",
    "x = int(input(\"Enter number : \"))\n",
    "\n",
    "if x%2 == 0:          # check reminder \n",
    "    print(\"Even\")\n",
    "else:\n",
    "    print(\"Odd\")"
   ]
  },
  {
   "cell_type": "code",
   "execution_count": 9,
   "metadata": {},
   "outputs": [
    {
     "name": "stdout",
     "output_type": "stream",
     "text": [
      "Enter 1st subject marks: 99\n",
      "99\n",
      "Enter 2nd subject marks: 88\n",
      "88\n",
      "Enter 3rd subject marks: 89\n",
      "89\n",
      "Enter 4th subject marks: 92\n",
      "92\n",
      "Enter 5th subject marks: 93\n",
      "93\n",
      "Average Number :  92.2\n",
      "\n",
      "\n",
      "Average Number is :  92.2 and Grade is B\n"
     ]
    }
   ],
   "source": [
    "# Check number range between 0 to 100 and take 5 input from user and gave grade\n",
    "\n",
    "while True:\n",
    "    a = int(input(\"Enter 1st subject marks: \"))\n",
    "    if 100>= a >= 0:\n",
    "        print(a)\n",
    "        break\n",
    "\n",
    "while True:\n",
    "    b = int(input(\"Enter 2nd subject marks: \"))\n",
    "    if 100>= b >= 0:\n",
    "        print(b)\n",
    "        break\n",
    "\n",
    "while True:\n",
    "    c = int(input(\"Enter 3rd subject marks: \"))\n",
    "    if 100>= c >= 0:\n",
    "        print(c)\n",
    "        break\n",
    "    \n",
    "while True:\n",
    "    d = int(input(\"Enter 4th subject marks: \"))\n",
    "    if 100>= d >= 0:\n",
    "        print(d)\n",
    "        break\n",
    "while True:\n",
    "    e = int(input(\"Enter 5th subject marks: \"))\n",
    "    if 100>= e >= 0:\n",
    "        print(e)\n",
    "        break\n",
    "        \n",
    "num = ((a+b+c+d+e)/500)*100          #Restore values and find percentage\n",
    "print(\"Average Number : \",num)\n",
    "print(\"\\n\")\n",
    "if num <80:\n",
    "    print(\"Average Number is : \",str(num) +\" and Grade is D\")\n",
    "elif num>=95:\n",
    "    print(\"Average Number is : \",str(num) +\" and Grade is A\")\n",
    "elif num>=88:\n",
    "    print(\"Average Number is : \",str(num) +\" and Grade is B\")\n",
    "elif num>=80:\n",
    "    print(\"Average Number is : \",str(num) +\" and Grade is C\")"
   ]
  },
  {
   "cell_type": "code",
   "execution_count": 10,
   "metadata": {},
   "outputs": [
    {
     "name": "stdout",
     "output_type": "stream",
     "text": [
      "True\n",
      "False\n",
      "True\n"
     ]
    }
   ],
   "source": [
    "# Python Identity operator\n",
    "# Identity operator are used to compare the object\n",
    "\n",
    "x = [\"apple\", \"banaba\"]\n",
    "y = [\"apple\", \"banaba\"]\n",
    "z = x\n",
    "print(x is z)\n",
    "\n",
    "#return true because it has same object\n",
    "\n",
    "print(x is y)\n",
    "# different object\n",
    "\n",
    "print(x == y)\n",
    "# compare return true because it equal to y"
   ]
  },
  {
   "cell_type": "code",
   "execution_count": 11,
   "metadata": {},
   "outputs": [
    {
     "name": "stdout",
     "output_type": "stream",
     "text": [
      "True\n",
      "False\n"
     ]
    }
   ],
   "source": [
    "# Python membership operator\n",
    "# membership operator used to test sequence is present in an object : in , not in\n",
    "x = [\"apple\", \"banana\"]\n",
    "\n",
    "print(\"kiwi\" not in x)\n",
    "print(\"kiwi\" in x)"
   ]
  },
  {
   "cell_type": "code",
   "execution_count": 12,
   "metadata": {},
   "outputs": [
    {
     "name": "stdout",
     "output_type": "stream",
     "text": [
      "14\n"
     ]
    }
   ],
   "source": [
    "# calculate string length\n",
    "\n",
    "a = \"hello , world!\"\n",
    "c=0\n",
    "for x in a:\n",
    "    c+=1\n",
    "print(c)"
   ]
  },
  {
   "cell_type": "code",
   "execution_count": 13,
   "metadata": {},
   "outputs": [
    {
     "name": "stdout",
     "output_type": "stream",
     "text": [
      "3\n"
     ]
    }
   ],
   "source": [
    "# Count an specific word how much times it comes\n",
    "\n",
    "a=\"hello my name is xyz, my age is xyz, i work for xyz\"\n",
    "c=0\n",
    "for x in a:\n",
    "    if x is \"z\":\n",
    "        c+=1\n",
    "print(c)"
   ]
  },
  {
   "cell_type": "code",
   "execution_count": 14,
   "metadata": {},
   "outputs": [
    {
     "name": "stdout",
     "output_type": "stream",
     "text": [
      "Enter : Hello world!\n",
      "!ello worldH\n"
     ]
    }
   ],
   "source": [
    "#swap first and last charactor of string using slicing\n",
    "\n",
    "a=input(\"Enter : \")\n",
    "print(a[-1]+a[1:-1]+a[0])"
   ]
  },
  {
   "cell_type": "code",
   "execution_count": 15,
   "metadata": {},
   "outputs": [
    {
     "name": "stdout",
     "output_type": "stream",
     "text": [
      "Enter String : vipendra pal rajput\n",
      "vipendra@pal@rajput\n"
     ]
    }
   ],
   "source": [
    "# Replace space using special charactor\n",
    "\n",
    "a = input(\"Enter String : \")\n",
    "a = a.replace(' ','@')\n",
    "print(a)"
   ]
  },
  {
   "cell_type": "code",
   "execution_count": 16,
   "metadata": {},
   "outputs": [
    {
     "name": "stdout",
     "output_type": "stream",
     "text": [
      "Enter : hello user i am vipendra\n",
      "5\n",
      "24\n"
     ]
    }
   ],
   "source": [
    "# Count charactor and word \n",
    "\n",
    "a = input(\"Enter : \")\n",
    "c=0\n",
    "d=0\n",
    "for x in a:\n",
    "    c+=1\n",
    "    if x == \" \":\n",
    "        d+=1\n",
    "print(d+1)\n",
    "print(c)"
   ]
  },
  {
   "cell_type": "code",
   "execution_count": 17,
   "metadata": {},
   "outputs": [
    {
     "name": "stdout",
     "output_type": "stream",
     "text": [
      "5\n",
      "5\n",
      "2\n"
     ]
    }
   ],
   "source": [
    "#count charactor and digit with lower and upper\n",
    "\n",
    "s=\"helloWORLD45\"\n",
    "c=0\n",
    "d=0\n",
    "t=0    \n",
    "for x in s: \n",
    "    if x>='a'and x<='z': \n",
    "        c+=1                 \n",
    "    if x>='A'and x<='Z': \n",
    "        d+=1\n",
    "    if x>='0' and x<='9':\n",
    "        t+=1\n",
    "print(c) \n",
    "print(d)     \n",
    "print(t)"
   ]
  },
  {
   "cell_type": "code",
   "execution_count": 18,
   "metadata": {},
   "outputs": [
    {
     "data": {
      "text/plain": [
       "'dlrow 0lleh'"
      ]
     },
     "execution_count": 18,
     "metadata": {},
     "output_type": "execute_result"
    }
   ],
   "source": [
    "#Reverse string using slicing\n",
    "\n",
    "a=\"hell0 world\"\n",
    "a[::-1]"
   ]
  },
  {
   "cell_type": "code",
   "execution_count": 19,
   "metadata": {},
   "outputs": [
    {
     "name": "stdout",
     "output_type": "stream",
     "text": [
      "3\n"
     ]
    }
   ],
   "source": [
    "# Count number of elemnets in list\n",
    "a = [\"apple\",\"banana\", \"cherry\"]\n",
    "c=0\n",
    "for x in a:\n",
    "    c+=1\n",
    "print(c)"
   ]
  },
  {
   "cell_type": "code",
   "execution_count": 20,
   "metadata": {},
   "outputs": [
    {
     "name": "stdout",
     "output_type": "stream",
     "text": [
      "Enter How many students data you want to enter2\n",
      "enter name : Vipendra\n",
      "enter Age : 22\n",
      "Grade : 8\n",
      "enter Class : IT94\n",
      "enter name : Ajay\n",
      "enter Age : 24\n",
      "Grade : 9\n",
      "enter Class : CS04\n",
      "['Vipendra', 'Ajay', 22, 24, 8, 9, 'IT94', 'CS04']\n",
      "my name is Vipendra and my age is 22 and i get 8 grade in class IT94\n",
      "my name is Ajay and my age is 24 and i get 9 grade in class CS04\n"
     ]
    }
   ],
   "source": [
    "name = []    # take empty list\n",
    "age = []\n",
    "clas=[]\n",
    "grade=[]\n",
    "num = int(input(\"Enter How many students data you want to enter\")) # take input from user \n",
    "for i in range(0,num): #In range of input\n",
    "    while True:\n",
    "        a = input(\"enter name : \")\n",
    "        if a.isalpha() == True:\n",
    "            #print(a)\n",
    "            name.append(a)\n",
    "            break\n",
    "    while True:\n",
    "        b = int(input(\"enter Age : \"))\n",
    "        if b>=20 and b<=40:\n",
    "            #print(b)\n",
    "            age.append(b)\n",
    "            break\n",
    "\n",
    "    while True:\n",
    "        c = int(input(\"Grade : \"))\n",
    "        if c>=0 and c<=9:\n",
    "            #print(c)\n",
    "            grade.append(c)\n",
    "            break\n",
    "    while True:\n",
    "        d = input(\"enter Class : \")\n",
    "        e =len(d)\n",
    "        if e ==4:\n",
    "            d.isalnum()\n",
    "            #print(d)\n",
    "            clas.append(d)\n",
    "            break\n",
    "        \n",
    "\n",
    "listss = name+age+grade+clas\n",
    "print(listss)\n",
    "\n",
    "for i in range(0,num):\n",
    "    listt = \"my name is {} and my age is {} and i get {} grade in class {}\".format(name[i],age[i],grade[i],clas[i])\n",
    "    print(listt)"
   ]
  },
  {
   "cell_type": "code",
   "execution_count": 21,
   "metadata": {},
   "outputs": [
    {
     "name": "stdout",
     "output_type": "stream",
     "text": [
      "[5, 10, 30, 40, 50]\n"
     ]
    }
   ],
   "source": [
    "# Programme for bubble sort\n",
    "\n",
    "a = [10,50,30,40,5]\n",
    "b=len(a)\n",
    "for i in range(0,b):\n",
    "    for j in range(0,b-1):\n",
    "        if(a[j] > a[j+1]):\n",
    "            temp = a[j]\n",
    "            a[j] = a[j+1]\n",
    "            a[j+1] = temp\n",
    "print(a)"
   ]
  },
  {
   "cell_type": "code",
   "execution_count": 22,
   "metadata": {},
   "outputs": [
    {
     "name": "stdout",
     "output_type": "stream",
     "text": [
      "(3.6, 'dog', 4)\n",
      "3.6\n",
      "dog\n",
      "4\n"
     ]
    }
   ],
   "source": [
    "#packing \n",
    "my_tuple = 3.6, \"dog\", 4\n",
    "print(my_tuple)\n",
    "#unpacking\n",
    "a,b,c = my_tuple\n",
    "print(a)\n",
    "print(b)\n",
    "print(c)"
   ]
  },
  {
   "cell_type": "code",
   "execution_count": 23,
   "metadata": {},
   "outputs": [
    {
     "name": "stdout",
     "output_type": "stream",
     "text": [
      "2\n",
      "('hello',)\n",
      "('hello',)\n"
     ]
    }
   ],
   "source": [
    "#single variable is not tuple\n",
    "a= 2\n",
    "print(a)\n",
    "#make single value tuple\n",
    "m=(\"hello\",)\n",
    "print(m)\n",
    "m = \"hello\",\n",
    "print(m)"
   ]
  },
  {
   "cell_type": "code",
   "execution_count": 24,
   "metadata": {},
   "outputs": [
    {
     "name": "stdout",
     "output_type": "stream",
     "text": [
      "enter index3\n",
      "enter elementHive\n",
      "['vip', 'end', 'ra', 'pal']\n",
      "['vip', 'end', 'ra', 'Hive', 'pal']\n"
     ]
    }
   ],
   "source": [
    "# insert element in list\n",
    "\n",
    "def s(idx,el,lst):\n",
    "    print(lst)\n",
    "    lst1 = lst[:idx]\n",
    "    lst1.append(el)\n",
    "    lst1 +=lst[idx:]\n",
    "    print(lst1)\n",
    "\n",
    "idx=int(input(\"enter index\"))\n",
    "el=input(\"enter element\")\n",
    "lst=[\"vip\",\"end\",\"ra\",\"pal\"]\n",
    "s(idx,el,lst)"
   ]
  },
  {
   "cell_type": "code",
   "execution_count": 25,
   "metadata": {},
   "outputs": [
    {
     "name": "stdout",
     "output_type": "stream",
     "text": [
      "['apple', 'banana', ['SEEk', 'ACE', 'cherry', '6']]\n"
     ]
    }
   ],
   "source": [
    "#append list in another list\n",
    "\n",
    "def s1(l,t):\n",
    "    print(l[:]+[t])\n",
    "l=[\"apple\",\"banana\"]\n",
    "t=[\"SEEk\",\"ACE\",\"cherry\",\"6\"]\n",
    "s1(l,t)"
   ]
  },
  {
   "cell_type": "code",
   "execution_count": 26,
   "metadata": {},
   "outputs": [
    {
     "name": "stdout",
     "output_type": "stream",
     "text": [
      "['apple', 'banana', 'SEEk', 'ACE', 'cherry', '6']\n"
     ]
    }
   ],
   "source": [
    "# Extend another list\n",
    "\n",
    "def s1(l,t):\n",
    "    print(l[:]+t[:])\n",
    "l=[\"apple\",\"banana\"]\n",
    "t=[\"SEEk\",\"ACE\",\"cherry\",\"6\"]\n",
    "s1(l,t)"
   ]
  },
  {
   "cell_type": "code",
   "execution_count": 27,
   "metadata": {},
   "outputs": [
    {
     "name": "stdout",
     "output_type": "stream",
     "text": [
      "4\n"
     ]
    }
   ],
   "source": [
    "# check length of the string without direct len function\n",
    "\n",
    "a = [\"apple\",\"banana\",\"mango\",\"charry\"]\n",
    "c =0\n",
    "while c!=len(a):\n",
    "    c+=1\n",
    "print(c)"
   ]
  },
  {
   "cell_type": "code",
   "execution_count": 28,
   "metadata": {},
   "outputs": [
    {
     "name": "stdout",
     "output_type": "stream",
     "text": [
      "enter string :i am vipendra pal rajput\n",
      "['i', 'am', 'vipendra', 'pal', 'rajput']\n"
     ]
    }
   ],
   "source": [
    "# take input & check minimum input 5\n",
    "def s():\n",
    "    while True:\n",
    "        a=input(\"enter string :\") # take input from user\n",
    "        b=a.split(\" \")   #break string when we found space in string\n",
    "        print(b)\n",
    "        if len(b)>=5:\n",
    "            break\n",
    "s()"
   ]
  },
  {
   "cell_type": "code",
   "execution_count": 29,
   "metadata": {},
   "outputs": [
    {
     "name": "stdout",
     "output_type": "stream",
     "text": [
      "enter string :i am vipendra\n",
      "['i', 'am', 'vipendra']\n",
      "enter string :i am vipendra pal rajput\n",
      "['i', 'am', 'vipendra', 'pal', 'rajput']\n",
      "1 i\n",
      "2 am\n",
      "3 vipendra\n",
      "4 pal\n",
      "5 rajput\n"
     ]
    }
   ],
   "source": [
    "# take input & check minimum input 5 and nubering index on which number\n",
    "def s():\n",
    "    while True:\n",
    "        a=input(\"enter string :\") # take input from user\n",
    "        b=a.split(\" \")   #break string when we found space in string\n",
    "        print(b)\n",
    "        if len(b)>=5:\n",
    "            for i in range(0,len(b)):\n",
    "                print(i+1,b[i])  # print index and elements\n",
    "            break\n",
    "s()"
   ]
  },
  {
   "cell_type": "code",
   "execution_count": 30,
   "metadata": {},
   "outputs": [
    {
     "name": "stdout",
     "output_type": "stream",
     "text": [
      "enter string :hello my name is vipen\n",
      "['hello', 'my', 'name', 'is', 'vipen']\n",
      "1 5 hello\n",
      "2 2 my\n",
      "3 4 name\n",
      "4 2 is\n",
      "5 5 vipen\n"
     ]
    }
   ],
   "source": [
    "# take input & check minimum input 5 and nubering index\n",
    "def s():\n",
    "    while True:\n",
    "        a=input(\"enter string :\") # take input from user\n",
    "        b=a.split(\" \")   #break string when we found space in string\n",
    "        print(b)\n",
    "        if len(b)>=5:\n",
    "            for i in range(0,len(b)):\n",
    "                print(i+1,len(b[i]),b[i])    # print index and elements\n",
    "            break\n",
    "s()"
   ]
  },
  {
   "cell_type": "code",
   "execution_count": 31,
   "metadata": {},
   "outputs": [
    {
     "name": "stdout",
     "output_type": "stream",
     "text": [
      "name of user is abc and have index 1\n",
      "name of user is def and have index 2\n",
      "name of user is ghi and have index 3\n",
      "name of user is jkl and have index 4\n"
     ]
    }
   ],
   "source": [
    "users = [\"abc\",\"def\",\"ghi\",\"jkl\"]\n",
    "choice = [\"1\",\"2\",\"3\",\"4\"]\n",
    "for i in range(0,len(users)):\n",
    "    t = \"name of user is {} and have index {}\".format(users[i],choice[i])\n",
    "    print(t)"
   ]
  },
  {
   "cell_type": "code",
   "execution_count": 32,
   "metadata": {},
   "outputs": [
    {
     "name": "stdout",
     "output_type": "stream",
     "text": [
      "name of user is 1 and have index abc\n",
      "name of user is 2 and have index def\n",
      "name of user is 3 and have index ghi\n",
      "name of user is 4 and have index jkl\n"
     ]
    }
   ],
   "source": [
    "users = [\"abc\",\"def\",\"ghi\",\"jkl\"]\n",
    "choice = [\"1\",\"2\",\"3\",\"4\"]\n",
    "for i in range(0,len(users)):\n",
    "    t = \"name of user is {1} and have index {0}\".format(users[i],choice[i])\n",
    "    print(t)"
   ]
  },
  {
   "cell_type": "markdown",
   "metadata": {},
   "source": [
    "***"
   ]
  },
  {
   "cell_type": "markdown",
   "metadata": {},
   "source": [
    "### Sets {}"
   ]
  },
  {
   "cell_type": "code",
   "execution_count": 1,
   "metadata": {},
   "outputs": [
    {
     "name": "stdout",
     "output_type": "stream",
     "text": [
      "{'b', 'd', 'a', 'c'}\n"
     ]
    }
   ],
   "source": [
    "# a set is unordered or unindexed\n",
    "\n",
    "a = {\"a\",\"b\",\"c\",\"d\"}\n",
    "print(a)"
   ]
  },
  {
   "cell_type": "code",
   "execution_count": 2,
   "metadata": {},
   "outputs": [
    {
     "name": "stdout",
     "output_type": "stream",
     "text": [
      "{'e', 'r', 'd', 'b', 'a'}\n",
      "{'e', 'r', 'd', 'b', 'vip', 'a'}\n",
      "{'e', 'r', 'd', 'b', 'vip', 'a'}\n",
      "{'e', 'r', 'd', 'b', 'vip', 'a'}\n",
      "{'e', 'r', 'd', 'b', 'vip', 'a'}\n",
      "{'e', 'r', 'd', 'b', 'vip', 'a'}\n",
      "{'e', 'r', 'd', 'b', 'vip', 'a'}\n"
     ]
    }
   ],
   "source": [
    "# set do not allow duplicate values\n",
    "\n",
    "a={\"a\",\"b\",\"a\",\"d\",\"e\",\"r\",\"d\"}\n",
    "print(a)\n",
    "a.add(\"vip\")\n",
    "for x in a:\n",
    "    print(a)"
   ]
  },
  {
   "cell_type": "code",
   "execution_count": 3,
   "metadata": {},
   "outputs": [
    {
     "name": "stdout",
     "output_type": "stream",
     "text": [
      "{'b', 1, 2, 3, 'a', 'c', 'd'}\n",
      "\n",
      "\n",
      "{1, 2, 3, 'c', 'd', 'b'}\n",
      "\n",
      "\n",
      "{1, 2, 5}\n"
     ]
    }
   ],
   "source": [
    "# apply union function to merge to sets but they arrenge in unordered format\n",
    "\n",
    "set = {\"a\",\"b\",\"c\",\"d\"}\n",
    "set1={1,2,3}\n",
    "set3 = set.union(set1)\n",
    "print(set3)\n",
    "print('\\n')\n",
    "# to remove repetated values from set we use intersection\n",
    "\n",
    "set = {\"a\",\"b\",\"c\",\"d\"}\n",
    "set1={1,2,3,'a'}\n",
    "set3 = set.union(set1)-set.intersection(set1)\n",
    "print(set3)\n",
    "\n",
    "print('\\n')\n",
    "\n",
    "# Print that is comman value in two sets\n",
    "\n",
    "s={1,2,3,4,5}\n",
    "s1={5,6,7,1,2}\n",
    "print(s1.intersection(s))"
   ]
  },
  {
   "cell_type": "code",
   "execution_count": 1,
   "metadata": {
    "scrolled": true
   },
   "outputs": [
    {
     "name": "stdout",
     "output_type": "stream",
     "text": [
      "Please enter : vipendraVIPENDRA\n",
      "6\n"
     ]
    }
   ],
   "source": [
    "# Count vowels on the bases of set\n",
    "\n",
    "s=input(\"Please enter : \");\n",
    "d=set(\"aeiouAEIOU\")\n",
    "c=0\n",
    "for i in s:\n",
    "    if i in d:\n",
    "           c+=1;    \n",
    "print(c)"
   ]
  },
  {
   "cell_type": "code",
   "execution_count": 2,
   "metadata": {},
   "outputs": [
    {
     "name": "stdout",
     "output_type": "stream",
     "text": [
      "{3, 4, 6, 7}\n"
     ]
    }
   ],
   "source": [
    "# Print that is not comman value in two sets\n",
    "\n",
    "s={1,2,3,4,5}\n",
    "s1={5,6,7,1,2}\n",
    "s3 = set()\n",
    "for i in s:\n",
    "    if i not in s1:\n",
    "        s3.add(i)\n",
    "for i in s1:\n",
    "    if i not in s:\n",
    "        s3.add(i)\n",
    "    \n",
    "print(s3) "
   ]
  },
  {
   "cell_type": "markdown",
   "metadata": {},
   "source": [
    "### Dictionary\n"
   ]
  },
  {
   "cell_type": "code",
   "execution_count": 3,
   "metadata": {},
   "outputs": [
    {
     "name": "stdout",
     "output_type": "stream",
     "text": [
      "{'brand': 'Ford', 'model': 'mustang', 'Year': 1999}\n"
     ]
    }
   ],
   "source": [
    "# Print dictionary \n",
    "\n",
    "the = {\n",
    "    \"brand\":\"Ford\",\n",
    "    \"model\":\"mustang\",\n",
    "    \"Year\":1999,\n",
    "}\n",
    "print(the)"
   ]
  },
  {
   "cell_type": "code",
   "execution_count": 4,
   "metadata": {},
   "outputs": [
    {
     "name": "stdout",
     "output_type": "stream",
     "text": [
      "1999\n",
      "{'brand': 'Ford', 'model': 'mustang', 'Year': 1988}\n",
      "1988\n",
      "{'brand': 'Ford', 'model': 'mustang', 'Year': 1988, 'elc': True, 'colors': ['red', 'blac']}\n"
     ]
    }
   ],
   "source": [
    "# Print dictionary value on the bases of keys\n",
    "\n",
    "the = {\n",
    "    \"brand\":\"Ford\",\n",
    "    \"model\":\"mustang\",\n",
    "    \"Year\":1999,\n",
    "}\n",
    "print(the[\"Year\"])\n",
    "\n",
    "\n",
    "# if we enter duplicate value in list then it take latest value by default\n",
    "\n",
    "the = {\n",
    "    \"brand\":\"Ford\",\n",
    "    \"model\":\"mustang\",\n",
    "    \"Year\":1999,\n",
    "    \"Year\":1988\n",
    "}\n",
    "print(the)\n",
    "print(the[\"Year\"])\n",
    "\n",
    "\n",
    "# Dictionary contains all string int boolean and list inside dict\n",
    "\n",
    "the = {\n",
    "    \"brand\":\"Ford\",\n",
    "    \"model\":\"mustang\",\n",
    "    \"Year\":1999,\n",
    "    \"elc\":True,\n",
    "    \"Year\":1988,\n",
    "    \"colors\":[\"red\",\"blac\"]\n",
    "}\n",
    "print(the)"
   ]
  },
  {
   "cell_type": "code",
   "execution_count": 5,
   "metadata": {},
   "outputs": [
    {
     "name": "stdout",
     "output_type": "stream",
     "text": [
      "dict_keys(['brand', 'model', 'Year'])\n",
      "dict_values(['Ford', 'mustang', 1988])\n",
      "dict_keys(['brand', 'model', 'Year', 'color'])\n",
      "dict_values(['Ford', 'mustang', 1988, 'white'])\n"
     ]
    }
   ],
   "source": [
    "# Updeting keys\n",
    "car = {\n",
    "    \"brand\":\"Ford\",\n",
    "    \"model\":\"mustang\",\n",
    "    \"Year\":1999,\n",
    "    \"Year\":1988\n",
    "}\n",
    "x=car.keys()\n",
    "y=car.values()\n",
    "\n",
    "print(x)\n",
    "print(y)\n",
    "car[\"color\"]=\"white\"\n",
    "\n",
    "x=car.keys()\n",
    "y=car.values()\n",
    "\n",
    "print(x)\n",
    "print(y)\n"
   ]
  },
  {
   "cell_type": "code",
   "execution_count": 6,
   "metadata": {},
   "outputs": [
    {
     "name": "stdout",
     "output_type": "stream",
     "text": [
      "dict_items([('brand', 'Ford'), ('model', 'mustang'), ('Year', 1988)])\n",
      "dict_items([('brand', 'Ford'), ('model', 'mustang'), ('Year', 2020)])\n"
     ]
    }
   ],
   "source": [
    "# access items\n",
    "# Updeting keys\n",
    "car = {\n",
    "    \"brand\":\"Ford\",\n",
    "    \"model\":\"mustang\",\n",
    "    \"Year\":1999,\n",
    "    \"Year\":1988\n",
    "}\n",
    "x=car.items()\n",
    "\n",
    "print(x)\n",
    "car[\"Year\"]=2020\n",
    "\n",
    "print(x)"
   ]
  },
  {
   "cell_type": "code",
   "execution_count": 7,
   "metadata": {},
   "outputs": [
    {
     "name": "stdout",
     "output_type": "stream",
     "text": [
      "brand\n",
      "model\n",
      "Year\n",
      "\n",
      "\n",
      "Ford\n",
      "mustang\n",
      "2020\n",
      "\n",
      "\n",
      "brand Ford\n",
      "model mustang\n",
      "Year 2020\n",
      "\n",
      "\n",
      "('brand', 'Ford')\n",
      "('model', 'mustang')\n",
      "('Year', 2020)\n",
      "/n\n",
      "brand Ford\n",
      "model mustang\n",
      "Year 2020\n"
     ]
    }
   ],
   "source": [
    "for x in car:\n",
    "    print(x)\n",
    "    \n",
    "print('\\n')\n",
    "\n",
    "for x in car:\n",
    "    print(car[x])\n",
    "    \n",
    "    \n",
    "print('\\n')\n",
    "\n",
    "for x in car:\n",
    "    print(x,car[x])\n",
    "    \n",
    "print('\\n')\n",
    "\n",
    "for x in car.items():\n",
    "    print(x)\n",
    "    \n",
    "print('/n')\n",
    "\n",
    "for x,y in car.items():\n",
    "    print(x,y)"
   ]
  },
  {
   "cell_type": "code",
   "execution_count": 8,
   "metadata": {},
   "outputs": [
    {
     "name": "stdout",
     "output_type": "stream",
     "text": [
      "{'brand': 'Ford', 'model': 'mustang', 'Year': 1988}\n"
     ]
    }
   ],
   "source": [
    "car = {\n",
    "    \"brand\":\"Ford\",\n",
    "    \"model\":\"mustang\",\n",
    "    \"Year\":1999,\n",
    "    \"Year\":1988\n",
    "}\n",
    "mycar = car.copy()\n",
    "print(mycar)"
   ]
  },
  {
   "cell_type": "code",
   "execution_count": 9,
   "metadata": {},
   "outputs": [
    {
     "name": "stdout",
     "output_type": "stream",
     "text": [
      "{'child': {'name': 'Email', 'year': 2004}, 'child1': {'name': 'tobias', 'year': 2006}, 'child2': {'name': 'tins', 'year': 2011}}\n",
      "\n",
      "\n",
      "dict_values([{'name': 'Email', 'year': 2004}, {'name': 'tobias', 'year': 2006}, {'name': 'tins', 'year': 2011}])\n",
      "\n",
      "\n",
      "dict_keys(['child', 'child1', 'child2'])\n",
      "\n",
      "\n",
      "dict_items([('child', {'name': 'Email', 'year': 2004}), ('child1', {'name': 'tobias', 'year': 2006}), ('child2', {'name': 'tins', 'year': 2011})])\n"
     ]
    }
   ],
   "source": [
    "myfam = {\n",
    "    \"child\":{\n",
    "        \"name\":\"Email\",\n",
    "        \"year\":2004\n",
    "    },\n",
    "    \"child1\":{\n",
    "        \"name\":\"tobias\",\n",
    "        \"year\":2006\n",
    "    },\n",
    "    \"child2\":{\n",
    "        \"name\":\"tins\",\n",
    "        \"year\":2011\n",
    "    },\n",
    "}\n",
    "\n",
    "\n",
    "print(myfam)\n",
    "print(\"\\n\")\n",
    "print(myfam.values())\n",
    "print(\"\\n\")\n",
    "\n",
    "print(myfam.keys())\n",
    "print(\"\\n\")\n",
    "\n",
    "print(myfam.items())"
   ]
  },
  {
   "cell_type": "code",
   "execution_count": 10,
   "metadata": {},
   "outputs": [
    {
     "name": "stdout",
     "output_type": "stream",
     "text": [
      "{'c1': {'name': 'Email', 'year': 2004}, 'c2': {'name': 'tobias', 'year': 2006}, 'c3': {'name': 'tins', 'year': 2011}}\n",
      "\n",
      "\n"
     ]
    }
   ],
   "source": [
    "child = {\n",
    "    \"name\":\"Email\",\n",
    "    \"year\":2004\n",
    "}\n",
    "child1= {\n",
    "    \"name\":\"tobias\",\n",
    "    \"year\":2006\n",
    "}\n",
    "child2 = {\n",
    "    \"name\":\"tins\",\n",
    "    \"year\":2011\n",
    "}\n",
    "myfam={\n",
    "    \"c1\" :child,\n",
    "    \"c2\":child1,\n",
    "    \"c3\": child2\n",
    "}\n",
    "\n",
    "\n",
    "print(myfam)\n",
    "print(\"\\n\")\n"
   ]
  },
  {
   "cell_type": "code",
   "execution_count": 11,
   "metadata": {},
   "outputs": [
    {
     "name": "stdout",
     "output_type": "stream",
     "text": [
      "enyter addedvipenra\n",
      "enter grade  value8\n",
      "{'vipenra': '8'}\n"
     ]
    }
   ],
   "source": [
    "# take input and pair them as the key and values\n",
    "\n",
    "key = input(\"enyter added\")\n",
    "value = input(\"enter grade  value\")\n",
    "d={}\n",
    "d.update({key:value})\n",
    "print(d)"
   ]
  },
  {
   "cell_type": "code",
   "execution_count": 12,
   "metadata": {},
   "outputs": [
    {
     "name": "stdout",
     "output_type": "stream",
     "text": [
      "enter how many entry you want to enter3\n",
      "enyter keys : Vipen\n",
      "enter values : 7\n",
      "{'Vipen': '7'}\n",
      "enyter keys : ajay\n",
      "enter values : 8\n",
      "{'Vipen': '7', 'ajay': '8'}\n",
      "enyter keys : harsh\n",
      "enter values : 3\n",
      "{'Vipen': '7', 'ajay': '8', 'harsh': '3'}\n"
     ]
    }
   ],
   "source": [
    "# take input from user to enter in dictionary key and values\n",
    "\n",
    "num = int(input(\"enter how many entry you want to enter\"))\n",
    "d={}\n",
    "for i in range(0,num):\n",
    "    key = input(\"enyter keys : \")\n",
    "    value = input(\"enter values : \")\n",
    "    d.update({key:value})\n",
    "    print(d)"
   ]
  },
  {
   "cell_type": "code",
   "execution_count": 13,
   "metadata": {},
   "outputs": [
    {
     "name": "stdout",
     "output_type": "stream",
     "text": [
      "{'a': 1, 'b': 2, 'c': 3}\n"
     ]
    }
   ],
   "source": [
    "# Merge to dictionay on the bases of key & value pairs\n",
    "x=[\"a\",\"b\",\"c\"]\n",
    "v=[1,2,3]\n",
    "d=dict(zip(x,v))\n",
    "print(d)"
   ]
  },
  {
   "cell_type": "code",
   "execution_count": 14,
   "metadata": {},
   "outputs": [
    {
     "name": "stdout",
     "output_type": "stream",
     "text": [
      "Enter namevipendra pal\n",
      "['Vipendra', 'Pal']\n",
      "{'Fname': 'Vipendra', 'Lname': 'Pal'}\n",
      "enter marks: 44\n",
      "enter marks: 55\n",
      "enter marks: 66\n",
      "[44, 55, 66]\n",
      "44 55 66\n"
     ]
    }
   ],
   "source": [
    "# Enter Name and last name and capital first letter and enter marks and grade\n",
    "\n",
    "#num = int(input(\"enter number\"))\n",
    "#for i in range(0,num):\n",
    "\n",
    "d = []\n",
    "f,g = \"Fname\",\"Lname\"\n",
    "d.append(f)\n",
    "d.append(g)\n",
    "\n",
    "a = input(\"Enter name\")\n",
    "gg = a.title()\n",
    "b=gg.split(\" \")\n",
    "print(b)\n",
    "d=dict(zip(d,b))\n",
    "print(d)\n",
    "\n",
    "mark = []\n",
    "for i in range(0,3):\n",
    "    while True:\n",
    "        c = int(input(\"enter marks: \"))\n",
    "        if c>=0 and c<=100:\n",
    "            marks=c\n",
    "            mark.append(marks)\n",
    "            break\n",
    "print(mark)\n",
    "marks1,marks2,marks3=mark[0],mark[1],mark[2]\n",
    "print(marks1,marks2,marks3)\n",
    "\n"
   ]
  },
  {
   "cell_type": "code",
   "execution_count": 15,
   "metadata": {
    "scrolled": true
   },
   "outputs": [
    {
     "name": "stdout",
     "output_type": "stream",
     "text": [
      "55\n",
      "\n",
      "\n",
      "0\n",
      "1\n",
      "4\n",
      "9\n",
      "16\n",
      "25\n",
      "36\n",
      "49\n",
      "64\n",
      "81\n"
     ]
    }
   ],
   "source": [
    "# Find square and sum \n",
    "\n",
    "a=[1,2,3,4,5,6,7,8,9,10]\n",
    "print(sum(a))\n",
    "\n",
    "print('\\n')\n",
    "\n",
    "for i in range(10):\n",
    "    if i<10:\n",
    "        i=i*i\n",
    "        print(i)"
   ]
  },
  {
   "cell_type": "code",
   "execution_count": 17,
   "metadata": {},
   "outputs": [
    {
     "name": "stdout",
     "output_type": "stream",
     "text": [
      "how many records you want to enter2\n",
      "enter nameVipen\n",
      "enter marks 055\n",
      "enter marks 066\n",
      "enter marks 077\n",
      "enter marks 033\n",
      "enter marks 022\n",
      "total marks 253.0\n",
      "\n",
      "\n",
      "enter nameajay\n",
      "enter marks 189\n",
      "enter marks 178\n",
      "enter marks 188\n",
      "enter marks 166\n",
      "enter marks 155\n",
      "total marks 376.0\n",
      "\n",
      "\n",
      "{'Vipen': [55.0, 66.0, 77.0, 33.0, 22.0], 'ajay': [89.0, 78.0, 88.0, 66.0, 55.0]}\n"
     ]
    }
   ],
   "source": [
    "students = dict()\n",
    "n = int(input(\"how many records you want to enter\"))\n",
    "for i in range(n):\n",
    "    sname = input(\"enter name\")\n",
    "    marks= []\n",
    "    for j in range(5):\n",
    "        m = float(input(\"enter marks {}\".format(i)))\n",
    "        marks.append(m)\n",
    "        ss = sum(marks)\n",
    "    print(\"total marks\",ss)\n",
    "    print('\\n')\n",
    "    students[sname] = marks\n",
    "    \n",
    "print(students)"
   ]
  },
  {
   "cell_type": "code",
   "execution_count": 18,
   "metadata": {},
   "outputs": [
    {
     "name": "stdout",
     "output_type": "stream",
     "text": [
      "thr hav\n",
      "thrhav\n",
      "thr ('email', 'jab', 'hav')\n"
     ]
    }
   ],
   "source": [
    "# if you do not know how many arguments will be passed in your function\n",
    "# add a * befor parameter in function\n",
    "\n",
    "def my_function(*kids):\n",
    "    print(\"thr\",kids[2])\n",
    "    print(\"thr\"+kids[2])\n",
    "    print(\"thr\",kids)\n",
    "my_function(\"email\",\"jab\",\"hav\")"
   ]
  },
  {
   "cell_type": "code",
   "execution_count": 19,
   "metadata": {},
   "outputs": [
    {
     "name": "stdout",
     "output_type": "stream",
     "text": [
      "thr hav\n",
      "thr jab\n"
     ]
    }
   ],
   "source": [
    "# we difine values in  function so it not change its index\n",
    "\n",
    "def my_function(child3,child2,child1):\n",
    "    print(\"thr\",child3)\n",
    "    print(\"thr\",child2)\n",
    "my_function(child1 = \"email\",child2 = \"jab\",child3 = \"hav\")"
   ]
  },
  {
   "cell_type": "code",
   "execution_count": 20,
   "metadata": {},
   "outputs": [
    {
     "name": "stdout",
     "output_type": "stream",
     "text": [
      "i am from : swedan\n",
      "i am from : india\n",
      "i am from : time\n",
      "i am from : Brazil\n"
     ]
    }
   ],
   "source": [
    "def my_function(country):\n",
    "    print(\"i am from : \"+country)\n",
    "my_function(\"swedan\")\n",
    "my_function(\"india\")\n",
    "my_function(\"time\")\n",
    "my_function(\"Brazil\")"
   ]
  },
  {
   "cell_type": "code",
   "execution_count": 21,
   "metadata": {},
   "outputs": [
    {
     "name": "stdout",
     "output_type": "stream",
     "text": [
      "i am from : swedan\n",
      "i am from : india\n",
      "i am from : Norway\n",
      "i am from : Brazil\n"
     ]
    }
   ],
   "source": [
    "def my_function(country = \"Norway\"):\n",
    "    print(\"i am from : \"+country)\n",
    "my_function(\"swedan\")\n",
    "my_function(\"india\")\n",
    "my_function()\n",
    "my_function(\"Brazil\")"
   ]
  },
  {
   "cell_type": "code",
   "execution_count": 22,
   "metadata": {},
   "outputs": [
    {
     "name": "stdout",
     "output_type": "stream",
     "text": [
      "app\n",
      "bana\n",
      "cherr\n"
     ]
    }
   ],
   "source": [
    "def my_function(food):\n",
    "    for x in food:\n",
    "        print(x)\n",
    "fruits = [\"app\",\"bana\",\"cherr\"]\n",
    "\n",
    "my_function(fruits)"
   ]
  },
  {
   "cell_type": "code",
   "execution_count": 23,
   "metadata": {},
   "outputs": [
    {
     "name": "stdout",
     "output_type": "stream",
     "text": [
      "15\n",
      "15\n",
      "20\n",
      "25\n"
     ]
    }
   ],
   "source": [
    "def my_function(x):\n",
    "        return 5 * x\n",
    "\n",
    "a=my_function(3)\n",
    "print(a)\n",
    "print(my_function(3))\n",
    "print(my_function(4))\n",
    "print(my_function(5))"
   ]
  },
  {
   "cell_type": "code",
   "execution_count": 24,
   "metadata": {},
   "outputs": [
    {
     "name": "stdout",
     "output_type": "stream",
     "text": [
      "how many records you want to enter2\n",
      "Enter namevipen\n",
      "enter marks 067\n",
      "enter marks 044\n",
      "enter marks 033\n",
      "enter marks 022\n",
      "enter marks 011\n",
      "total marks 177.0\n",
      "\n",
      "\n",
      "Enter nameAjay\n",
      "enter marks 165\n",
      "enter marks 133\n",
      "enter marks 177\n",
      "enter marks 199\n",
      "enter marks 167\n",
      "total marks 341.0\n",
      "\n",
      "\n",
      "{'vipen': [67.0, 44.0, 33.0, 22.0, 11.0], 'Ajay': [65.0, 33.0, 77.0, 99.0, 67.0]}\n"
     ]
    }
   ],
   "source": [
    "# Using Function\n",
    "\n",
    "students = dict()\n",
    "\n",
    "def st_name():\n",
    "    return input(\"Enter name\")\n",
    "    \n",
    "def st_marks():\n",
    "    marks = []\n",
    "    for j in range(5):\n",
    "        m = float(input(\"enter marks {}\".format(i)))\n",
    "        marks.append(m)\n",
    "        ss = sum(marks)\n",
    "    print(\"total marks\",ss)\n",
    "    print('\\n')\n",
    "    students[sname] = marks\n",
    "\n",
    "    \n",
    "n = int(input(\"how many records you want to enter\"))\n",
    "for i in range(n):\n",
    "    sname = st_name()\n",
    "    st_marks()\n",
    "print(students)"
   ]
  },
  {
   "cell_type": "code",
   "execution_count": 25,
   "metadata": {},
   "outputs": [
    {
     "name": "stdout",
     "output_type": "stream",
     "text": [
      "15\n"
     ]
    }
   ],
   "source": [
    "# Python lambda\n",
    "# A lambda is small anyonms function\n",
    "# a lambda function can take any number of arguments and only have only one expression\n",
    "\n",
    "x = lambda a: a+10\n",
    "print(x(5))"
   ]
  },
  {
   "cell_type": "code",
   "execution_count": 26,
   "metadata": {},
   "outputs": [
    {
     "name": "stdout",
     "output_type": "stream",
     "text": [
      "30\n"
     ]
    }
   ],
   "source": [
    "x = lambda a, b: a*b\n",
    "print(x(5,6))"
   ]
  },
  {
   "cell_type": "code",
   "execution_count": 27,
   "metadata": {},
   "outputs": [
    {
     "name": "stdout",
     "output_type": "stream",
     "text": [
      "[4, 8, 12, 18]\n"
     ]
    }
   ],
   "source": [
    "# In python we generally use it as an a higher order function\n",
    "# it uses with map(), filter(), reduce()\n",
    "\n",
    "my_list = [1,5,4,9,8,12,15,18]\n",
    "new_list = list(filter(lambda x: (x%2==0), my_list))\n",
    "print(new_list)"
   ]
  },
  {
   "cell_type": "code",
   "execution_count": 28,
   "metadata": {},
   "outputs": [
    {
     "name": "stdout",
     "output_type": "stream",
     "text": [
      "[56, 45, 34, 36, 56]\n"
     ]
    }
   ],
   "source": [
    "# Find age above 30 years\n",
    "ages = [56,45,34,36,23,56,18]\n",
    "new_ages = list(filter(lambda x: x>30, ages))\n",
    "print(new_ages)"
   ]
  },
  {
   "cell_type": "code",
   "execution_count": 29,
   "metadata": {},
   "outputs": [
    {
     "name": "stdout",
     "output_type": "stream",
     "text": [
      "[2, 10, 8, 18, 16, 24, 30, 36]\n"
     ]
    }
   ],
   "source": [
    "# map()\n",
    "\n",
    "my_list = [1,5,4,9,8,12,15,18]\n",
    "new_list = list(map(lambda x: x*2, my_list))\n",
    "print(new_list)"
   ]
  },
  {
   "cell_type": "code",
   "execution_count": 30,
   "metadata": {},
   "outputs": [
    {
     "name": "stdout",
     "output_type": "stream",
     "text": [
      "['DOG', 'CAT', 'PARROT', 'RABBIT']\n"
     ]
    }
   ],
   "source": [
    "# Convert in upper case\n",
    "animals = [\"dog\",\"cat\",\"parrot\",\"rabbit\"]\n",
    "u_animals = list(map(lambda a: str.upper(a), animals))\n",
    "\n",
    "print(u_animals)"
   ]
  },
  {
   "cell_type": "code",
   "execution_count": 31,
   "metadata": {},
   "outputs": [
    {
     "name": "stdout",
     "output_type": "stream",
     "text": [
      "120\n"
     ]
    }
   ],
   "source": [
    "from functools import reduce\n",
    "\n",
    "\n",
    "seq = [1,2,3,4,5]\n",
    "fil_res = reduce (lambda x,y : (x*y), seq)\n",
    "print(fil_res)"
   ]
  },
  {
   "cell_type": "code",
   "execution_count": 32,
   "metadata": {},
   "outputs": [
    {
     "name": "stdout",
     "output_type": "stream",
     "text": [
      "3.0\n"
     ]
    }
   ],
   "source": [
    "from functools import reduce\n",
    "seq = [1,2,3,4,5]\n",
    "l = len(seq)\n",
    "fil_res = reduce (lambda x,y : x+y, seq)\n",
    "a = fil_res/l\n",
    "print(a)"
   ]
  },
  {
   "cell_type": "markdown",
   "metadata": {},
   "source": [
    "## Numpy Array"
   ]
  },
  {
   "cell_type": "code",
   "execution_count": 33,
   "metadata": {},
   "outputs": [],
   "source": [
    "import numpy as np"
   ]
  },
  {
   "cell_type": "code",
   "execution_count": 34,
   "metadata": {},
   "outputs": [
    {
     "name": "stdout",
     "output_type": "stream",
     "text": [
      "[1 2 3 4 5]\n"
     ]
    },
    {
     "data": {
      "text/plain": [
       "numpy.ndarray"
      ]
     },
     "execution_count": 34,
     "metadata": {},
     "output_type": "execute_result"
    }
   ],
   "source": [
    "# input array\n",
    "\n",
    "arr = np.array([1,2,3,4,5])\n",
    "print(arr)\n",
    "type(arr)"
   ]
  },
  {
   "cell_type": "code",
   "execution_count": 35,
   "metadata": {},
   "outputs": [
    {
     "name": "stdout",
     "output_type": "stream",
     "text": [
      "[1 2 3 4 5]\n"
     ]
    }
   ],
   "source": [
    "# 1-D Array\n",
    "\n",
    "arr = np.array((1,2,3,4,5))\n",
    "print(arr)"
   ]
  },
  {
   "cell_type": "code",
   "execution_count": 36,
   "metadata": {},
   "outputs": [
    {
     "name": "stdout",
     "output_type": "stream",
     "text": [
      "[[1 2 3]\n",
      " [4 5 6]]\n"
     ]
    }
   ],
   "source": [
    "# 2-D Array \n",
    "\n",
    "arr = np.array([[1,2,3],[4,5,6]])\n",
    "print(arr)"
   ]
  },
  {
   "cell_type": "code",
   "execution_count": 37,
   "metadata": {},
   "outputs": [
    {
     "name": "stdout",
     "output_type": "stream",
     "text": [
      "1\n"
     ]
    }
   ],
   "source": [
    "arr = np.array([1,2,3,4,5])\n",
    "print(arr[0])"
   ]
  },
  {
   "cell_type": "code",
   "execution_count": 38,
   "metadata": {},
   "outputs": [
    {
     "name": "stdout",
     "output_type": "stream",
     "text": [
      "2\n"
     ]
    }
   ],
   "source": [
    "arr = np.array([[1,2,3,4,5],[6,7,8,9,10]])\n",
    "print(arr[0,1])"
   ]
  },
  {
   "cell_type": "code",
   "execution_count": 39,
   "metadata": {},
   "outputs": [
    {
     "name": "stdout",
     "output_type": "stream",
     "text": [
      "5\n"
     ]
    }
   ],
   "source": [
    "arr = np.array([[1,2,3,4,5],[6,7,8,9,10]])\n",
    "print(arr[0,-1])"
   ]
  },
  {
   "cell_type": "code",
   "execution_count": 40,
   "metadata": {},
   "outputs": [
    {
     "name": "stdout",
     "output_type": "stream",
     "text": [
      "[2 3]\n"
     ]
    }
   ],
   "source": [
    "# Slicing\n",
    "\n",
    "arr = np.array([1,2,3,4,5])\n",
    "print(arr[1:3])"
   ]
  },
  {
   "cell_type": "code",
   "execution_count": 41,
   "metadata": {},
   "outputs": [
    {
     "name": "stdout",
     "output_type": "stream",
     "text": [
      "3\n"
     ]
    }
   ],
   "source": [
    "arr = np.array([[1,2,3,4,5],[6,7,8,9,10],[4,3,5,6,7]])\n",
    "print(arr[-1,-4])"
   ]
  },
  {
   "cell_type": "code",
   "execution_count": 42,
   "metadata": {},
   "outputs": [
    {
     "name": "stdout",
     "output_type": "stream",
     "text": [
      "[2 3]\n",
      "[1 2 3 4]\n",
      "[5 6 7 8]\n",
      "[2 4 6]\n",
      "[1 3 5 7]\n"
     ]
    }
   ],
   "source": [
    "arr = np.array([1,2,3,4,5,6,7,8])\n",
    "print(arr[1:3])\n",
    "print(arr[:4])\n",
    "print(arr[4:])\n",
    "print(arr[1:6:2])\n",
    "print(arr[::2])"
   ]
  },
  {
   "cell_type": "code",
   "execution_count": 43,
   "metadata": {},
   "outputs": [
    {
     "name": "stdout",
     "output_type": "stream",
     "text": [
      "[2 4 6]\n"
     ]
    }
   ],
   "source": [
    "arr = np.array([1,2,3,4,5,6,7,8])\n",
    "print(arr[1:6:2])"
   ]
  },
  {
   "cell_type": "code",
   "execution_count": 44,
   "metadata": {},
   "outputs": [
    {
     "name": "stdout",
     "output_type": "stream",
     "text": [
      "[ 0  2  4  6  8 10]\n",
      "[ 1  3  5  7  9 11]\n"
     ]
    }
   ],
   "source": [
    "arr = np.array([0,1,2,3,4,5,6,7,8,9,10,11])\n",
    "print(arr[::2])\n",
    "print(arr[1::2])"
   ]
  },
  {
   "cell_type": "code",
   "execution_count": 45,
   "metadata": {},
   "outputs": [
    {
     "name": "stdout",
     "output_type": "stream",
     "text": [
      "[7 8 9]\n"
     ]
    },
    {
     "data": {
      "text/plain": [
       "(2, 5)"
      ]
     },
     "execution_count": 45,
     "metadata": {},
     "output_type": "execute_result"
    }
   ],
   "source": [
    "arr = np.array([[1,2,3,4,5],[6,7,8,9,10]])\n",
    "print(arr[1,1:4])\n",
    "arr.shape"
   ]
  },
  {
   "cell_type": "code",
   "execution_count": 46,
   "metadata": {},
   "outputs": [
    {
     "name": "stdout",
     "output_type": "stream",
     "text": [
      "[4 9]\n"
     ]
    }
   ],
   "source": [
    "print(arr[:2,3])"
   ]
  },
  {
   "cell_type": "code",
   "execution_count": 47,
   "metadata": {},
   "outputs": [
    {
     "name": "stdout",
     "output_type": "stream",
     "text": [
      "[1 2 3 4 5 6 7 8]\n",
      "[40  2  3  4  5  6  7  8]\n"
     ]
    },
    {
     "data": {
      "text/plain": [
       "(8,)"
      ]
     },
     "execution_count": 47,
     "metadata": {},
     "output_type": "execute_result"
    }
   ],
   "source": [
    "arr = np.array([1,2,3,4,5,6,7,8])\n",
    "x=arr.copy()\n",
    "x[0]=40\n",
    "print(arr)\n",
    "\n",
    "print(x)\n",
    "arr.shape"
   ]
  },
  {
   "cell_type": "code",
   "execution_count": 48,
   "metadata": {},
   "outputs": [
    {
     "name": "stdout",
     "output_type": "stream",
     "text": [
      "[[11 22 33]\n",
      " [44 55 66]\n",
      " [77 88 99]]\n",
      "\n",
      "\n",
      "[[22]\n",
      " [55]\n",
      " [88]]\n"
     ]
    }
   ],
   "source": [
    "a = np.array([[11 ,22, 33], [44, 55, 66], [77, 88, 99]])\n",
    "print(a)\n",
    "print('\\n')\n",
    "print(a[:,1:2])"
   ]
  },
  {
   "cell_type": "code",
   "execution_count": 49,
   "metadata": {},
   "outputs": [
    {
     "name": "stdout",
     "output_type": "stream",
     "text": [
      "[[ 3  6  9 12]\n",
      " [15 18 21 24]\n",
      " [27 30 33 36]\n",
      " [39 42 45 48]\n",
      " [51 54 57 60]]\n",
      "\n",
      "\n",
      "[[15 21]\n",
      " [39 45]]\n"
     ]
    }
   ],
   "source": [
    "a = np.array([[3 ,6, 9, 12], [15 ,18, 21, 24], \n",
    "[27 ,30, 33, 36], [39 ,42, 45, 48], [51 ,54, 57, 60]])\n",
    "print(a)\n",
    "print('\\n')\n",
    "print(a[1::2,::2])"
   ]
  },
  {
   "cell_type": "code",
   "execution_count": 50,
   "metadata": {},
   "outputs": [
    {
     "name": "stdout",
     "output_type": "stream",
     "text": [
      "[1 2 3]\n",
      "[4 5 6]\n"
     ]
    }
   ],
   "source": [
    "ar = np.array([[1,2,3],[4,5,6]])\n",
    "for x in ar:\n",
    "    print(x)"
   ]
  },
  {
   "cell_type": "code",
   "execution_count": 51,
   "metadata": {},
   "outputs": [
    {
     "name": "stdout",
     "output_type": "stream",
     "text": [
      "1\n",
      "2\n",
      "3\n",
      "4\n",
      "5\n",
      "6\n"
     ]
    }
   ],
   "source": [
    "for x in ar:\n",
    "    for y in x:\n",
    "        print(y)"
   ]
  },
  {
   "cell_type": "markdown",
   "metadata": {},
   "source": [
    "***"
   ]
  },
  {
   "cell_type": "markdown",
   "metadata": {},
   "source": [
    "<center> <font color='Red' size=5>For more practice i have uploaded another file Practice and solution set.</font></center>"
   ]
  },
  {
   "cell_type": "markdown",
   "metadata": {},
   "source": [
    "<center> <font color='blue' size=5>See you in next ipynb file</font></center>"
   ]
  },
  {
   "cell_type": "markdown",
   "metadata": {},
   "source": [
    "** *"
   ]
  }
 ],
 "metadata": {
  "kernelspec": {
   "display_name": "Python 3",
   "language": "python",
   "name": "python3"
  },
  "language_info": {
   "codemirror_mode": {
    "name": "ipython",
    "version": 3
   },
   "file_extension": ".py",
   "mimetype": "text/x-python",
   "name": "python",
   "nbconvert_exporter": "python",
   "pygments_lexer": "ipython3",
   "version": "3.7.4"
  }
 },
 "nbformat": 4,
 "nbformat_minor": 2
}
