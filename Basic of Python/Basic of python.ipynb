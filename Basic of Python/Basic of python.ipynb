{
 "cells": [
  {
   "cell_type": "markdown",
   "metadata": {},
   "source": [
    "<img src = \"Logo1.png\" width=40%></img>"
   ]
  },
  {
   "cell_type": "markdown",
   "metadata": {},
   "source": [
    "***"
   ]
  },
  {
   "cell_type": "markdown",
   "metadata": {},
   "source": [
    "## <center> Python Sessions : </center>\n",
    "\n",
    "<br>\n",
    "\n",
    "\n",
    "Zoom Meeting link\n",
    "\n",
    "https://zoom.us/j/95762064687?pwd=QkRiWXE4NFNmUWlEeDBFQlFNbEpuZz09\n",
    "\n",
    "\n",
    "\n",
    "#### Meeting ID: 957 6206 4687\n",
    "#### Passcode: 665892"
   ]
  },
  {
   "cell_type": "markdown",
   "metadata": {},
   "source": [
    "***"
   ]
  },
  {
   "cell_type": "markdown",
   "metadata": {},
   "source": [
    "### <center> Date : 05 Jan 2021 </center>"
   ]
  },
  {
   "cell_type": "markdown",
   "metadata": {},
   "source": [
    "***"
   ]
  },
  {
   "cell_type": "code",
   "execution_count": 1,
   "metadata": {},
   "outputs": [
    {
     "name": "stdout",
     "output_type": "stream",
     "text": [
      "<class 'int'>\n",
      "<class 'str'>\n"
     ]
    }
   ],
   "source": [
    "#casting \n",
    "# if you want to specify the data type variable this can be done by casting\n",
    "\n",
    "x=3\n",
    "print(type(x)) #check datatype\n",
    "x=str(3)\n",
    "print(type(x))\n"
   ]
  },
  {
   "cell_type": "code",
   "execution_count": 2,
   "metadata": {},
   "outputs": [
    {
     "name": "stdout",
     "output_type": "stream",
     "text": [
      "10\n",
      "7\n",
      "7\n"
     ]
    }
   ],
   "source": [
    "# case sensitive or latest value put\n",
    "\n",
    "a=10\n",
    "A=5\n",
    "A=7\n",
    "print(a)\n",
    "print(A)\n",
    "print(A)"
   ]
  },
  {
   "cell_type": "code",
   "execution_count": 3,
   "metadata": {},
   "outputs": [],
   "source": [
    "#camel case \n",
    "# each word except the first start with capital letter\n",
    "\n",
    "myVariableName = \"John\"\n",
    "\n",
    "# Pascal case\n",
    "# each word start with capital letter\n",
    "\n",
    "MyVariableName = \"John\"\n",
    "\n",
    "#snake case\n",
    "#each word is seprate by underscore\n",
    "my_variable_name = \"John\""
   ]
  },
  {
   "cell_type": "markdown",
   "metadata": {},
   "source": [
    "What is XYZ by default"
   ]
  },
  {
   "cell_type": "code",
   "execution_count": 4,
   "metadata": {},
   "outputs": [
    {
     "name": "stdout",
     "output_type": "stream",
     "text": [
      "Orange\n",
      "Banana\n",
      "Cherry\n",
      "('Orange', 'Banana', 'Cherry')\n"
     ]
    }
   ],
   "source": [
    "# Pyhton  variable : assign multiple variable\n",
    "\n",
    "x,y,z = \"Orange\", \"Banana\", \"Cherry\"\n",
    "xyz = \"Orange\", \"Banana\", \"Cherry\"\n",
    "print(x)\n",
    "print(y)\n",
    "print(z)\n",
    "print(xyz)"
   ]
  },
  {
   "cell_type": "code",
   "execution_count": 5,
   "metadata": {},
   "outputs": [
    {
     "name": "stdout",
     "output_type": "stream",
     "text": [
      "pythn isawasome\n",
      "pythn is3\n",
      "pythn is3\n",
      "pythn is 3\n"
     ]
    }
   ],
   "source": [
    "# Output variable\n",
    "#The python print statement is often used to output variable\n",
    "\n",
    "# to create both text and a variable python use the + charactor\n",
    "\n",
    "x = \"awasome\"\n",
    "y=3\n",
    "y=str(3)\n",
    "\n",
    "print(\"pythn is\"+x)\n",
    "print(\"pythn is\"+y)\n",
    "print(\"pythn is\"+str(y))\n",
    "print(\"pythn is\",3)\n"
   ]
  },
  {
   "cell_type": "code",
   "execution_count": 6,
   "metadata": {},
   "outputs": [
    {
     "name": "stdout",
     "output_type": "stream",
     "text": [
      "enter number first66\n",
      "66\n",
      "enter number second98\n",
      "98\n",
      "164\n",
      "<class 'int'>\n"
     ]
    }
   ],
   "source": [
    "# taking input from user\n",
    "\n",
    "a= int(input(\"enter number first\"))\n",
    "print(a)\n",
    "b= int(input(\"enter number second\"))\n",
    "print(b)\n",
    "c=a+b\n",
    "print(c)\n",
    "print(type(c))"
   ]
  },
  {
   "cell_type": "code",
   "execution_count": 7,
   "metadata": {},
   "outputs": [
    {
     "name": "stdout",
     "output_type": "stream",
     "text": [
      "Enter number-76\n",
      "-ve\n"
     ]
    }
   ],
   "source": [
    "# wheather an number is +VE or -VE or Zero\n",
    "\n",
    "x=int(input(\"Enter number\")) #take input from user\n",
    "if x<0:                      #apply conditions\n",
    "    print(\"-ve\")\n",
    "elif x>0:\n",
    "    print(\"+ve\")\n",
    "else:\n",
    "    print(\"Zero\")"
   ]
  },
  {
   "cell_type": "code",
   "execution_count": 8,
   "metadata": {},
   "outputs": [
    {
     "name": "stdout",
     "output_type": "stream",
     "text": [
      "Enter number-89\n",
      "odd\n"
     ]
    }
   ],
   "source": [
    "# wheather number is odd or even\n",
    "\n",
    "x = int(input(\"Enter number\"))\n",
    "\n",
    "if x%2 == 0:          # check reminder \n",
    "    print(\"even\")\n",
    "else:\n",
    "    print(\"odd\")"
   ]
  },
  {
   "cell_type": "code",
   "execution_count": 10,
   "metadata": {},
   "outputs": [
    {
     "name": "stdout",
     "output_type": "stream",
     "text": [
      "Enter 1st subject marks: 99\n",
      "99\n",
      "Enter 2nd subject marks: 98\n",
      "98\n",
      "Enter 3rd subject marks: 97\n",
      "97\n",
      "Enter 4th subject marks: 99\n",
      "99\n",
      "Enter 5th subject marks: 99\n",
      "99\n",
      "98.4\n",
      "A\n"
     ]
    }
   ],
   "source": [
    "# Check number range between 0 to 100 and take 5 input from user and gave grade\n",
    "\n",
    "while True:\n",
    "    a = int(input(\"Enter 1st subject marks: \"))\n",
    "    if 100>= a >= 0:\n",
    "        print(a)\n",
    "        break\n",
    "\n",
    "while True:\n",
    "    b = int(input(\"Enter 2nd subject marks: \"))\n",
    "    if 100>= b >= 0:\n",
    "        print(b)\n",
    "        break\n",
    "\n",
    "while True:\n",
    "    c = int(input(\"Enter 3rd subject marks: \"))\n",
    "    if 100>= c >= 0:\n",
    "        print(c)\n",
    "        break\n",
    "    \n",
    "while True:\n",
    "    d = int(input(\"Enter 4th subject marks: \"))\n",
    "    if 100>= d >= 0:\n",
    "        print(d)\n",
    "        break\n",
    "while True:\n",
    "    e = int(input(\"Enter 5th subject marks: \"))\n",
    "    if 100>= e >= 0:\n",
    "        print(e)\n",
    "        break\n",
    "        \n",
    "num = ((a+b+c+d+e)/500)*100          #Restore values and find percentage\n",
    "print(num)\n",
    "if num <80:\n",
    "    print(\"D\")\n",
    "elif num>=95:\n",
    "    print(\"A\")\n",
    "elif num>=88:\n",
    "    print(\"B\")\n",
    "elif num>=80:\n",
    "    print(\"C\")"
   ]
  },
  {
   "cell_type": "markdown",
   "metadata": {},
   "source": [
    "### <center> Practice Set </center>"
   ]
  },
  {
   "cell_type": "code",
   "execution_count": 11,
   "metadata": {},
   "outputs": [
    {
     "name": "stdout",
     "output_type": "stream",
     "text": [
      "Enter first number5\n",
      "Enter second number-8\n",
      "Enter third number2\n",
      "The max is 5\n"
     ]
    }
   ],
   "source": [
    "# Python program to find the maxmium number \n",
    "\n",
    "a = int(input(\"Enter first number\"))   # Take input from user\n",
    "b = int(input(\"Enter second number\"))\n",
    "c = int(input(\"Enter third number\"))\n",
    "\n",
    "if (a >= b) and (a >= c):\n",
    "    l = a\n",
    "elif (b >= a) and (b >= c):\n",
    "    l = b\n",
    "else:\n",
    "    l = c\n",
    "\n",
    "print(\"The max is\", l)"
   ]
  },
  {
   "cell_type": "code",
   "execution_count": 12,
   "metadata": {},
   "outputs": [
    {
     "name": "stdout",
     "output_type": "stream",
     "text": [
      " 2   3   5   7   11   13   17   19   23   29   31   37   41   43   47  "
     ]
    }
   ],
   "source": [
    "# Python Program to print Prime Numbers from 1 to 50\n",
    " \n",
    "for Number in range (1, 51):\n",
    "    count = 0\n",
    "    for i in range(2, (Number//2 + 1)):\n",
    "        if(Number % i == 0):\n",
    "            count = count + 1\n",
    "            break\n",
    "\n",
    "    if (count == 0 and Number != 1):\n",
    "        print(\" %d\" %Number, end = '  ')"
   ]
  },
  {
   "cell_type": "code",
   "execution_count": 13,
   "metadata": {},
   "outputs": [
    {
     "name": "stdout",
     "output_type": "stream",
     "text": [
      "4 5\n",
      "5 4\n"
     ]
    }
   ],
   "source": [
    "#Assign value for variables\n",
    "\n",
    "a,b = 4,5\n",
    "print(a,b) #print values\n",
    "a,b = b,a #swap values \n",
    "print(a,b)#print after swaping"
   ]
  },
  {
   "cell_type": "code",
   "execution_count": 14,
   "metadata": {},
   "outputs": [
    {
     "name": "stdout",
     "output_type": "stream",
     "text": [
      "7 8\n"
     ]
    }
   ],
   "source": [
    "#swap number without using temp or third variable\n",
    "\n",
    "a = 8\n",
    "b = 7\n",
    "a = a + b\n",
    "b = a - b\n",
    "a = a - b\n",
    "print(a,b)"
   ]
  },
  {
   "cell_type": "code",
   "execution_count": 15,
   "metadata": {},
   "outputs": [
    {
     "name": "stdout",
     "output_type": "stream",
     "text": [
      "enter number : 9782035434\n",
      "valid\n"
     ]
    }
   ],
   "source": [
    "# Check validation of mobile number that start with 6,7,8,9\n",
    "N = int(input(\"enter number : \"))\n",
    "b= str(N) #convert in string\n",
    "if len(b)==10: #check length of given input if it is 10 then only show valid else unvalid\n",
    "    if b[0] == \"9\" or b[0] == \"8\" or b[0] == \"7\" or b[0] == \"6\": #Check for given numbers\n",
    "        print(\"valid\")\n",
    "    else:\n",
    "        print(\"UV\")\n",
    "else:\n",
    "    print(\"UV\")"
   ]
  },
  {
   "cell_type": "markdown",
   "metadata": {},
   "source": [
    "***"
   ]
  },
  {
   "cell_type": "markdown",
   "metadata": {},
   "source": [
    "## <center> Date : 06 Jan 2021 </center>"
   ]
  },
  {
   "cell_type": "markdown",
   "metadata": {},
   "source": [
    "***"
   ]
  },
  {
   "cell_type": "code",
   "execution_count": 16,
   "metadata": {},
   "outputs": [
    {
     "name": "stdout",
     "output_type": "stream",
     "text": [
      "True\n",
      "False\n",
      "True\n"
     ]
    }
   ],
   "source": [
    "# Python Identity operator\n",
    "# Identity operator are used to compare the object\n",
    "\n",
    "x = [\"apple\", \"banaba\"]\n",
    "y = [\"apple\", \"banaba\"]\n",
    "z = x\n",
    "print(x is z)\n",
    "\n",
    "#return true because it has same object\n",
    "\n",
    "print(x is y)\n",
    "# different object\n",
    "\n",
    "print(x == y)\n",
    "# compare return true because it equal to y"
   ]
  },
  {
   "cell_type": "code",
   "execution_count": 17,
   "metadata": {},
   "outputs": [
    {
     "name": "stdout",
     "output_type": "stream",
     "text": [
      "True\n",
      "False\n"
     ]
    }
   ],
   "source": [
    "# Python membership operator\n",
    "# membership operator used to test sequence is present in an object : in , not in\n",
    "x = [\"apple\", \"banana\"]\n",
    "\n",
    "print(\"kiwi\" not in x)\n",
    "print(\"kiwi\" in x)"
   ]
  },
  {
   "cell_type": "code",
   "execution_count": 18,
   "metadata": {},
   "outputs": [
    {
     "name": "stdout",
     "output_type": "stream",
     "text": [
      "14\n"
     ]
    }
   ],
   "source": [
    "# calculate string length\n",
    "\n",
    "a = \"hello , world!\"\n",
    "c=0\n",
    "for x in a:\n",
    "    c+=1\n",
    "print(c)"
   ]
  },
  {
   "cell_type": "code",
   "execution_count": 19,
   "metadata": {},
   "outputs": [
    {
     "name": "stdout",
     "output_type": "stream",
     "text": [
      "0\n"
     ]
    }
   ],
   "source": [
    "# Count an specific word how much times it comes\n",
    "\n",
    "a=\"hello my name is xyz, my age is xyz, i work for xyz\"\n",
    "c=0\n",
    "for x in a:\n",
    "    if x is \"xyz\":\n",
    "        c+=1\n",
    "print(c)"
   ]
  },
  {
   "cell_type": "code",
   "execution_count": 20,
   "metadata": {},
   "outputs": [
    {
     "name": "stdout",
     "output_type": "stream",
     "text": [
      "Enter : Hello world!\n",
      "!ello worldH\n"
     ]
    }
   ],
   "source": [
    "#swap first and last charactor of string using slicing\n",
    "\n",
    "a=input(\"Enter : \")\n",
    "print(a[-1]+a[1:-1]+a[0])"
   ]
  },
  {
   "cell_type": "code",
   "execution_count": 21,
   "metadata": {},
   "outputs": [
    {
     "name": "stdout",
     "output_type": "stream",
     "text": [
      "Enter : Vipendra pal Rajput\n",
      "Vipendra@pal@Rajput\n"
     ]
    }
   ],
   "source": [
    "# Replace space using special charactor\n",
    "\n",
    "a = input(\"Enter : \")\n",
    "a = a.replace(' ','@')\n",
    "print(a)"
   ]
  },
  {
   "cell_type": "code",
   "execution_count": 22,
   "metadata": {},
   "outputs": [
    {
     "name": "stdout",
     "output_type": "stream",
     "text": [
      "Enter : hello world i am vipen\n",
      "5\n",
      "22\n"
     ]
    }
   ],
   "source": [
    "# Count charactor and word \n",
    "\n",
    "a = input(\"Enter : \")\n",
    "c=0\n",
    "d=0\n",
    "for x in a:\n",
    "    c+=1\n",
    "    if x == \" \":\n",
    "        d+=1\n",
    "print(d+1)\n",
    "print(c)"
   ]
  },
  {
   "cell_type": "code",
   "execution_count": 23,
   "metadata": {},
   "outputs": [
    {
     "name": "stdout",
     "output_type": "stream",
     "text": [
      "5\n",
      "5\n",
      "2\n"
     ]
    }
   ],
   "source": [
    "#count charactor and digit with lower and upper\n",
    "\n",
    "s=\"helloWORLD45\"\n",
    "c=0\n",
    "d=0\n",
    "t=0    \n",
    "for x in s: \n",
    "    if x>='a'and x<='z': \n",
    "        c+=1                 \n",
    "    if x>='A'and x<='Z': \n",
    "        d+=1\n",
    "    if x>='0' and x<='9':\n",
    "        t+=1\n",
    "print(c) \n",
    "print(d)     \n",
    "print(t)"
   ]
  },
  {
   "cell_type": "code",
   "execution_count": 24,
   "metadata": {},
   "outputs": [
    {
     "data": {
      "text/plain": [
       "'dlrow 0lleh'"
      ]
     },
     "execution_count": 24,
     "metadata": {},
     "output_type": "execute_result"
    }
   ],
   "source": [
    "#Reverse string using slicing\n",
    "\n",
    "a=\"hell0 world\"\n",
    "a[::-1]"
   ]
  },
  {
   "cell_type": "markdown",
   "metadata": {},
   "source": [
    "### <center> Practice Set </center>"
   ]
  },
  {
   "cell_type": "code",
   "execution_count": 25,
   "metadata": {},
   "outputs": [
    {
     "name": "stdout",
     "output_type": "stream",
     "text": [
      "Enter String for check palindrome: MAMA\n",
      "MAMA\n",
      "AMAM\n",
      "False\n"
     ]
    }
   ],
   "source": [
    "# Palindrom using slicing\n",
    "\n",
    "a=input(\"Enter String for check palindrome: \")\n",
    "print(a)\n",
    "b = a[::-1]\n",
    "print(b)\n",
    "if a==b:\n",
    "    print(True)\n",
    "else:\n",
    "    print(False)"
   ]
  },
  {
   "cell_type": "code",
   "execution_count": 26,
   "metadata": {},
   "outputs": [
    {
     "name": "stdout",
     "output_type": "stream",
     "text": [
      "Enter : vip!@#$%ndr(){[a\n",
      "vip!@#$%ndr(){[a\n",
      "vipndra\n"
     ]
    }
   ],
   "source": [
    "# Remove Special charactor from string\n",
    "a = [\";\", \"!\", \"*\", \"@\",\"_\",\"!\",\"#\",\"$\",\"%\",\"^\",\"&\",\"*\",\"(\",\")\",\"<\",\">\",\"?\",\"/\",\"|\",\"}\",\"{\",\"~\",\":\",\"[\",\"]\"] \n",
    "b = input(\"Enter : \")\n",
    "print (b) \n",
    "for x in a : \n",
    "    b = b.replace(x, '') \n",
    "print(b) "
   ]
  },
  {
   "cell_type": "code",
   "execution_count": 27,
   "metadata": {},
   "outputs": [
    {
     "name": "stdout",
     "output_type": "stream",
     "text": [
      "ENTERvupe9827 dkjgdKJ44\n",
      "vupe9827 dkjgdKJ44\n",
      "None\n"
     ]
    }
   ],
   "source": [
    "def s(a):\n",
    "    x = (c for c in a if 47 < ord(c) <58 or 64 < ord(c) < 91 or 97 < ord(c) < 122 or ord(c)==32)\n",
    "    print(''.join(x))\n",
    "\n",
    "t = input(\"ENTER\")\n",
    "print(s(t))"
   ]
  },
  {
   "cell_type": "code",
   "execution_count": 28,
   "metadata": {
    "scrolled": true
   },
   "outputs": [
    {
     "name": "stdout",
     "output_type": "stream",
     "text": [
      "5.5\n"
     ]
    }
   ],
   "source": [
    "# Find the median of given string\n",
    "\n",
    "a=[1,2,3,4,5,6,7,8,9,10]\n",
    "n=len(a)\n",
    "if n%2 == 0:\n",
    "    m = n//2\n",
    "    print((a[m]+a[m-1])/2)\n",
    "else:\n",
    "    m = n//2\n",
    "    print(a[m])\n",
    "    "
   ]
  },
  {
   "cell_type": "code",
   "execution_count": 29,
   "metadata": {},
   "outputs": [
    {
     "name": "stdout",
     "output_type": "stream",
     "text": [
      "Enter String :vipendra\n",
      "4\n"
     ]
    }
   ],
   "source": [
    "# Check how many time an input letter occour in the given string\n",
    "\n",
    "bag = \"avvGDJag\"\n",
    "fav = input(\"Enter String :\")\n",
    "c=0\n",
    "for i in bag:\n",
    "    if i in fav:\n",
    "        c+=1\n",
    "print(c)"
   ]
  },
  {
   "cell_type": "code",
   "execution_count": 30,
   "metadata": {},
   "outputs": [
    {
     "name": "stdout",
     "output_type": "stream",
     "text": [
      "4\n",
      "7\n",
      "10\n"
     ]
    }
   ],
   "source": [
    "b = [7,1,5,3,6,9]\n",
    "l=len(b)\n",
    "a=[]\n",
    "for i in range(1,l):\n",
    "    if b[i]>b[i-1]:\n",
    "        mx = b[i]-b[i-1]\n",
    "        a.append(mx)\n",
    "        print(sum(a))"
   ]
  },
  {
   "cell_type": "markdown",
   "metadata": {},
   "source": [
    "***"
   ]
  },
  {
   "cell_type": "markdown",
   "metadata": {},
   "source": [
    "## <center> Date : 07 Jan 2021 </center>"
   ]
  },
  {
   "cell_type": "markdown",
   "metadata": {},
   "source": [
    "***"
   ]
  },
  {
   "cell_type": "code",
   "execution_count": 31,
   "metadata": {},
   "outputs": [
    {
     "name": "stdout",
     "output_type": "stream",
     "text": [
      "3\n"
     ]
    }
   ],
   "source": [
    "# Count number of elemnets in list\n",
    "a = [\"apple\",\"banana\", \"cherry\"]\n",
    "c=0\n",
    "for x in a:\n",
    "    c+=1\n",
    "print(c)"
   ]
  },
  {
   "cell_type": "code",
   "execution_count": 32,
   "metadata": {},
   "outputs": [
    {
     "name": "stdout",
     "output_type": "stream",
     "text": [
      "Enter How many students data you want to enter2\n",
      "enter name : vipen\n",
      "enter Age : 22\n",
      "Grade : 9\n",
      "enter Class : IT94\n",
      "enter name : Arjun\n",
      "enter Age : 23\n",
      "Grade : 8\n",
      "enter Class : CS04\n",
      "['vipen', 'Arjun', 22, 23, 9, 8, 'IT94', 'CS04']\n",
      "my name is vipen and my age is 22 and i get 9 grade in class IT94\n",
      "my name is Arjun and my age is 23 and i get 8 grade in class CS04\n"
     ]
    }
   ],
   "source": [
    "name = []    # take empty list\n",
    "age = []\n",
    "clas=[]\n",
    "grade=[]\n",
    "num = int(input(\"Enter How many students data you want to enter\")) # take input from user \n",
    "for i in range(0,num): #In range of input\n",
    "    while True:\n",
    "        a = input(\"enter name : \")\n",
    "        if a.isalpha() == True:\n",
    "            #print(a)\n",
    "            name.append(a)\n",
    "            break\n",
    "    while True:\n",
    "        b = int(input(\"enter Age : \"))\n",
    "        if b>=20 and b<=40:\n",
    "            #print(b)\n",
    "            age.append(b)\n",
    "            break\n",
    "\n",
    "    while True:\n",
    "        c = int(input(\"Grade : \"))\n",
    "        if c>=0 and c<=9:\n",
    "            #print(c)\n",
    "            grade.append(c)\n",
    "            break\n",
    "    while True:\n",
    "        d = input(\"enter Class : \")\n",
    "        e =len(d)\n",
    "        if e ==4:\n",
    "            d.isalnum()\n",
    "            #print(d)\n",
    "            clas.append(d)\n",
    "            break\n",
    "        \n",
    "\n",
    "listss = name+age+grade+clas\n",
    "print(listss)\n",
    "\n",
    "for i in range(0,num):\n",
    "    listt = \"my name is {} and my age is {} and i get {} grade in class {}\".format(name[i],age[i],grade[i],clas[i])\n",
    "    print(listt)"
   ]
  },
  {
   "cell_type": "code",
   "execution_count": 33,
   "metadata": {},
   "outputs": [
    {
     "name": "stdout",
     "output_type": "stream",
     "text": [
      "[5, 10, 30, 40, 50]\n"
     ]
    }
   ],
   "source": [
    "# Programme for bubble sort\n",
    "\n",
    "a = [10,50,30,40,5]\n",
    "b=len(a)\n",
    "for i in range(0,b):\n",
    "    for j in range(0,b-1):\n",
    "        if(a[j] > a[j+1]):\n",
    "            temp = a[j]\n",
    "            a[j] = a[j+1]\n",
    "            a[j+1] = temp\n",
    "print(a)"
   ]
  },
  {
   "cell_type": "code",
   "execution_count": 34,
   "metadata": {},
   "outputs": [
    {
     "name": "stdout",
     "output_type": "stream",
     "text": [
      "(3.6, 'dog', 4)\n",
      "3.6\n",
      "dog\n",
      "4\n"
     ]
    }
   ],
   "source": [
    "#packing \n",
    "my_tuple = 3.6, \"dog\", 4\n",
    "print(my_tuple)\n",
    "#unpacking\n",
    "a,b,c = my_tuple\n",
    "print(a)\n",
    "print(b)\n",
    "print(c)"
   ]
  },
  {
   "cell_type": "code",
   "execution_count": 35,
   "metadata": {},
   "outputs": [
    {
     "name": "stdout",
     "output_type": "stream",
     "text": [
      "2\n",
      "('hello',)\n",
      "('hello',)\n"
     ]
    }
   ],
   "source": [
    "#single variable is not tuple\n",
    "a= 2\n",
    "print(a)\n",
    "#make single value tuple\n",
    "m=(\"hello\",)\n",
    "print(m)\n",
    "m = \"hello\",\n",
    "print(m)"
   ]
  },
  {
   "cell_type": "markdown",
   "metadata": {},
   "source": [
    "### <center> Practice Set </center>"
   ]
  },
  {
   "cell_type": "markdown",
   "metadata": {},
   "source": [
    "#### Q1. Python Program to Read a List of Words and Return the Length of the Longest One\n",
    "#### Q2. Given a Python list, find value 20 in the list, and if it is present, replace it with 200. Only update the first occurrence of a value\n",
    "#### Access value 20 from the following tuple\n",
    "#### aTuple = (\"Orange\", [10, 20, 30], (5, 15, 25))\n",
    "\n",
    "#### Q4. Counts the number of occurrences of item 50 from a tuple\n",
    "####  tuple1 = (50, 10, 60, 70, 50)\n"
   ]
  },
  {
   "cell_type": "code",
   "execution_count": 36,
   "metadata": {
    "scrolled": true
   },
   "outputs": [
    {
     "name": "stdout",
     "output_type": "stream",
     "text": [
      "[5, 6, 3, 7]\n",
      "7\n"
     ]
    }
   ],
   "source": [
    "# Python Program to Read a List of Words and Return the Length of the Longest One\n",
    "\n",
    "a = [\"apple\" , \"banana\", \"man\", \"guavava\"]\n",
    "l = [len(i) for i in a]\n",
    "print(l)\n",
    "ml = max(l) \n",
    "print(ml) "
   ]
  },
  {
   "cell_type": "code",
   "execution_count": 37,
   "metadata": {},
   "outputs": [
    {
     "name": "stdout",
     "output_type": "stream",
     "text": [
      "[5, 15, 25, 20, 50, 30, 40, 20, 10]\n",
      "[5, 15, 25, 200, 50, 30, 40, 20, 10]\n"
     ]
    }
   ],
   "source": [
    "#Given a Python list, find value 20 in the list, and if it is present, replace it with 200. Only update the first occurrence of a value\n",
    "\n",
    "l = [5, 15, 25,20,50,30,40,20,10]\n",
    "print(l)\n",
    "i = l.index(20)  #checking index of 20\n",
    "l[i] = 200\n",
    "print(l)"
   ]
  },
  {
   "cell_type": "code",
   "execution_count": 38,
   "metadata": {},
   "outputs": [
    {
     "data": {
      "text/plain": [
       "20"
      ]
     },
     "execution_count": 38,
     "metadata": {},
     "output_type": "execute_result"
    }
   ],
   "source": [
    "# Access value 20 from the following tuple\n",
    "\n",
    "aTuple = (\"Orange\", [10, 20, 30], (5, 15, 25))\n",
    "aTuple[1][1]"
   ]
  },
  {
   "cell_type": "code",
   "execution_count": 39,
   "metadata": {},
   "outputs": [
    {
     "name": "stdout",
     "output_type": "stream",
     "text": [
      "2\n"
     ]
    }
   ],
   "source": [
    "# Counts the number of occurrences of item 50 from a tuple\n",
    "\n",
    "tuple1 = (50, 10, 60, 70, 50)\n",
    "c=0\n",
    "for x in tuple1:\n",
    "    if x==50:\n",
    "        c+=1\n",
    "print(c)"
   ]
  },
  {
   "cell_type": "code",
   "execution_count": 40,
   "metadata": {},
   "outputs": [
    {
     "name": "stdout",
     "output_type": "stream",
     "text": [
      "enter index3\n",
      "enter elementHive\n",
      "['vip', 'end', 'ra', 'pal']\n",
      "['vip', 'end', 'ra', 'Hive', 'pal']\n"
     ]
    }
   ],
   "source": [
    "# insert element in list\n",
    "\n",
    "def s(idx,el,lst):\n",
    "    print(lst)\n",
    "    lst1 = lst[:idx]\n",
    "    lst1.append(el)\n",
    "    lst1 +=lst[idx:]\n",
    "    print(lst1)\n",
    "\n",
    "idx=int(input(\"enter index\"))\n",
    "el=input(\"enter element\")\n",
    "lst=[\"vip\",\"end\",\"ra\",\"pal\"]\n",
    "s(idx,el,lst)"
   ]
  },
  {
   "cell_type": "code",
   "execution_count": 41,
   "metadata": {},
   "outputs": [
    {
     "name": "stdout",
     "output_type": "stream",
     "text": [
      "['apple', 'banana', ['SEEk', 'ACE', 'cherry', '6']]\n"
     ]
    }
   ],
   "source": [
    "#append list in another list\n",
    "\n",
    "def s1(l,t):\n",
    "    print(l[:]+[t])\n",
    "l=[\"apple\",\"banana\"]\n",
    "t=[\"SEEk\",\"ACE\",\"cherry\",\"6\"]\n",
    "s1(l,t)"
   ]
  },
  {
   "cell_type": "code",
   "execution_count": 42,
   "metadata": {},
   "outputs": [
    {
     "name": "stdout",
     "output_type": "stream",
     "text": [
      "['apple', 'banana', 'SEEk', 'ACE', 'cherry', '6']\n"
     ]
    }
   ],
   "source": [
    "# Extend another list\n",
    "\n",
    "def s1(l,t):\n",
    "    print(l[:]+t[:])\n",
    "l=[\"apple\",\"banana\"]\n",
    "t=[\"SEEk\",\"ACE\",\"cherry\",\"6\"]\n",
    "s1(l,t)"
   ]
  },
  {
   "cell_type": "code",
   "execution_count": 43,
   "metadata": {},
   "outputs": [
    {
     "name": "stdout",
     "output_type": "stream",
     "text": [
      "4\n"
     ]
    }
   ],
   "source": [
    "# check length of the string without direct len function\n",
    "\n",
    "a = [\"apple\",\"banana\",\"mango\",\"charry\"]\n",
    "c =0\n",
    "while c!=len(a):\n",
    "    c+=1\n",
    "print(c)"
   ]
  },
  {
   "cell_type": "code",
   "execution_count": 44,
   "metadata": {},
   "outputs": [
    {
     "name": "stdout",
     "output_type": "stream",
     "text": [
      "enter string :i am vipendra pal rajput\n",
      "['i', 'am', 'vipendra', 'pal', 'rajput']\n"
     ]
    }
   ],
   "source": [
    "# take input & check minimum input 5\n",
    "def s():\n",
    "    while True:\n",
    "        a=input(\"enter string :\") # take input from user\n",
    "        b=a.split(\" \")   #break string when we found space in string\n",
    "        print(b)\n",
    "        if len(b)>=5:\n",
    "            break\n",
    "s()"
   ]
  },
  {
   "cell_type": "code",
   "execution_count": 45,
   "metadata": {},
   "outputs": [
    {
     "name": "stdout",
     "output_type": "stream",
     "text": [
      "enter string :i am vipen\n",
      "['i', 'am', 'vipen']\n",
      "enter string :i am vipendra pal rajput\n",
      "['i', 'am', 'vipendra', 'pal', 'rajput']\n",
      "1 i\n",
      "2 am\n",
      "3 vipendra\n",
      "4 pal\n",
      "5 rajput\n"
     ]
    }
   ],
   "source": [
    "# take input & check minimum input 5 and nubering index on which number\n",
    "def s():\n",
    "    while True:\n",
    "        a=input(\"enter string :\") # take input from user\n",
    "        b=a.split(\" \")   #break string when we found space in string\n",
    "        print(b)\n",
    "        if len(b)>=5:\n",
    "            for i in range(0,len(b)):\n",
    "                print(i+1,b[i])  # print index and elements\n",
    "            break\n",
    "s()"
   ]
  },
  {
   "cell_type": "code",
   "execution_count": 46,
   "metadata": {},
   "outputs": [
    {
     "name": "stdout",
     "output_type": "stream",
     "text": [
      "enter string :hello my name is vipendra\n",
      "['hello', 'my', 'name', 'is', 'vipendra']\n",
      "1 5 hello\n",
      "2 2 my\n",
      "3 4 name\n",
      "4 2 is\n",
      "5 8 vipendra\n"
     ]
    }
   ],
   "source": [
    "# take input & check minimum input 5 and nubering index\n",
    "def s():\n",
    "    while True:\n",
    "        a=input(\"enter string :\") # take input from user\n",
    "        b=a.split(\" \")   #break string when we found space in string\n",
    "        print(b)\n",
    "        if len(b)>=5:\n",
    "            for i in range(0,len(b)):\n",
    "                print(i+1,len(b[i]),b[i])    # print index and elements\n",
    "            break\n",
    "s()"
   ]
  },
  {
   "cell_type": "code",
   "execution_count": 47,
   "metadata": {},
   "outputs": [
    {
     "name": "stdout",
     "output_type": "stream",
     "text": [
      "name of user is abc and have index 1\n",
      "name of user is def and have index 2\n",
      "name of user is ghi and have index 3\n",
      "name of user is jkl and have index 4\n"
     ]
    }
   ],
   "source": [
    "users = [\"abc\",\"def\",\"ghi\",\"jkl\"]\n",
    "choice = [\"1\",\"2\",\"3\",\"4\"]\n",
    "for i in range(0,len(users)):\n",
    "    t = \"name of user is {} and have index {}\".format(users[i],choice[i])\n",
    "    print(t)"
   ]
  },
  {
   "cell_type": "code",
   "execution_count": 48,
   "metadata": {},
   "outputs": [
    {
     "name": "stdout",
     "output_type": "stream",
     "text": [
      "name of user is 1 and have index abc\n",
      "name of user is 2 and have index def\n",
      "name of user is 3 and have index ghi\n",
      "name of user is 4 and have index jkl\n"
     ]
    }
   ],
   "source": [
    "users = [\"abc\",\"def\",\"ghi\",\"jkl\"]\n",
    "choice = [\"1\",\"2\",\"3\",\"4\"]\n",
    "for i in range(0,len(users)):\n",
    "    t = \"name of user is {1} and have index {0}\".format(users[i],choice[i])\n",
    "    print(t)"
   ]
  },
  {
   "cell_type": "markdown",
   "metadata": {},
   "source": [
    "***"
   ]
  },
  {
   "cell_type": "markdown",
   "metadata": {},
   "source": [
    "## <center> Date : 08 Jan 2021 </center>"
   ]
  },
  {
   "cell_type": "markdown",
   "metadata": {},
   "source": [
    "***"
   ]
  },
  {
   "cell_type": "markdown",
   "metadata": {},
   "source": [
    "#### Sets {}"
   ]
  },
  {
   "cell_type": "code",
   "execution_count": 1,
   "metadata": {},
   "outputs": [
    {
     "name": "stdout",
     "output_type": "stream",
     "text": [
      "{'d', 'c', 'b', 'a'}\n"
     ]
    }
   ],
   "source": [
    "# a set is unordered or unindexed\n",
    "\n",
    "a = {\"a\",\"b\",\"c\",\"d\"}\n",
    "print(a)"
   ]
  },
  {
   "cell_type": "code",
   "execution_count": 2,
   "metadata": {},
   "outputs": [
    {
     "name": "stdout",
     "output_type": "stream",
     "text": [
      "{'b', 'a', 'd', 'r', 'e'}\n",
      "{'b', 'a', 'vip', 'd', 'r', 'e'}\n",
      "{'b', 'a', 'vip', 'd', 'r', 'e'}\n",
      "{'b', 'a', 'vip', 'd', 'r', 'e'}\n",
      "{'b', 'a', 'vip', 'd', 'r', 'e'}\n",
      "{'b', 'a', 'vip', 'd', 'r', 'e'}\n",
      "{'b', 'a', 'vip', 'd', 'r', 'e'}\n"
     ]
    }
   ],
   "source": [
    "# set do not allow duplicate values\n",
    "\n",
    "a={\"a\",\"b\",\"a\",\"d\",\"e\",\"r\",\"d\"}\n",
    "print(a)\n",
    "a.add(\"vip\")\n",
    "for x in a:\n",
    "    print(a)"
   ]
  },
  {
   "cell_type": "code",
   "execution_count": 3,
   "metadata": {},
   "outputs": [
    {
     "name": "stdout",
     "output_type": "stream",
     "text": [
      "{1, 2, 'c', 3, 'b', 'a', 'd'}\n",
      "\n",
      "\n",
      "{1, 2, 3, 'b', 'd', 'c'}\n",
      "\n",
      "\n",
      "{1, 2, 5}\n"
     ]
    }
   ],
   "source": [
    "# apply union function to merge to sets but they arrenge in unordered format\n",
    "\n",
    "set = {\"a\",\"b\",\"c\",\"d\"}\n",
    "set1={1,2,3}\n",
    "set3 = set.union(set1)\n",
    "print(set3)\n",
    "print('\\n')\n",
    "# to remove repetated values from set we use intersection\n",
    "\n",
    "set = {\"a\",\"b\",\"c\",\"d\"}\n",
    "set1={1,2,3,'a'}\n",
    "set3 = set.union(set1)-set.intersection(set1)\n",
    "print(set3)\n",
    "\n",
    "print('\\n')\n",
    "\n",
    "# Print that is comman value in two sets\n",
    "\n",
    "s={1,2,3,4,5}\n",
    "s1={5,6,7,1,2}\n",
    "print(s1.intersection(s))"
   ]
  },
  {
   "cell_type": "code",
   "execution_count": 1,
   "metadata": {
    "scrolled": true
   },
   "outputs": [
    {
     "name": "stdout",
     "output_type": "stream",
     "text": [
      "Please enter : vipendraVIPENDRA\n",
      "6\n"
     ]
    }
   ],
   "source": [
    "# Count vowels on the bases of set\n",
    "\n",
    "s=input(\"Please enter : \");\n",
    "d=set(\"aeiouAEIOU\")\n",
    "c=0\n",
    "for i in s:\n",
    "    if i in d:\n",
    "           c+=1;    \n",
    "print(c)"
   ]
  },
  {
   "cell_type": "code",
   "execution_count": 2,
   "metadata": {},
   "outputs": [
    {
     "name": "stdout",
     "output_type": "stream",
     "text": [
      "{3, 4, 6, 7}\n"
     ]
    }
   ],
   "source": [
    "# Print that is not comman value in two sets\n",
    "\n",
    "s={1,2,3,4,5}\n",
    "s1={5,6,7,1,2}\n",
    "s3 = set()\n",
    "for i in s:\n",
    "    if i not in s1:\n",
    "        s3.add(i)\n",
    "for i in s1:\n",
    "    if i not in s:\n",
    "        s3.add(i)\n",
    "    \n",
    "print(s3) "
   ]
  },
  {
   "cell_type": "markdown",
   "metadata": {},
   "source": [
    "### Dictionary\n"
   ]
  },
  {
   "cell_type": "code",
   "execution_count": 3,
   "metadata": {},
   "outputs": [
    {
     "name": "stdout",
     "output_type": "stream",
     "text": [
      "{'brand': 'Ford', 'model': 'mustang', 'Year': 1999}\n"
     ]
    }
   ],
   "source": [
    "# Print dictionary \n",
    "\n",
    "the = {\n",
    "    \"brand\":\"Ford\",\n",
    "    \"model\":\"mustang\",\n",
    "    \"Year\":1999,\n",
    "}\n",
    "print(the)"
   ]
  },
  {
   "cell_type": "code",
   "execution_count": 4,
   "metadata": {},
   "outputs": [
    {
     "name": "stdout",
     "output_type": "stream",
     "text": [
      "1999\n",
      "{'brand': 'Ford', 'model': 'mustang', 'Year': 1988}\n",
      "1988\n",
      "{'brand': 'Ford', 'model': 'mustang', 'Year': 1988, 'elc': True, 'colors': ['red', 'blac']}\n"
     ]
    }
   ],
   "source": [
    "# Print dictionary value on the bases of keys\n",
    "\n",
    "the = {\n",
    "    \"brand\":\"Ford\",\n",
    "    \"model\":\"mustang\",\n",
    "    \"Year\":1999,\n",
    "}\n",
    "print(the[\"Year\"])\n",
    "\n",
    "\n",
    "# if we enter duplicate value in list then it take latest value by default\n",
    "\n",
    "the = {\n",
    "    \"brand\":\"Ford\",\n",
    "    \"model\":\"mustang\",\n",
    "    \"Year\":1999,\n",
    "    \"Year\":1988\n",
    "}\n",
    "print(the)\n",
    "print(the[\"Year\"])\n",
    "\n",
    "\n",
    "# Dictionary contains all string int boolean and list inside dict\n",
    "\n",
    "the = {\n",
    "    \"brand\":\"Ford\",\n",
    "    \"model\":\"mustang\",\n",
    "    \"Year\":1999,\n",
    "    \"elc\":True,\n",
    "    \"Year\":1988,\n",
    "    \"colors\":[\"red\",\"blac\"]\n",
    "}\n",
    "print(the)"
   ]
  },
  {
   "cell_type": "code",
   "execution_count": 5,
   "metadata": {},
   "outputs": [
    {
     "name": "stdout",
     "output_type": "stream",
     "text": [
      "dict_keys(['brand', 'model', 'Year'])\n",
      "dict_values(['Ford', 'mustang', 1988])\n",
      "dict_keys(['brand', 'model', 'Year', 'color'])\n",
      "dict_values(['Ford', 'mustang', 1988, 'white'])\n"
     ]
    }
   ],
   "source": [
    "# Updeting keys\n",
    "car = {\n",
    "    \"brand\":\"Ford\",\n",
    "    \"model\":\"mustang\",\n",
    "    \"Year\":1999,\n",
    "    \"Year\":1988\n",
    "}\n",
    "x=car.keys()\n",
    "y=car.values()\n",
    "\n",
    "print(x)\n",
    "print(y)\n",
    "car[\"color\"]=\"white\"\n",
    "\n",
    "x=car.keys()\n",
    "y=car.values()\n",
    "\n",
    "print(x)\n",
    "print(y)\n"
   ]
  },
  {
   "cell_type": "code",
   "execution_count": 6,
   "metadata": {},
   "outputs": [
    {
     "name": "stdout",
     "output_type": "stream",
     "text": [
      "dict_items([('brand', 'Ford'), ('model', 'mustang'), ('Year', 1988)])\n",
      "dict_items([('brand', 'Ford'), ('model', 'mustang'), ('Year', 2020)])\n"
     ]
    }
   ],
   "source": [
    "# access items\n",
    "# Updeting keys\n",
    "car = {\n",
    "    \"brand\":\"Ford\",\n",
    "    \"model\":\"mustang\",\n",
    "    \"Year\":1999,\n",
    "    \"Year\":1988\n",
    "}\n",
    "x=car.items()\n",
    "\n",
    "print(x)\n",
    "car[\"Year\"]=2020\n",
    "\n",
    "print(x)"
   ]
  },
  {
   "cell_type": "code",
   "execution_count": 7,
   "metadata": {},
   "outputs": [
    {
     "name": "stdout",
     "output_type": "stream",
     "text": [
      "brand\n",
      "model\n",
      "Year\n",
      "\n",
      "\n",
      "Ford\n",
      "mustang\n",
      "2020\n",
      "\n",
      "\n",
      "brand Ford\n",
      "model mustang\n",
      "Year 2020\n",
      "\n",
      "\n",
      "('brand', 'Ford')\n",
      "('model', 'mustang')\n",
      "('Year', 2020)\n",
      "/n\n",
      "brand Ford\n",
      "model mustang\n",
      "Year 2020\n"
     ]
    }
   ],
   "source": [
    "for x in car:\n",
    "    print(x)\n",
    "    \n",
    "print('\\n')\n",
    "\n",
    "for x in car:\n",
    "    print(car[x])\n",
    "    \n",
    "    \n",
    "print('\\n')\n",
    "\n",
    "for x in car:\n",
    "    print(x,car[x])\n",
    "    \n",
    "print('\\n')\n",
    "\n",
    "for x in car.items():\n",
    "    print(x)\n",
    "    \n",
    "print('/n')\n",
    "\n",
    "for x,y in car.items():\n",
    "    print(x,y)"
   ]
  },
  {
   "cell_type": "code",
   "execution_count": 8,
   "metadata": {},
   "outputs": [
    {
     "name": "stdout",
     "output_type": "stream",
     "text": [
      "{'brand': 'Ford', 'model': 'mustang', 'Year': 1988}\n"
     ]
    }
   ],
   "source": [
    "car = {\n",
    "    \"brand\":\"Ford\",\n",
    "    \"model\":\"mustang\",\n",
    "    \"Year\":1999,\n",
    "    \"Year\":1988\n",
    "}\n",
    "mycar = car.copy()\n",
    "print(mycar)"
   ]
  },
  {
   "cell_type": "code",
   "execution_count": 9,
   "metadata": {},
   "outputs": [
    {
     "name": "stdout",
     "output_type": "stream",
     "text": [
      "{'child': {'name': 'Email', 'year': 2004}, 'child1': {'name': 'tobias', 'year': 2006}, 'child2': {'name': 'tins', 'year': 2011}}\n",
      "\n",
      "\n",
      "dict_values([{'name': 'Email', 'year': 2004}, {'name': 'tobias', 'year': 2006}, {'name': 'tins', 'year': 2011}])\n",
      "\n",
      "\n",
      "dict_keys(['child', 'child1', 'child2'])\n",
      "\n",
      "\n",
      "dict_items([('child', {'name': 'Email', 'year': 2004}), ('child1', {'name': 'tobias', 'year': 2006}), ('child2', {'name': 'tins', 'year': 2011})])\n"
     ]
    }
   ],
   "source": [
    "myfam = {\n",
    "    \"child\":{\n",
    "        \"name\":\"Email\",\n",
    "        \"year\":2004\n",
    "    },\n",
    "    \"child1\":{\n",
    "        \"name\":\"tobias\",\n",
    "        \"year\":2006\n",
    "    },\n",
    "    \"child2\":{\n",
    "        \"name\":\"tins\",\n",
    "        \"year\":2011\n",
    "    },\n",
    "}\n",
    "\n",
    "\n",
    "print(myfam)\n",
    "print(\"\\n\")\n",
    "print(myfam.values())\n",
    "print(\"\\n\")\n",
    "\n",
    "print(myfam.keys())\n",
    "print(\"\\n\")\n",
    "\n",
    "print(myfam.items())"
   ]
  },
  {
   "cell_type": "code",
   "execution_count": 10,
   "metadata": {},
   "outputs": [
    {
     "name": "stdout",
     "output_type": "stream",
     "text": [
      "{'c1': {'name': 'Email', 'year': 2004}, 'c2': {'name': 'tobias', 'year': 2006}, 'c3': {'name': 'tins', 'year': 2011}}\n",
      "\n",
      "\n"
     ]
    }
   ],
   "source": [
    "child = {\n",
    "    \"name\":\"Email\",\n",
    "    \"year\":2004\n",
    "}\n",
    "child1= {\n",
    "    \"name\":\"tobias\",\n",
    "    \"year\":2006\n",
    "}\n",
    "child2 = {\n",
    "    \"name\":\"tins\",\n",
    "    \"year\":2011\n",
    "}\n",
    "myfam={\n",
    "    \"c1\" :child,\n",
    "    \"c2\":child1,\n",
    "    \"c3\": child2\n",
    "}\n",
    "\n",
    "\n",
    "print(myfam)\n",
    "print(\"\\n\")\n"
   ]
  },
  {
   "cell_type": "code",
   "execution_count": 11,
   "metadata": {},
   "outputs": [
    {
     "name": "stdout",
     "output_type": "stream",
     "text": [
      "enyter addedvipen 9\n",
      "enter grade  value9\n",
      "{'vipen 9': '9'}\n"
     ]
    }
   ],
   "source": [
    "# take input and pair them as the key and values\n",
    "\n",
    "key = input(\"enyter added\")\n",
    "value = input(\"enter grade  value\")\n",
    "d={}\n",
    "d.update({key:value})\n",
    "print(d)"
   ]
  },
  {
   "cell_type": "code",
   "execution_count": 12,
   "metadata": {},
   "outputs": [
    {
     "name": "stdout",
     "output_type": "stream",
     "text": [
      "enter how many entry you want to enter2\n",
      "enyter keys : vipen1\n",
      "enter values : 94\n",
      "{'vipen1': '94'}\n",
      "enyter keys : vipen2\n",
      "enter values : 90\n",
      "{'vipen1': '94', 'vipen2': '90'}\n"
     ]
    }
   ],
   "source": [
    "# take input from user to enter in dictionary key and values\n",
    "\n",
    "num = int(input(\"enter how many entry you want to enter\"))\n",
    "d={}\n",
    "for i in range(0,num):\n",
    "    key = input(\"enyter keys : \")\n",
    "    value = input(\"enter values : \")\n",
    "    d.update({key:value})\n",
    "    print(d)"
   ]
  },
  {
   "cell_type": "code",
   "execution_count": 13,
   "metadata": {},
   "outputs": [
    {
     "name": "stdout",
     "output_type": "stream",
     "text": [
      "{'a': 1, 'b': 2, 'c': 3}\n"
     ]
    }
   ],
   "source": [
    "# Merge to dictionay on the bases of key & value pairs\n",
    "x=[\"a\",\"b\",\"c\"]\n",
    "v=[1,2,3]\n",
    "d=dict(zip(x,v))\n",
    "print(d)"
   ]
  },
  {
   "cell_type": "markdown",
   "metadata": {},
   "source": [
    "### <center> Practice Set </center>"
   ]
  },
  {
   "cell_type": "markdown",
   "metadata": {},
   "source": [
    "#### Question\n",
    "    student name=[Alice, John, Bob]\n",
    "    Grade=[8,7,10]\n",
    "    Q Give name of student scoring higest marks with his marks\n",
    "    Bob-10\n",
    "\n",
    "       Convert inito dictionary thn do it again\n",
    "\n",
    "\n",
    "2. Q o Sum All the values  in a Dictionary\n",
    "    1: 100\n",
    "    2:200\n",
    "    3:500\n",
    "\n",
    "\n",
    "3. Q. Merge two dictionaries into 1\n",
    "\n",
    "4. Q. Get the key corresponding to the minimum value from the following dictionary\n",
    "    Sub 1: 6\n",
    "    Sub 2: 7\n",
    "    Sub 3: 5\n"
   ]
  },
  {
   "cell_type": "code",
   "execution_count": 2,
   "metadata": {},
   "outputs": [
    {
     "name": "stdout",
     "output_type": "stream",
     "text": [
      "BOB 16\n",
      "TUR 16\n"
     ]
    }
   ],
   "source": [
    "s = [\"alice\", \"john\",\"trum\", \"BOB\",\"Race\",\"TUR\"]\n",
    "grade = [8,7,9,16,11,16]\n",
    "l = max(grade)\n",
    "for i in range(len(s)):\n",
    "    if grade[i] ==l:\n",
    "            print(s[i],grade[i])"
   ]
  },
  {
   "cell_type": "code",
   "execution_count": 3,
   "metadata": {},
   "outputs": [
    {
     "name": "stdout",
     "output_type": "stream",
     "text": [
      "{'alice': 8, 'john': 7, 'trum': 9, 'BOB': 16, 'Race': 11, 'TUR': 16}\n",
      "16\n"
     ]
    }
   ],
   "source": [
    "s = [\"alice\", \"john\",\"trum\", \"BOB\",\"Race\",\"TUR\"]\n",
    "grade = [8,7,9,16,11,16]\n",
    "dt=dict(zip(s,grade))\n",
    "print(dt)\n",
    "m = max(dt.values())\n",
    "print(m)\n",
    "for i in dt:\n",
    "    if i==m:\n",
    "        print()"
   ]
  },
  {
   "cell_type": "code",
   "execution_count": 4,
   "metadata": {},
   "outputs": [
    {
     "name": "stdout",
     "output_type": "stream",
     "text": [
      "530\n"
     ]
    }
   ],
   "source": [
    "# Find Sum of All the values  in a Dictionary\n",
    "\n",
    "dict = {\"a\": 60, \"b\":150, \"c\":200,\"d\":120}\n",
    "s = 0\n",
    "for i in dict:\n",
    "    s = s + dict[i] \n",
    "print(s)\n",
    "    "
   ]
  },
  {
   "cell_type": "code",
   "execution_count": 5,
   "metadata": {},
   "outputs": [
    {
     "name": "stdout",
     "output_type": "stream",
     "text": [
      "{'a': 'apple', 'b': 'Banana', 'o': 'fruits', 'k': 'Kiwi', 'm': 'Mango'}\n"
     ]
    }
   ],
   "source": [
    "# Merge two dictionaries into one\n",
    "\n",
    "f1 = {'a': 'apple', 'b': 'Banana' , 'o': 'Orange'}\n",
    "f2 = { 'k': 'Kiwi', 'm': 'Mango','o': 'fruits'}\n",
    "f1.update(f2)\n",
    "print(f1)"
   ]
  },
  {
   "cell_type": "code",
   "execution_count": 6,
   "metadata": {},
   "outputs": [
    {
     "name": "stdout",
     "output_type": "stream",
     "text": [
      "dict_values([6, 7, 5])\n",
      "5\n",
      "Sub 3 5\n"
     ]
    }
   ],
   "source": [
    "# Get the key corresponding to the minimum value from the following dictionary\n",
    "\n",
    "\n",
    "a = {'Sub 1':6, 'Sub 2':7, 'Sub 3':5}\n",
    "print(a.values())\n",
    "value = min(a.values())\n",
    "print(value)\n",
    "for i in a: \n",
    "    if a[i] == value:\n",
    "        print(i,a[i])"
   ]
  },
  {
   "cell_type": "code",
   "execution_count": 1,
   "metadata": {},
   "outputs": [
    {
     "name": "stdout",
     "output_type": "stream",
     "text": [
      "Enter namevipen pal\n",
      "['Vipen', 'Pal']\n",
      "{'Fname': 'Vipen', 'Lname': 'Pal'}\n",
      "enter marks: 3\n",
      "enter marks: 4\n",
      "enter marks: 5\n",
      "[3, 4, 5]\n",
      "3 4 5\n"
     ]
    }
   ],
   "source": [
    "# Enter Name and last name and capital first letter and enter marks and grade\n",
    "\n",
    "#num = int(input(\"enter number\"))\n",
    "#for i in range(0,num):\n",
    "\n",
    "d = []\n",
    "f,g = \"Fname\",\"Lname\"\n",
    "d.append(f)\n",
    "d.append(g)\n",
    "\n",
    "a = input(\"Enter name\")\n",
    "gg = a.title()\n",
    "b=gg.split(\" \")\n",
    "print(b)\n",
    "d=dict(zip(d,b))\n",
    "print(d)\n",
    "\n",
    "mark = []\n",
    "for i in range(0,3):\n",
    "    while True:\n",
    "        c = int(input(\"enter marks: \"))\n",
    "        if c>=0 and c<=100:\n",
    "            marks=c\n",
    "            mark.append(marks)\n",
    "            break\n",
    "print(mark)\n",
    "marks1,marks2,marks3=mark[0],mark[1],mark[2]\n",
    "print(marks1,marks2,marks3)\n",
    "\n"
   ]
  },
  {
   "cell_type": "code",
   "execution_count": 2,
   "metadata": {
    "scrolled": true
   },
   "outputs": [
    {
     "name": "stdout",
     "output_type": "stream",
     "text": [
      "55\n",
      "\n",
      "\n",
      "0\n",
      "1\n",
      "4\n",
      "9\n",
      "16\n",
      "25\n",
      "36\n",
      "49\n",
      "64\n",
      "81\n"
     ]
    }
   ],
   "source": [
    "# Find square and sum \n",
    "\n",
    "a=[1,2,3,4,5,6,7,8,9,10]\n",
    "print(sum(a))\n",
    "\n",
    "print('\\n')\n",
    "\n",
    "for i in range(10):\n",
    "    if i<10:\n",
    "        i=i*i\n",
    "        print(i)"
   ]
  },
  {
   "cell_type": "markdown",
   "metadata": {},
   "source": [
    "***"
   ]
  },
  {
   "cell_type": "markdown",
   "metadata": {},
   "source": [
    "## <center> Date : 11 Jan 2021 </center>"
   ]
  },
  {
   "cell_type": "markdown",
   "metadata": {},
   "source": [
    "***"
   ]
  },
  {
   "cell_type": "code",
   "execution_count": 28,
   "metadata": {},
   "outputs": [
    {
     "name": "stdout",
     "output_type": "stream",
     "text": [
      "how many records you want to enter1\n",
      "enter namevipen\n",
      "enter marks 02\n",
      "total marks 2.0\n",
      "enter marks 05\n",
      "total marks 7.0\n",
      "enter marks 06\n",
      "total marks 13.0\n",
      "enter marks 07\n",
      "total marks 20.0\n",
      "enter marks 08\n",
      "total marks 28.0\n",
      "\n",
      "\n",
      "{'vipen': [2.0, 5.0, 6.0, 7.0, 8.0]}\n"
     ]
    }
   ],
   "source": [
    "students = dict()\n",
    "n = int(input(\"how many records you want to enter\"))\n",
    "for i in range(n):\n",
    "    sname = input(\"enter name\")\n",
    "    marks= []\n",
    "    for j in range(5):\n",
    "        m = float(input(\"enter marks {}\".format(i)))\n",
    "        marks.append(m)\n",
    "        ss = sum(marks)\n",
    "        print(\"total marks\",ss)\n",
    "    print('\\n')\n",
    "    students[sname] = marks\n",
    "    \n",
    "print(students)"
   ]
  },
  {
   "cell_type": "code",
   "execution_count": 32,
   "metadata": {},
   "outputs": [
    {
     "name": "stdout",
     "output_type": "stream",
     "text": [
      "thr hav\n",
      "thrhav\n",
      "thr ('email', 'jab', 'hav')\n"
     ]
    }
   ],
   "source": [
    "# if you do not know how many arguments will be passed in your function\n",
    "# add a * befor parameter in function\n",
    "\n",
    "def my_function(*kids):\n",
    "    print(\"thr\",kids[2])\n",
    "    print(\"thr\"+kids[2])\n",
    "    print(\"thr\",kids)\n",
    "my_function(\"email\",\"jab\",\"hav\")"
   ]
  },
  {
   "cell_type": "code",
   "execution_count": 35,
   "metadata": {},
   "outputs": [
    {
     "name": "stdout",
     "output_type": "stream",
     "text": [
      "thr hav\n",
      "thr jab\n"
     ]
    }
   ],
   "source": [
    "# we difine values in  function so it not change its index\n",
    "\n",
    "def my_function(child3,child2,child1):\n",
    "    print(\"thr\",child3)\n",
    "    print(\"thr\",child2)\n",
    "my_function(child1 = \"email\",child2 = \"jab\",child3 = \"hav\")"
   ]
  },
  {
   "cell_type": "code",
   "execution_count": 41,
   "metadata": {},
   "outputs": [
    {
     "name": "stdout",
     "output_type": "stream",
     "text": [
      "i am from : swedan\n",
      "i am from : india\n",
      "i am from : time\n",
      "i am from : Brazil\n"
     ]
    }
   ],
   "source": [
    "def my_function(country):\n",
    "    print(\"i am from : \"+country)\n",
    "my_function(\"swedan\")\n",
    "my_function(\"india\")\n",
    "my_function(\"time\")\n",
    "my_function(\"Brazil\")"
   ]
  },
  {
   "cell_type": "code",
   "execution_count": 40,
   "metadata": {},
   "outputs": [
    {
     "name": "stdout",
     "output_type": "stream",
     "text": [
      "i am from : swedan\n",
      "i am from : india\n",
      "i am from : Norway\n",
      "i am from : Brazil\n"
     ]
    }
   ],
   "source": [
    "def my_function(country = \"Norway\"):\n",
    "    print(\"i am from : \"+country)\n",
    "my_function(\"swedan\")\n",
    "my_function(\"india\")\n",
    "my_function()\n",
    "my_function(\"Brazil\")"
   ]
  },
  {
   "cell_type": "code",
   "execution_count": 42,
   "metadata": {},
   "outputs": [
    {
     "name": "stdout",
     "output_type": "stream",
     "text": [
      "app\n",
      "bana\n",
      "cherr\n"
     ]
    }
   ],
   "source": [
    "def my_function(food):\n",
    "    for x in food:\n",
    "        print(x)\n",
    "fruits = [\"app\",\"bana\",\"cherr\"]\n",
    "\n",
    "my_function(fruits)"
   ]
  },
  {
   "cell_type": "code",
   "execution_count": 46,
   "metadata": {},
   "outputs": [
    {
     "name": "stdout",
     "output_type": "stream",
     "text": [
      "15\n",
      "15\n",
      "20\n",
      "25\n"
     ]
    }
   ],
   "source": [
    "def my_function(x):\n",
    "        return 5 * x\n",
    "\n",
    "a=my_function(3)\n",
    "print(a)\n",
    "print(my_function(3))\n",
    "print(my_function(4))\n",
    "print(my_function(5))"
   ]
  },
  {
   "cell_type": "code",
   "execution_count": 50,
   "metadata": {},
   "outputs": [
    {
     "name": "stdout",
     "output_type": "stream",
     "text": [
      "how many records you want to enter1\n",
      "Enter namevip\n",
      "enter marks 03\n",
      "total marks 3.0\n",
      "enter marks 04\n",
      "total marks 7.0\n",
      "enter marks 05\n",
      "total marks 12.0\n",
      "enter marks 06\n",
      "total marks 18.0\n",
      "enter marks 07\n",
      "total marks 25.0\n",
      "\n",
      "\n",
      "{'vip': [3.0, 4.0, 5.0, 6.0, 7.0]}\n"
     ]
    }
   ],
   "source": [
    "students = dict()\n",
    "\n",
    "def st_name():\n",
    "    return input(\"Enter name\")\n",
    "    \n",
    "def st_marks():\n",
    "    marks = []\n",
    "    for j in range(5):\n",
    "        m = float(input(\"enter marks {}\".format(i)))\n",
    "        marks.append(m)\n",
    "        ss = sum(marks)\n",
    "        print(\"total marks\",ss)\n",
    "    print('\\n')\n",
    "    students[sname] = marks\n",
    "\n",
    "    \n",
    "n = int(input(\"how many records you want to enter\"))\n",
    "for i in range(n):\n",
    "    sname = st_name()\n",
    "    st_marks()\n",
    "print(students)"
   ]
  },
  {
   "cell_type": "code",
   "execution_count": 2,
   "metadata": {},
   "outputs": [
    {
     "name": "stdout",
     "output_type": "stream",
     "text": [
      "how many records you want to enter2\n",
      "Enter namevip\n",
      "enter marks 03\n",
      "enter marks 04\n",
      "enter marks 05\n",
      "enter marks 06\n",
      "enter marks 07\n",
      "avg 5.0\n",
      "total marks 25.0\n",
      "\n",
      "\n"
     ]
    },
    {
     "ename": "NameError",
     "evalue": "name 'sss' is not defined",
     "output_type": "error",
     "traceback": [
      "\u001b[1;31m---------------------------------------------------------------------------\u001b[0m",
      "\u001b[1;31mNameError\u001b[0m                                 Traceback (most recent call last)",
      "\u001b[1;32m<ipython-input-2-09a10a3cbb2d>\u001b[0m in \u001b[0;36m<module>\u001b[1;34m\u001b[0m\n\u001b[0;32m     22\u001b[0m     \u001b[0msname\u001b[0m \u001b[1;33m=\u001b[0m \u001b[0mst_name\u001b[0m\u001b[1;33m(\u001b[0m\u001b[1;33m)\u001b[0m\u001b[1;33m\u001b[0m\u001b[1;33m\u001b[0m\u001b[0m\n\u001b[0;32m     23\u001b[0m     \u001b[0mst_marks\u001b[0m\u001b[1;33m(\u001b[0m\u001b[1;33m)\u001b[0m\u001b[1;33m\u001b[0m\u001b[1;33m\u001b[0m\u001b[0m\n\u001b[1;32m---> 24\u001b[1;33m     \u001b[0mssss\u001b[0m \u001b[1;33m=\u001b[0m \u001b[1;33m(\u001b[0m\u001b[0msss\u001b[0m\u001b[1;33m/\u001b[0m\u001b[0mn\u001b[0m\u001b[1;33m)\u001b[0m\u001b[1;33m\u001b[0m\u001b[1;33m\u001b[0m\u001b[0m\n\u001b[0m\u001b[0;32m     25\u001b[0m     \u001b[0mprint\u001b[0m\u001b[1;33m(\u001b[0m\u001b[0mssss\u001b[0m\u001b[1;33m)\u001b[0m\u001b[1;33m\u001b[0m\u001b[1;33m\u001b[0m\u001b[0m\n\u001b[0;32m     26\u001b[0m \u001b[0mprint\u001b[0m\u001b[1;33m(\u001b[0m\u001b[0mstudents\u001b[0m\u001b[1;33m)\u001b[0m\u001b[1;33m\u001b[0m\u001b[1;33m\u001b[0m\u001b[0m\n",
      "\u001b[1;31mNameError\u001b[0m: name 'sss' is not defined"
     ]
    }
   ],
   "source": [
    "students = dict()\n",
    "\n",
    "def st_name():\n",
    "    return input(\"Enter name\")\n",
    "    \n",
    "def st_marks():\n",
    "    marks = []\n",
    "    for j in range(5):\n",
    "        m = float(input(\"enter marks {}\".format(i)))\n",
    "        marks.append(m)\n",
    "        ss = sum(marks)\n",
    "        sss = (ss*100)/500\n",
    "    print(\"avg\" ,sss)\n",
    "    print(\"total marks\",ss)\n",
    "    \n",
    "    print('\\n')\n",
    "    students[sname] = marks\n",
    "    \n",
    "  \n",
    "n = int(input(\"how many records you want to enter\"))\n",
    "for i in range(n):\n",
    "    sname = st_name()\n",
    "    st_marks()\n",
    "    ssss = (sss/n)\n",
    "    print(ssss)\n",
    "print(students)"
   ]
  },
  {
   "cell_type": "code",
   "execution_count": 63,
   "metadata": {},
   "outputs": [
    {
     "name": "stdout",
     "output_type": "stream",
     "text": [
      "15\n"
     ]
    }
   ],
   "source": [
    "# Python lambda\n",
    "# A lambda is small anyonms function\n",
    "# a lambda function can take any number of arguments and only have only one expression\n",
    "\n",
    "x = lambda a: a+10\n",
    "print(x(5))"
   ]
  },
  {
   "cell_type": "code",
   "execution_count": 64,
   "metadata": {},
   "outputs": [
    {
     "name": "stdout",
     "output_type": "stream",
     "text": [
      "30\n"
     ]
    }
   ],
   "source": [
    "x = lambda a, b: a*b\n",
    "print(x(5,6))"
   ]
  },
  {
   "cell_type": "code",
   "execution_count": 65,
   "metadata": {},
   "outputs": [
    {
     "name": "stdout",
     "output_type": "stream",
     "text": [
      "[4, 8, 12, 18]\n"
     ]
    }
   ],
   "source": [
    "# In python we generally use it as an a higher order function\n",
    "# it uses with map(), filter(), reduce()\n",
    "\n",
    "my_list = [1,5,4,9,8,12,15,18]\n",
    "new_list = list(filter(lambda x: (x%2==0), my_list))\n",
    "print(new_list)"
   ]
  },
  {
   "cell_type": "code",
   "execution_count": 67,
   "metadata": {},
   "outputs": [
    {
     "name": "stdout",
     "output_type": "stream",
     "text": [
      "[56, 45, 34, 36, 56]\n"
     ]
    }
   ],
   "source": [
    "# Find age above 30 years\n",
    "ages = [56,45,34,36,23,56,18]\n",
    "new_ages = list(filter(lambda x: x>30, ages))\n",
    "print(new_ages)"
   ]
  },
  {
   "cell_type": "code",
   "execution_count": 69,
   "metadata": {},
   "outputs": [
    {
     "name": "stdout",
     "output_type": "stream",
     "text": [
      "[2, 10, 8, 18, 16, 24, 30, 36]\n"
     ]
    }
   ],
   "source": [
    "# map()\n",
    "\n",
    "my_list = [1,5,4,9,8,12,15,18]\n",
    "new_list = list(map(lambda x: x*2, my_list))\n",
    "print(new_list)"
   ]
  },
  {
   "cell_type": "code",
   "execution_count": 71,
   "metadata": {},
   "outputs": [
    {
     "name": "stdout",
     "output_type": "stream",
     "text": [
      "['DOG', 'CAT', 'PARROT', 'RABBIT']\n"
     ]
    }
   ],
   "source": [
    "# Convert in upper case\n",
    "animals = [\"dog\",\"cat\",\"parrot\",\"rabbit\"]\n",
    "u_animals = list(map(lambda a: str.upper(a), animals))\n",
    "\n",
    "print(u_animals)"
   ]
  },
  {
   "cell_type": "code",
   "execution_count": 78,
   "metadata": {},
   "outputs": [
    {
     "name": "stdout",
     "output_type": "stream",
     "text": [
      "120\n"
     ]
    }
   ],
   "source": [
    "from functools import reduce\n",
    "\n",
    "\n",
    "seq = [1,2,3,4,5]\n",
    "fil_res = reduce (lambda x,y : (x*y), seq)\n",
    "print(fil_res)"
   ]
  },
  {
   "cell_type": "code",
   "execution_count": 81,
   "metadata": {},
   "outputs": [
    {
     "name": "stdout",
     "output_type": "stream",
     "text": [
      "3.0\n"
     ]
    }
   ],
   "source": [
    "from functools import reduce\n",
    "seq = [1,2,3,4,5]\n",
    "l = len(seq)\n",
    "fil_res = reduce (lambda x,y : x+y, seq)\n",
    "a = fil_res/l\n",
    "print(a)"
   ]
  },
  {
   "cell_type": "markdown",
   "metadata": {},
   "source": [
    "### <center> Practice Set </center>"
   ]
  },
  {
   "cell_type": "markdown",
   "metadata": {},
   "source": [
    "###### Q1.Create a function showEmployee() in such a way that it should accept employee name, and it’s salary and display both, and if the salary is missing in function call it should show it as 9000\n",
    "###### Q2. Return the mean and median of the given list\n",
    "######  Q3. Make a menu driven calculator using functions.\n",
    "    Enter 1 to perform addition\n",
    "    Enter 7 to exit\n",
    "    "
   ]
  },
  {
   "cell_type": "code",
   "execution_count": 162,
   "metadata": {},
   "outputs": [
    {
     "name": "stdout",
     "output_type": "stream",
     "text": [
      "Emp_name is :  Vipenn salary is: 5\n",
      "Emp_name is :  Vipen salary is: 9000\n"
     ]
    }
   ],
   "source": [
    "# Create a function showEmployee() in such a way that it should accept employee name, \n",
    "# and it’s salary and display both, and if the salary is missing in function call it should show it as 9000\n",
    "\n",
    "def showEmployee(a,b = 9000):\n",
    "    print(\"Emp_name is : \", a, \"salary is:\", b)\n",
    "\n",
    "showEmployee(\"Vipenn\",5)\n",
    "showEmployee(\"Vipen\",)"
   ]
  },
  {
   "cell_type": "code",
   "execution_count": 2,
   "metadata": {},
   "outputs": [
    {
     "name": "stdout",
     "output_type": "stream",
     "text": [
      "Median :  5\n",
      "Median :  6.5\n"
     ]
    }
   ],
   "source": [
    "# find meadian \n",
    "\n",
    "def median(list):\n",
    "    list.sort()\n",
    "    l = len(list)\n",
    "    mid = (l-1)//2\n",
    "    if(l%2==0):\n",
    "        return (list[mid] + list[mid+1])/2\n",
    "    else:\n",
    "        return list[mid]\n",
    "        \n",
    "list1 = [2, 3, 3, 5, 6, 7, 7]\n",
    "list2 = [3, 4, 6, 6, 7, 8, 8, 10]\n",
    "print(\"Median : \", median(list1))\n",
    "print(\"Median : \", median(list2))"
   ]
  },
  {
   "cell_type": "code",
   "execution_count": 8,
   "metadata": {
    "scrolled": false
   },
   "outputs": [
    {
     "name": "stdout",
     "output_type": "stream",
     "text": [
      "Enter Number For performing operation \n",
      "1. Addition \n",
      "2. Subtraction\n",
      "3. Multiplication \n",
      "4. Division \n",
      "7. Exit \n",
      "\n",
      "what operation do you want to do ?  4\n",
      "Enter two numbers\n",
      "Enter Nuber 1st : 1\n",
      "Enter Number 2nd : 0\n",
      "Division is :  invalid divisiual : division can not be zero\n"
     ]
    }
   ],
   "source": [
    "# Make a menu driven calculator using functions.\n",
    "# Enter 1 to perform addition & Enter 7 to exit\n",
    "\n",
    "def add(n1,n2):\n",
    "    return n1 + n2\n",
    "def sub(n1,n2):\n",
    "    return n1 - n2\n",
    "def mul(n1,n2):\n",
    "    return n1 * n2\n",
    "def div(n1,n2):\n",
    "    if n2 ==0:\n",
    "        return 'invalid divisiual : division can not be zero'\n",
    "    return n1 / n2\n",
    "\n",
    "print(\"Enter Number For performing operation \\n\" \"1. Addition \\n\" \"2. Subtraction\\n\" \"3. Multiplication \\n\"\"4. Division \\n\" \"7. Exit \\n\")\n",
    "\n",
    "s = int(input(\"what operation do you want to do ?  \"))\n",
    "\n",
    "if s>0 and s<5:\n",
    "    print(\"Enter two numbers\")\n",
    "    num1 = int(input(\"Enter Nuber 1st : \"))\n",
    "    num2 = int(input(\"Enter Number 2nd : \"))\n",
    "    if s==1:\n",
    "        print(\"Addition is : \",add(num1,num2))\n",
    "    elif s==2:\n",
    "        print(\"Subtraction is : \",sub(num1,num2))\n",
    "    elif s==3:\n",
    "        print(\"Multiplation is : \",mul(num1,num2))\n",
    "    else:\n",
    "        print(\"Division is : \",div(num1,num2))\n",
    "elif s==7:\n",
    "    pass \n",
    "else:\n",
    "    print(\"Invalid\")\n",
    "\n"
   ]
  },
  {
   "cell_type": "markdown",
   "metadata": {},
   "source": [
    "***"
   ]
  },
  {
   "cell_type": "markdown",
   "metadata": {},
   "source": [
    "## <center> Date : 12 Jan 2021 </center>"
   ]
  },
  {
   "cell_type": "markdown",
   "metadata": {},
   "source": [
    "***"
   ]
  },
  {
   "cell_type": "markdown",
   "metadata": {},
   "source": [
    "## Numpy Array"
   ]
  },
  {
   "cell_type": "code",
   "execution_count": 1,
   "metadata": {},
   "outputs": [],
   "source": [
    "import numpy as np"
   ]
  },
  {
   "cell_type": "code",
   "execution_count": 98,
   "metadata": {},
   "outputs": [
    {
     "name": "stdout",
     "output_type": "stream",
     "text": [
      "[1 2 3 4 5]\n"
     ]
    },
    {
     "data": {
      "text/plain": [
       "numpy.ndarray"
      ]
     },
     "execution_count": 98,
     "metadata": {},
     "output_type": "execute_result"
    }
   ],
   "source": [
    "# input array\n",
    "\n",
    "arr = np.array([1,2,3,4,5])\n",
    "print(arr)\n",
    "type(arr)"
   ]
  },
  {
   "cell_type": "code",
   "execution_count": 99,
   "metadata": {},
   "outputs": [
    {
     "name": "stdout",
     "output_type": "stream",
     "text": [
      "[1 2 3 4 5]\n"
     ]
    }
   ],
   "source": [
    "# 1-D Array\n",
    "\n",
    "arr = np.array((1,2,3,4,5))\n",
    "print(arr)"
   ]
  },
  {
   "cell_type": "code",
   "execution_count": 102,
   "metadata": {},
   "outputs": [
    {
     "name": "stdout",
     "output_type": "stream",
     "text": [
      "[[1 2 3]\n",
      " [4 5 6]]\n"
     ]
    }
   ],
   "source": [
    "# 2-D Array \n",
    "\n",
    "arr = np.array([[1,2,3],[4,5,6]])\n",
    "print(arr)"
   ]
  },
  {
   "cell_type": "code",
   "execution_count": 103,
   "metadata": {},
   "outputs": [
    {
     "name": "stdout",
     "output_type": "stream",
     "text": [
      "1\n"
     ]
    }
   ],
   "source": [
    "arr = np.array([1,2,3,4,5])\n",
    "print(arr[0])"
   ]
  },
  {
   "cell_type": "code",
   "execution_count": 108,
   "metadata": {},
   "outputs": [
    {
     "name": "stdout",
     "output_type": "stream",
     "text": [
      "2\n"
     ]
    }
   ],
   "source": [
    "arr = np.array([[1,2,3,4,5],[6,7,8,9,10]])\n",
    "print(arr[0,1])"
   ]
  },
  {
   "cell_type": "code",
   "execution_count": 109,
   "metadata": {},
   "outputs": [
    {
     "name": "stdout",
     "output_type": "stream",
     "text": [
      "5\n"
     ]
    }
   ],
   "source": [
    "arr = np.array([[1,2,3,4,5],[6,7,8,9,10]])\n",
    "print(arr[0,-1])"
   ]
  },
  {
   "cell_type": "code",
   "execution_count": 110,
   "metadata": {},
   "outputs": [
    {
     "name": "stdout",
     "output_type": "stream",
     "text": [
      "[2 3]\n"
     ]
    }
   ],
   "source": [
    "# Slicing\n",
    "\n",
    "arr = np.array([1,2,3,4,5])\n",
    "print(arr[1:3])"
   ]
  },
  {
   "cell_type": "code",
   "execution_count": 112,
   "metadata": {},
   "outputs": [
    {
     "name": "stdout",
     "output_type": "stream",
     "text": [
      "3\n"
     ]
    }
   ],
   "source": [
    "arr = np.array([[1,2,3,4,5],[6,7,8,9,10],[4,3,5,6,7]])\n",
    "print(arr[-1,-4])"
   ]
  },
  {
   "cell_type": "code",
   "execution_count": 115,
   "metadata": {},
   "outputs": [
    {
     "name": "stdout",
     "output_type": "stream",
     "text": [
      "[2 3]\n",
      "[1 2 3 4]\n",
      "[5 6 7 8]\n",
      "[2 4 6]\n",
      "[1 3 5 7]\n"
     ]
    }
   ],
   "source": [
    "arr = np.array([1,2,3,4,5,6,7,8])\n",
    "print(arr[1:3])\n",
    "print(arr[:4])\n",
    "print(arr[4:])\n",
    "print(arr[1:6:2])\n",
    "print(arr[::2])"
   ]
  },
  {
   "cell_type": "code",
   "execution_count": 114,
   "metadata": {},
   "outputs": [
    {
     "name": "stdout",
     "output_type": "stream",
     "text": [
      "[2 4 6]\n"
     ]
    }
   ],
   "source": [
    "arr = np.array([1,2,3,4,5,6,7,8])\n",
    "print(arr[1:6:2])"
   ]
  },
  {
   "cell_type": "code",
   "execution_count": 126,
   "metadata": {},
   "outputs": [
    {
     "name": "stdout",
     "output_type": "stream",
     "text": [
      "[ 0  2  4  6  8 10]\n",
      "[ 1  3  5  7  9 11]\n"
     ]
    }
   ],
   "source": [
    "arr = np.array([0,1,2,3,4,5,6,7,8,9,10,11])\n",
    "print(arr[::2])\n",
    "print(arr[1::2])"
   ]
  },
  {
   "cell_type": "code",
   "execution_count": 135,
   "metadata": {},
   "outputs": [
    {
     "name": "stdout",
     "output_type": "stream",
     "text": [
      "[7 8 9]\n"
     ]
    },
    {
     "data": {
      "text/plain": [
       "(2, 5)"
      ]
     },
     "execution_count": 135,
     "metadata": {},
     "output_type": "execute_result"
    }
   ],
   "source": [
    "arr = np.array([[1,2,3,4,5],[6,7,8,9,10]])\n",
    "print(arr[1,1:4])\n",
    "arr.shape"
   ]
  },
  {
   "cell_type": "code",
   "execution_count": 130,
   "metadata": {},
   "outputs": [
    {
     "name": "stdout",
     "output_type": "stream",
     "text": [
      "[4 9]\n"
     ]
    }
   ],
   "source": [
    "print(arr[:2,3])"
   ]
  },
  {
   "cell_type": "code",
   "execution_count": 134,
   "metadata": {},
   "outputs": [
    {
     "name": "stdout",
     "output_type": "stream",
     "text": [
      "[1 2 3 4 5 6 7 8]\n",
      "[40  2  3  4  5  6  7  8]\n"
     ]
    },
    {
     "data": {
      "text/plain": [
       "(8,)"
      ]
     },
     "execution_count": 134,
     "metadata": {},
     "output_type": "execute_result"
    }
   ],
   "source": [
    "arr = np.array([1,2,3,4,5,6,7,8])\n",
    "x=arr.copy()\n",
    "x[0]=40\n",
    "print(arr)\n",
    "\n",
    "print(x)\n",
    "arr.shape"
   ]
  },
  {
   "cell_type": "code",
   "execution_count": 6,
   "metadata": {},
   "outputs": [
    {
     "name": "stdout",
     "output_type": "stream",
     "text": [
      "[[11 22 33]\n",
      " [44 55 66]\n",
      " [77 88 99]]\n",
      "\n",
      "\n",
      "[[22]\n",
      " [55]\n",
      " [88]]\n"
     ]
    }
   ],
   "source": [
    "a = np.array([[11 ,22, 33], [44, 55, 66], [77, 88, 99]])\n",
    "print(a)\n",
    "print('\\n')\n",
    "print(a[:,1:2])"
   ]
  },
  {
   "cell_type": "code",
   "execution_count": 15,
   "metadata": {},
   "outputs": [
    {
     "name": "stdout",
     "output_type": "stream",
     "text": [
      "[[ 3  6  9 12]\n",
      " [15 18 21 24]\n",
      " [27 30 33 36]\n",
      " [39 42 45 48]\n",
      " [51 54 57 60]]\n",
      "\n",
      "\n",
      "[[15 21]\n",
      " [39 45]]\n"
     ]
    }
   ],
   "source": [
    "a = np.array([[3 ,6, 9, 12], [15 ,18, 21, 24], \n",
    "[27 ,30, 33, 36], [39 ,42, 45, 48], [51 ,54, 57, 60]])\n",
    "print(a)\n",
    "print('\\n')\n",
    "print(a[1::2,::2])"
   ]
  },
  {
   "cell_type": "code",
   "execution_count": 18,
   "metadata": {},
   "outputs": [
    {
     "name": "stdout",
     "output_type": "stream",
     "text": [
      "[1 2 3]\n",
      "[4 5 6]\n"
     ]
    }
   ],
   "source": [
    "ar = np.array([[1,2,3],[4,5,6]])\n",
    "for x in ar:\n",
    "    print(x)"
   ]
  },
  {
   "cell_type": "code",
   "execution_count": 20,
   "metadata": {},
   "outputs": [
    {
     "name": "stdout",
     "output_type": "stream",
     "text": [
      "1\n",
      "2\n",
      "3\n",
      "4\n",
      "5\n",
      "6\n"
     ]
    }
   ],
   "source": [
    "for x in ar:\n",
    "    for y in x:\n",
    "        print(y)"
   ]
  },
  {
   "cell_type": "markdown",
   "metadata": {},
   "source": [
    "** *"
   ]
  }
 ],
 "metadata": {
  "kernelspec": {
   "display_name": "Python 3",
   "language": "python",
   "name": "python3"
  },
  "language_info": {
   "codemirror_mode": {
    "name": "ipython",
    "version": 3
   },
   "file_extension": ".py",
   "mimetype": "text/x-python",
   "name": "python",
   "nbconvert_exporter": "python",
   "pygments_lexer": "ipython3",
   "version": "3.7.4"
  }
 },
 "nbformat": 4,
 "nbformat_minor": 2
}
