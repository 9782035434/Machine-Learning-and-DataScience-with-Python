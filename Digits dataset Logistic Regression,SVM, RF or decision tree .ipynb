{
 "cells": [
  {
   "cell_type": "markdown",
   "metadata": {},
   "source": [
    "***"
   ]
  },
  {
   "cell_type": "markdown",
   "metadata": {},
   "source": [
    "<center> <h1><font color=\"blue\"> Data Description :<font color=\"gray\"> This dataset is made up of 1797 8x8 images. Each image, is of a hand-written digit. </font> </font></h1> </center> "
   ]
  },
  {
   "cell_type": "markdown",
   "metadata": {},
   "source": [
    "<center> <h1><font color=\"red\"> TASK : <font color=\"gray\">Train a model to identify or predict the written images based on the data. Use different different model technique to train model and find Accuracy.</font> </font></h1> </center> "
   ]
  },
  {
   "cell_type": "markdown",
   "metadata": {},
   "source": [
    "***"
   ]
  },
  {
   "cell_type": "markdown",
   "metadata": {},
   "source": [
    "### Import library"
   ]
  },
  {
   "cell_type": "code",
   "execution_count": 1,
   "metadata": {},
   "outputs": [],
   "source": [
    "%matplotlib inline\n",
    "import matplotlib.pyplot as plt      # It's used for visualization of the data in 2 -D graph\n",
    "import seaborn as sns                # It's used for make attractive and informative statistical graphics\n",
    "import warnings                      # import warning \n",
    "warnings.filterwarnings('ignore')    # ignore or not print warnings"
   ]
  },
  {
   "cell_type": "code",
   "execution_count": 2,
   "metadata": {},
   "outputs": [],
   "source": [
    "# load the iris dataset \n",
    "\n",
    "from sklearn.datasets import load_digits\n",
    "digits = load_digits()"
   ]
  },
  {
   "cell_type": "code",
   "execution_count": 3,
   "metadata": {},
   "outputs": [
    {
     "data": {
      "text/plain": [
       "['DESCR', 'data', 'images', 'target', 'target_names']"
      ]
     },
     "execution_count": 3,
     "metadata": {},
     "output_type": "execute_result"
    }
   ],
   "source": [
    "dir(digits)"
   ]
  },
  {
   "cell_type": "code",
   "execution_count": 4,
   "metadata": {
    "scrolled": false
   },
   "outputs": [
    {
     "data": {
      "text/plain": [
       "<Figure size 432x288 with 0 Axes>"
      ]
     },
     "metadata": {},
     "output_type": "display_data"
    },
    {
     "data": {
      "image/png": "[encoded data removed]",
      "text/plain": [
       "<Figure size 288x288 with 1 Axes>"
      ]
     },
     "metadata": {
      "needs_background": "light"
     },
     "output_type": "display_data"
    },
    {
     "data": {
      "image/png": "[encoded data removed]",
      "text/plain": [
       "<Figure size 288x288 with 1 Axes>"
      ]
     },
     "metadata": {
      "needs_background": "light"
     },
     "output_type": "display_data"
    },
    {
     "data": {
      "image/png": "[encoded data removed]",
      "text/plain": [
       "<Figure size 288x288 with 1 Axes>"
      ]
     },
     "metadata": {
      "needs_background": "light"
     },
     "output_type": "display_data"
    },
    {
     "data": {
      "image/png": "[encoded data removed]",
      "text/plain": [
       "<Figure size 288x288 with 1 Axes>"
      ]
     },
     "metadata": {
      "needs_background": "light"
     },
     "output_type": "display_data"
    }
   ],
   "source": [
    "# Checking first four images as sample\n",
    "\n",
    "plt.gray()\n",
    "#plt.matshow(digits.images[100])\n",
    "for i in range(4):\n",
    "    plt.matshow(digits.images[i])"
   ]
  },
  {
   "cell_type": "code",
   "execution_count": 5,
   "metadata": {},
   "outputs": [
    {
     "data": {
      "text/plain": [
       "array([0, 1, 2, 3, 4, 5, 6, 7, 8, 9])"
      ]
     },
     "execution_count": 5,
     "metadata": {},
     "output_type": "execute_result"
    }
   ],
   "source": [
    "# Checking target values\n",
    "\n",
    "digits.target_names"
   ]
  },
  {
   "cell_type": "markdown",
   "metadata": {},
   "source": [
    "### create Dataframe with daigits dataset"
   ]
  },
  {
   "cell_type": "code",
   "execution_count": 6,
   "metadata": {},
   "outputs": [
    {
     "data": {
      "text/html": [
       "<div>\n",
       "<style scoped>\n",
       "    .dataframe tbody tr th:only-of-type {\n",
       "        vertical-align: middle;\n",
       "    }\n",
       "\n",
       "    .dataframe tbody tr th {\n",
       "        vertical-align: top;\n",
       "    }\n",
       "\n",
       "    .dataframe thead th {\n",
       "        text-align: right;\n",
       "    }\n",
       "</style>\n",
       "<table border=\"1\" class=\"dataframe\">\n",
       "  <thead>\n",
       "    <tr style=\"text-align: right;\">\n",
       "      <th></th>\n",
       "      <th>0</th>\n",
       "      <th>1</th>\n",
       "      <th>2</th>\n",
       "      <th>3</th>\n",
       "      <th>4</th>\n",
       "      <th>5</th>\n",
       "      <th>6</th>\n",
       "      <th>7</th>\n",
       "      <th>8</th>\n",
       "      <th>9</th>\n",
       "      <th>...</th>\n",
       "      <th>54</th>\n",
       "      <th>55</th>\n",
       "      <th>56</th>\n",
       "      <th>57</th>\n",
       "      <th>58</th>\n",
       "      <th>59</th>\n",
       "      <th>60</th>\n",
       "      <th>61</th>\n",
       "      <th>62</th>\n",
       "      <th>63</th>\n",
       "    </tr>\n",
       "  </thead>\n",
       "  <tbody>\n",
       "    <tr>\n",
       "      <td>0</td>\n",
       "      <td>0.0</td>\n",
       "      <td>0.0</td>\n",
       "      <td>5.0</td>\n",
       "      <td>13.0</td>\n",
       "      <td>9.0</td>\n",
       "      <td>1.0</td>\n",
       "      <td>0.0</td>\n",
       "      <td>0.0</td>\n",
       "      <td>0.0</td>\n",
       "      <td>0.0</td>\n",
       "      <td>...</td>\n",
       "      <td>0.0</td>\n",
       "      <td>0.0</td>\n",
       "      <td>0.0</td>\n",
       "      <td>0.0</td>\n",
       "      <td>6.0</td>\n",
       "      <td>13.0</td>\n",
       "      <td>10.0</td>\n",
       "      <td>0.0</td>\n",
       "      <td>0.0</td>\n",
       "      <td>0.0</td>\n",
       "    </tr>\n",
       "    <tr>\n",
       "      <td>1</td>\n",
       "      <td>0.0</td>\n",
       "      <td>0.0</td>\n",
       "      <td>0.0</td>\n",
       "      <td>12.0</td>\n",
       "      <td>13.0</td>\n",
       "      <td>5.0</td>\n",
       "      <td>0.0</td>\n",
       "      <td>0.0</td>\n",
       "      <td>0.0</td>\n",
       "      <td>0.0</td>\n",
       "      <td>...</td>\n",
       "      <td>0.0</td>\n",
       "      <td>0.0</td>\n",
       "      <td>0.0</td>\n",
       "      <td>0.0</td>\n",
       "      <td>0.0</td>\n",
       "      <td>11.0</td>\n",
       "      <td>16.0</td>\n",
       "      <td>10.0</td>\n",
       "      <td>0.0</td>\n",
       "      <td>0.0</td>\n",
       "    </tr>\n",
       "    <tr>\n",
       "      <td>2</td>\n",
       "      <td>0.0</td>\n",
       "      <td>0.0</td>\n",
       "      <td>0.0</td>\n",
       "      <td>4.0</td>\n",
       "      <td>15.0</td>\n",
       "      <td>12.0</td>\n",
       "      <td>0.0</td>\n",
       "      <td>0.0</td>\n",
       "      <td>0.0</td>\n",
       "      <td>0.0</td>\n",
       "      <td>...</td>\n",
       "      <td>5.0</td>\n",
       "      <td>0.0</td>\n",
       "      <td>0.0</td>\n",
       "      <td>0.0</td>\n",
       "      <td>0.0</td>\n",
       "      <td>3.0</td>\n",
       "      <td>11.0</td>\n",
       "      <td>16.0</td>\n",
       "      <td>9.0</td>\n",
       "      <td>0.0</td>\n",
       "    </tr>\n",
       "    <tr>\n",
       "      <td>3</td>\n",
       "      <td>0.0</td>\n",
       "      <td>0.0</td>\n",
       "      <td>7.0</td>\n",
       "      <td>15.0</td>\n",
       "      <td>13.0</td>\n",
       "      <td>1.0</td>\n",
       "      <td>0.0</td>\n",
       "      <td>0.0</td>\n",
       "      <td>0.0</td>\n",
       "      <td>8.0</td>\n",
       "      <td>...</td>\n",
       "      <td>9.0</td>\n",
       "      <td>0.0</td>\n",
       "      <td>0.0</td>\n",
       "      <td>0.0</td>\n",
       "      <td>7.0</td>\n",
       "      <td>13.0</td>\n",
       "      <td>13.0</td>\n",
       "      <td>9.0</td>\n",
       "      <td>0.0</td>\n",
       "      <td>0.0</td>\n",
       "    </tr>\n",
       "    <tr>\n",
       "      <td>4</td>\n",
       "      <td>0.0</td>\n",
       "      <td>0.0</td>\n",
       "      <td>0.0</td>\n",
       "      <td>1.0</td>\n",
       "      <td>11.0</td>\n",
       "      <td>0.0</td>\n",
       "      <td>0.0</td>\n",
       "      <td>0.0</td>\n",
       "      <td>0.0</td>\n",
       "      <td>0.0</td>\n",
       "      <td>...</td>\n",
       "      <td>0.0</td>\n",
       "      <td>0.0</td>\n",
       "      <td>0.0</td>\n",
       "      <td>0.0</td>\n",
       "      <td>0.0</td>\n",
       "      <td>2.0</td>\n",
       "      <td>16.0</td>\n",
       "      <td>4.0</td>\n",
       "      <td>0.0</td>\n",
       "      <td>0.0</td>\n",
       "    </tr>\n",
       "  </tbody>\n",
       "</table>\n",
       "<p>5 rows × 64 columns</p>\n",
       "</div>"
      ],
      "text/plain": [
       "    0    1    2     3     4     5    6    7    8    9   ...   54   55   56  \\\n",
       "0  0.0  0.0  5.0  13.0   9.0   1.0  0.0  0.0  0.0  0.0  ...  0.0  0.0  0.0   \n",
       "1  0.0  0.0  0.0  12.0  13.0   5.0  0.0  0.0  0.0  0.0  ...  0.0  0.0  0.0   \n",
       "2  0.0  0.0  0.0   4.0  15.0  12.0  0.0  0.0  0.0  0.0  ...  5.0  0.0  0.0   \n",
       "3  0.0  0.0  7.0  15.0  13.0   1.0  0.0  0.0  0.0  8.0  ...  9.0  0.0  0.0   \n",
       "4  0.0  0.0  0.0   1.0  11.0   0.0  0.0  0.0  0.0  0.0  ...  0.0  0.0  0.0   \n",
       "\n",
       "    57   58    59    60    61   62   63  \n",
       "0  0.0  6.0  13.0  10.0   0.0  0.0  0.0  \n",
       "1  0.0  0.0  11.0  16.0  10.0  0.0  0.0  \n",
       "2  0.0  0.0   3.0  11.0  16.0  9.0  0.0  \n",
       "3  0.0  7.0  13.0  13.0   9.0  0.0  0.0  \n",
       "4  0.0  0.0   2.0  16.0   4.0  0.0  0.0  \n",
       "\n",
       "[5 rows x 64 columns]"
      ]
     },
     "execution_count": 6,
     "metadata": {},
     "output_type": "execute_result"
    }
   ],
   "source": [
    "import pandas as pd              # import pandas library\n",
    "\n",
    "df = pd.DataFrame(digits.data)\n",
    "df.head()                       # Display first five Rows"
   ]
  },
  {
   "cell_type": "code",
   "execution_count": 7,
   "metadata": {},
   "outputs": [
    {
     "data": {
      "text/html": [
       "<div>\n",
       "<style scoped>\n",
       "    .dataframe tbody tr th:only-of-type {\n",
       "        vertical-align: middle;\n",
       "    }\n",
       "\n",
       "    .dataframe tbody tr th {\n",
       "        vertical-align: top;\n",
       "    }\n",
       "\n",
       "    .dataframe thead th {\n",
       "        text-align: right;\n",
       "    }\n",
       "</style>\n",
       "<table border=\"1\" class=\"dataframe\">\n",
       "  <thead>\n",
       "    <tr style=\"text-align: right;\">\n",
       "      <th></th>\n",
       "      <th>0</th>\n",
       "      <th>1</th>\n",
       "      <th>2</th>\n",
       "      <th>3</th>\n",
       "      <th>4</th>\n",
       "      <th>5</th>\n",
       "      <th>6</th>\n",
       "      <th>7</th>\n",
       "      <th>8</th>\n",
       "      <th>9</th>\n",
       "      <th>...</th>\n",
       "      <th>55</th>\n",
       "      <th>56</th>\n",
       "      <th>57</th>\n",
       "      <th>58</th>\n",
       "      <th>59</th>\n",
       "      <th>60</th>\n",
       "      <th>61</th>\n",
       "      <th>62</th>\n",
       "      <th>63</th>\n",
       "      <th>target</th>\n",
       "    </tr>\n",
       "  </thead>\n",
       "  <tbody>\n",
       "    <tr>\n",
       "      <td>0</td>\n",
       "      <td>0.0</td>\n",
       "      <td>0.0</td>\n",
       "      <td>5.0</td>\n",
       "      <td>13.0</td>\n",
       "      <td>9.0</td>\n",
       "      <td>1.0</td>\n",
       "      <td>0.0</td>\n",
       "      <td>0.0</td>\n",
       "      <td>0.0</td>\n",
       "      <td>0.0</td>\n",
       "      <td>...</td>\n",
       "      <td>0.0</td>\n",
       "      <td>0.0</td>\n",
       "      <td>0.0</td>\n",
       "      <td>6.0</td>\n",
       "      <td>13.0</td>\n",
       "      <td>10.0</td>\n",
       "      <td>0.0</td>\n",
       "      <td>0.0</td>\n",
       "      <td>0.0</td>\n",
       "      <td>0</td>\n",
       "    </tr>\n",
       "    <tr>\n",
       "      <td>1</td>\n",
       "      <td>0.0</td>\n",
       "      <td>0.0</td>\n",
       "      <td>0.0</td>\n",
       "      <td>12.0</td>\n",
       "      <td>13.0</td>\n",
       "      <td>5.0</td>\n",
       "      <td>0.0</td>\n",
       "      <td>0.0</td>\n",
       "      <td>0.0</td>\n",
       "      <td>0.0</td>\n",
       "      <td>...</td>\n",
       "      <td>0.0</td>\n",
       "      <td>0.0</td>\n",
       "      <td>0.0</td>\n",
       "      <td>0.0</td>\n",
       "      <td>11.0</td>\n",
       "      <td>16.0</td>\n",
       "      <td>10.0</td>\n",
       "      <td>0.0</td>\n",
       "      <td>0.0</td>\n",
       "      <td>1</td>\n",
       "    </tr>\n",
       "    <tr>\n",
       "      <td>2</td>\n",
       "      <td>0.0</td>\n",
       "      <td>0.0</td>\n",
       "      <td>0.0</td>\n",
       "      <td>4.0</td>\n",
       "      <td>15.0</td>\n",
       "      <td>12.0</td>\n",
       "      <td>0.0</td>\n",
       "      <td>0.0</td>\n",
       "      <td>0.0</td>\n",
       "      <td>0.0</td>\n",
       "      <td>...</td>\n",
       "      <td>0.0</td>\n",
       "      <td>0.0</td>\n",
       "      <td>0.0</td>\n",
       "      <td>0.0</td>\n",
       "      <td>3.0</td>\n",
       "      <td>11.0</td>\n",
       "      <td>16.0</td>\n",
       "      <td>9.0</td>\n",
       "      <td>0.0</td>\n",
       "      <td>2</td>\n",
       "    </tr>\n",
       "    <tr>\n",
       "      <td>3</td>\n",
       "      <td>0.0</td>\n",
       "      <td>0.0</td>\n",
       "      <td>7.0</td>\n",
       "      <td>15.0</td>\n",
       "      <td>13.0</td>\n",
       "      <td>1.0</td>\n",
       "      <td>0.0</td>\n",
       "      <td>0.0</td>\n",
       "      <td>0.0</td>\n",
       "      <td>8.0</td>\n",
       "      <td>...</td>\n",
       "      <td>0.0</td>\n",
       "      <td>0.0</td>\n",
       "      <td>0.0</td>\n",
       "      <td>7.0</td>\n",
       "      <td>13.0</td>\n",
       "      <td>13.0</td>\n",
       "      <td>9.0</td>\n",
       "      <td>0.0</td>\n",
       "      <td>0.0</td>\n",
       "      <td>3</td>\n",
       "    </tr>\n",
       "    <tr>\n",
       "      <td>4</td>\n",
       "      <td>0.0</td>\n",
       "      <td>0.0</td>\n",
       "      <td>0.0</td>\n",
       "      <td>1.0</td>\n",
       "      <td>11.0</td>\n",
       "      <td>0.0</td>\n",
       "      <td>0.0</td>\n",
       "      <td>0.0</td>\n",
       "      <td>0.0</td>\n",
       "      <td>0.0</td>\n",
       "      <td>...</td>\n",
       "      <td>0.0</td>\n",
       "      <td>0.0</td>\n",
       "      <td>0.0</td>\n",
       "      <td>0.0</td>\n",
       "      <td>2.0</td>\n",
       "      <td>16.0</td>\n",
       "      <td>4.0</td>\n",
       "      <td>0.0</td>\n",
       "      <td>0.0</td>\n",
       "      <td>4</td>\n",
       "    </tr>\n",
       "    <tr>\n",
       "      <td>5</td>\n",
       "      <td>0.0</td>\n",
       "      <td>0.0</td>\n",
       "      <td>12.0</td>\n",
       "      <td>10.0</td>\n",
       "      <td>0.0</td>\n",
       "      <td>0.0</td>\n",
       "      <td>0.0</td>\n",
       "      <td>0.0</td>\n",
       "      <td>0.0</td>\n",
       "      <td>0.0</td>\n",
       "      <td>...</td>\n",
       "      <td>0.0</td>\n",
       "      <td>0.0</td>\n",
       "      <td>0.0</td>\n",
       "      <td>9.0</td>\n",
       "      <td>16.0</td>\n",
       "      <td>16.0</td>\n",
       "      <td>10.0</td>\n",
       "      <td>0.0</td>\n",
       "      <td>0.0</td>\n",
       "      <td>5</td>\n",
       "    </tr>\n",
       "    <tr>\n",
       "      <td>6</td>\n",
       "      <td>0.0</td>\n",
       "      <td>0.0</td>\n",
       "      <td>0.0</td>\n",
       "      <td>12.0</td>\n",
       "      <td>13.0</td>\n",
       "      <td>0.0</td>\n",
       "      <td>0.0</td>\n",
       "      <td>0.0</td>\n",
       "      <td>0.0</td>\n",
       "      <td>0.0</td>\n",
       "      <td>...</td>\n",
       "      <td>0.0</td>\n",
       "      <td>0.0</td>\n",
       "      <td>0.0</td>\n",
       "      <td>1.0</td>\n",
       "      <td>9.0</td>\n",
       "      <td>15.0</td>\n",
       "      <td>11.0</td>\n",
       "      <td>3.0</td>\n",
       "      <td>0.0</td>\n",
       "      <td>6</td>\n",
       "    </tr>\n",
       "    <tr>\n",
       "      <td>7</td>\n",
       "      <td>0.0</td>\n",
       "      <td>0.0</td>\n",
       "      <td>7.0</td>\n",
       "      <td>8.0</td>\n",
       "      <td>13.0</td>\n",
       "      <td>16.0</td>\n",
       "      <td>15.0</td>\n",
       "      <td>1.0</td>\n",
       "      <td>0.0</td>\n",
       "      <td>0.0</td>\n",
       "      <td>...</td>\n",
       "      <td>0.0</td>\n",
       "      <td>0.0</td>\n",
       "      <td>0.0</td>\n",
       "      <td>13.0</td>\n",
       "      <td>5.0</td>\n",
       "      <td>0.0</td>\n",
       "      <td>0.0</td>\n",
       "      <td>0.0</td>\n",
       "      <td>0.0</td>\n",
       "      <td>7</td>\n",
       "    </tr>\n",
       "    <tr>\n",
       "      <td>8</td>\n",
       "      <td>0.0</td>\n",
       "      <td>0.0</td>\n",
       "      <td>9.0</td>\n",
       "      <td>14.0</td>\n",
       "      <td>8.0</td>\n",
       "      <td>1.0</td>\n",
       "      <td>0.0</td>\n",
       "      <td>0.0</td>\n",
       "      <td>0.0</td>\n",
       "      <td>0.0</td>\n",
       "      <td>...</td>\n",
       "      <td>0.0</td>\n",
       "      <td>0.0</td>\n",
       "      <td>0.0</td>\n",
       "      <td>11.0</td>\n",
       "      <td>16.0</td>\n",
       "      <td>15.0</td>\n",
       "      <td>11.0</td>\n",
       "      <td>1.0</td>\n",
       "      <td>0.0</td>\n",
       "      <td>8</td>\n",
       "    </tr>\n",
       "    <tr>\n",
       "      <td>9</td>\n",
       "      <td>0.0</td>\n",
       "      <td>0.0</td>\n",
       "      <td>11.0</td>\n",
       "      <td>12.0</td>\n",
       "      <td>0.0</td>\n",
       "      <td>0.0</td>\n",
       "      <td>0.0</td>\n",
       "      <td>0.0</td>\n",
       "      <td>0.0</td>\n",
       "      <td>2.0</td>\n",
       "      <td>...</td>\n",
       "      <td>0.0</td>\n",
       "      <td>0.0</td>\n",
       "      <td>0.0</td>\n",
       "      <td>9.0</td>\n",
       "      <td>12.0</td>\n",
       "      <td>13.0</td>\n",
       "      <td>3.0</td>\n",
       "      <td>0.0</td>\n",
       "      <td>0.0</td>\n",
       "      <td>9</td>\n",
       "    </tr>\n",
       "    <tr>\n",
       "      <td>10</td>\n",
       "      <td>0.0</td>\n",
       "      <td>0.0</td>\n",
       "      <td>1.0</td>\n",
       "      <td>9.0</td>\n",
       "      <td>15.0</td>\n",
       "      <td>11.0</td>\n",
       "      <td>0.0</td>\n",
       "      <td>0.0</td>\n",
       "      <td>0.0</td>\n",
       "      <td>0.0</td>\n",
       "      <td>...</td>\n",
       "      <td>0.0</td>\n",
       "      <td>0.0</td>\n",
       "      <td>0.0</td>\n",
       "      <td>1.0</td>\n",
       "      <td>10.0</td>\n",
       "      <td>13.0</td>\n",
       "      <td>3.0</td>\n",
       "      <td>0.0</td>\n",
       "      <td>0.0</td>\n",
       "      <td>0</td>\n",
       "    </tr>\n",
       "  </tbody>\n",
       "</table>\n",
       "<p>11 rows × 65 columns</p>\n",
       "</div>"
      ],
      "text/plain": [
       "      0    1     2     3     4     5     6    7    8    9  ...   55   56   57  \\\n",
       "0   0.0  0.0   5.0  13.0   9.0   1.0   0.0  0.0  0.0  0.0  ...  0.0  0.0  0.0   \n",
       "1   0.0  0.0   0.0  12.0  13.0   5.0   0.0  0.0  0.0  0.0  ...  0.0  0.0  0.0   \n",
       "2   0.0  0.0   0.0   4.0  15.0  12.0   0.0  0.0  0.0  0.0  ...  0.0  0.0  0.0   \n",
       "3   0.0  0.0   7.0  15.0  13.0   1.0   0.0  0.0  0.0  8.0  ...  0.0  0.0  0.0   \n",
       "4   0.0  0.0   0.0   1.0  11.0   0.0   0.0  0.0  0.0  0.0  ...  0.0  0.0  0.0   \n",
       "5   0.0  0.0  12.0  10.0   0.0   0.0   0.0  0.0  0.0  0.0  ...  0.0  0.0  0.0   \n",
       "6   0.0  0.0   0.0  12.0  13.0   0.0   0.0  0.0  0.0  0.0  ...  0.0  0.0  0.0   \n",
       "7   0.0  0.0   7.0   8.0  13.0  16.0  15.0  1.0  0.0  0.0  ...  0.0  0.0  0.0   \n",
       "8   0.0  0.0   9.0  14.0   8.0   1.0   0.0  0.0  0.0  0.0  ...  0.0  0.0  0.0   \n",
       "9   0.0  0.0  11.0  12.0   0.0   0.0   0.0  0.0  0.0  2.0  ...  0.0  0.0  0.0   \n",
       "10  0.0  0.0   1.0   9.0  15.0  11.0   0.0  0.0  0.0  0.0  ...  0.0  0.0  0.0   \n",
       "\n",
       "      58    59    60    61   62   63  target  \n",
       "0    6.0  13.0  10.0   0.0  0.0  0.0       0  \n",
       "1    0.0  11.0  16.0  10.0  0.0  0.0       1  \n",
       "2    0.0   3.0  11.0  16.0  9.0  0.0       2  \n",
       "3    7.0  13.0  13.0   9.0  0.0  0.0       3  \n",
       "4    0.0   2.0  16.0   4.0  0.0  0.0       4  \n",
       "5    9.0  16.0  16.0  10.0  0.0  0.0       5  \n",
       "6    1.0   9.0  15.0  11.0  3.0  0.0       6  \n",
       "7   13.0   5.0   0.0   0.0  0.0  0.0       7  \n",
       "8   11.0  16.0  15.0  11.0  1.0  0.0       8  \n",
       "9    9.0  12.0  13.0   3.0  0.0  0.0       9  \n",
       "10   1.0  10.0  13.0   3.0  0.0  0.0       0  \n",
       "\n",
       "[11 rows x 65 columns]"
      ]
     },
     "execution_count": 7,
     "metadata": {},
     "output_type": "execute_result"
    }
   ],
   "source": [
    "df['target']= digits.target  # Adding target values column to original DataFrame\n",
    "df.head(11)"
   ]
  },
  {
   "cell_type": "code",
   "execution_count": 8,
   "metadata": {},
   "outputs": [],
   "source": [
    "X = df.drop('target',axis='columns')   # Storing all column except Target column\n",
    "y = df.target                          # Storing Target value "
   ]
  },
  {
   "cell_type": "code",
   "execution_count": 9,
   "metadata": {},
   "outputs": [],
   "source": [
    "# splitting X and y into training and testing sets \n",
    "\n",
    "from sklearn.model_selection import train_test_split\n",
    "X_train, X_test, y_train, y_test = train_test_split(X, y, test_size=0.2)"
   ]
  },
  {
   "cell_type": "code",
   "execution_count": 10,
   "metadata": {},
   "outputs": [
    {
     "name": "stdout",
     "output_type": "stream",
     "text": [
      "(1437, 64)\n",
      "(360, 64)\n",
      "(1437,)\n",
      "(360,)\n"
     ]
    }
   ],
   "source": [
    "# printing the shapes of the new X and y objects \n",
    "\n",
    "print(X_train.shape)\n",
    "print(X_test.shape)\n",
    "print(y_train.shape)\n",
    "print(y_test.shape)"
   ]
  },
  {
   "cell_type": "markdown",
   "metadata": {},
   "source": [
    "***"
   ]
  },
  {
   "cell_type": "markdown",
   "metadata": {},
   "source": [
    "<center> <h2>Logistic Regression</h2><center>"
   ]
  },
  {
   "cell_type": "markdown",
   "metadata": {},
   "source": [
    "### Importing Logistic Regression from sklearn library"
   ]
  },
  {
   "cell_type": "code",
   "execution_count": 11,
   "metadata": {},
   "outputs": [],
   "source": [
    "from sklearn.linear_model import LogisticRegression"
   ]
  },
  {
   "cell_type": "code",
   "execution_count": 12,
   "metadata": {},
   "outputs": [
    {
     "data": {
      "text/plain": [
       "LogisticRegression(C=1.0, class_weight=None, dual=False, fit_intercept=True,\n",
       "                   intercept_scaling=1, l1_ratio=None, max_iter=100,\n",
       "                   multi_class='warn', n_jobs=None, penalty='l2',\n",
       "                   random_state=None, solver='warn', tol=0.0001, verbose=0,\n",
       "                   warm_start=False)"
      ]
     },
     "execution_count": 12,
     "metadata": {},
     "output_type": "execute_result"
    }
   ],
   "source": [
    "# training the model on training set\n",
    "\n",
    "model = LogisticRegression()\n",
    "model.fit(X_train, y_train)           # Fit model"
   ]
  },
  {
   "cell_type": "code",
   "execution_count": 13,
   "metadata": {},
   "outputs": [
    {
     "data": {
      "text/plain": [
       "array([5, 6, 7, 8, 9, 0, 9, 5, 5, 6, 5, 0, 9, 8])"
      ]
     },
     "execution_count": 13,
     "metadata": {},
     "output_type": "execute_result"
    }
   ],
   "source": [
    "# making predictions on the testing set \n",
    "\n",
    "model.predict(digits.data[155:169])"
   ]
  },
  {
   "cell_type": "code",
   "execution_count": 14,
   "metadata": {},
   "outputs": [
    {
     "data": {
      "text/plain": [
       "0.9388888888888889"
      ]
     },
     "execution_count": 14,
     "metadata": {},
     "output_type": "execute_result"
    }
   ],
   "source": [
    "# Checking Accuracy of model\n",
    "\n",
    "LR = model.score(X_test, y_test)    \n",
    "LR"
   ]
  },
  {
   "cell_type": "markdown",
   "metadata": {},
   "source": [
    "#### Check what is image and value at position 355 and what our model is predicting"
   ]
  },
  {
   "cell_type": "code",
   "execution_count": 15,
   "metadata": {},
   "outputs": [
    {
     "data": {
      "text/plain": [
       "<matplotlib.image.AxesImage at 0x1fa5dc7bd88>"
      ]
     },
     "execution_count": 15,
     "metadata": {},
     "output_type": "execute_result"
    },
    {
     "data": {
      "image/png": "[encoded data removed]",
      "text/plain": [
       "<Figure size 288x288 with 1 Axes>"
      ]
     },
     "metadata": {
      "needs_background": "light"
     },
     "output_type": "display_data"
    }
   ],
   "source": [
    "# Checking which image is acually exists at position 355\n",
    "\n",
    "plt.matshow(digits.images[355])"
   ]
  },
  {
   "cell_type": "code",
   "execution_count": 16,
   "metadata": {},
   "outputs": [
    {
     "data": {
      "text/plain": [
       "1"
      ]
     },
     "execution_count": 16,
     "metadata": {},
     "output_type": "execute_result"
    }
   ],
   "source": [
    "# Checking which number is acually exists at position 355\n",
    "\n",
    "digits.target[355]"
   ]
  },
  {
   "cell_type": "code",
   "execution_count": 17,
   "metadata": {},
   "outputs": [
    {
     "data": {
      "text/plain": [
       "array([1])"
      ]
     },
     "execution_count": 17,
     "metadata": {},
     "output_type": "execute_result"
    }
   ],
   "source": [
    "# Checking what our model is predicting at position 355\n",
    "\n",
    "model.predict([digits.data[355]])"
   ]
  },
  {
   "cell_type": "code",
   "execution_count": 18,
   "metadata": {},
   "outputs": [],
   "source": [
    "# making predictions on the testing set \n",
    "\n",
    "model.predict(X_test)\n",
    "y_predicted = model.predict(X_test)"
   ]
  },
  {
   "cell_type": "markdown",
   "metadata": {},
   "source": [
    "### Creating Confusion Matrix for visualize how much value we predict correct or False"
   ]
  },
  {
   "cell_type": "code",
   "execution_count": 19,
   "metadata": {},
   "outputs": [],
   "source": [
    "from sklearn.metrics import confusion_matrix  # The confusion matrix is used to determine the performance of the classification models for a given set of test data."
   ]
  },
  {
   "cell_type": "code",
   "execution_count": 20,
   "metadata": {},
   "outputs": [
    {
     "data": {
      "text/plain": [
       "array([[29,  0,  0,  0,  0,  0,  0,  0,  0,  0],\n",
       "       [ 0, 32,  0,  0,  0,  0,  0,  0,  1,  0],\n",
       "       [ 0,  0, 38,  0,  0,  0,  0,  0,  0,  0],\n",
       "       [ 0,  0,  1, 34,  0,  0,  0,  1,  2,  0],\n",
       "       [ 0,  0,  0,  0, 35,  0,  0,  0,  0,  0],\n",
       "       [ 0,  0,  0,  0,  0, 36,  0,  0,  0,  0],\n",
       "       [ 0,  0,  0,  0,  0,  1, 28,  0,  1,  0],\n",
       "       [ 0,  0,  0,  0,  0,  0,  0, 40,  1,  0],\n",
       "       [ 0,  6,  0,  0,  1,  0,  0,  0, 40,  0],\n",
       "       [ 0,  0,  0,  0,  0,  1,  0,  3,  3, 26]], dtype=int64)"
      ]
     },
     "execution_count": 20,
     "metadata": {},
     "output_type": "execute_result"
    }
   ],
   "source": [
    "# Confusion Matrix between original test set and predicted values\n",
    "\n",
    "cm = confusion_matrix(y_test, y_predicted)\n",
    "cm"
   ]
  },
  {
   "cell_type": "code",
   "execution_count": 21,
   "metadata": {
    "scrolled": false
   },
   "outputs": [
    {
     "data": {
      "text/plain": [
       "Text(123.0, 0.5, 'Truth')"
      ]
     },
     "execution_count": 21,
     "metadata": {},
     "output_type": "execute_result"
    },
    {
     "data": {
      "image/png": "[encoded data removed]",
      "text/plain": [
       "<Figure size 1152x432 with 2 Axes>"
      ]
     },
     "metadata": {
      "needs_background": "light"
     },
     "output_type": "display_data"
    }
   ],
   "source": [
    "plt.figure(figsize=(16,6))\n",
    "sns.heatmap(cm, annot=True, cmap='PuBu')\n",
    "plt.xlabel('Predicted')\n",
    "plt.ylabel('Truth')"
   ]
  },
  {
   "cell_type": "markdown",
   "metadata": {},
   "source": [
    "<font color='green'> <h3>So you can see by above result that at position (8,6) actaul value is 8 and our model precditing it 1. and it is six times wrong prediction </h3></font>"
   ]
  },
  {
   "cell_type": "markdown",
   "metadata": {},
   "source": [
    "### Checking Recall precision or support"
   ]
  },
  {
   "cell_type": "code",
   "execution_count": 22,
   "metadata": {},
   "outputs": [],
   "source": [
    "from sklearn.metrics import classification_report"
   ]
  },
  {
   "cell_type": "code",
   "execution_count": 23,
   "metadata": {
    "scrolled": true
   },
   "outputs": [
    {
     "name": "stdout",
     "output_type": "stream",
     "text": [
      "              precision    recall  f1-score   support\n",
      "\n",
      "           0       1.00      1.00      1.00        29\n",
      "           1       0.84      0.97      0.90        33\n",
      "           2       0.97      1.00      0.99        38\n",
      "           3       1.00      0.89      0.94        38\n",
      "           4       0.97      1.00      0.99        35\n",
      "           5       0.95      1.00      0.97        36\n",
      "           6       1.00      0.93      0.97        30\n",
      "           7       0.91      0.98      0.94        41\n",
      "           8       0.83      0.85      0.84        47\n",
      "           9       1.00      0.79      0.88        33\n",
      "\n",
      "    accuracy                           0.94       360\n",
      "   macro avg       0.95      0.94      0.94       360\n",
      "weighted avg       0.94      0.94      0.94       360\n",
      "\n"
     ]
    }
   ],
   "source": [
    "predictions = model.predict(X_test)\n",
    "print(classification_report(y_test, predictions))"
   ]
  },
  {
   "cell_type": "markdown",
   "metadata": {},
   "source": [
    "#### Precision: Model precision score represents the model’s ability to correctly predict the positives out of all the positive prediction it made.\n",
    "#### Recall: Model recall score represents the model’s ability to correctly predict the positives out of actual positives. "
   ]
  },
  {
   "cell_type": "markdown",
   "metadata": {},
   "source": [
    "***"
   ]
  },
  {
   "cell_type": "markdown",
   "metadata": {},
   "source": [
    "<center> <h2>Decision Tree Classifier</h2><center>"
   ]
  },
  {
   "cell_type": "markdown",
   "metadata": {},
   "source": [
    "### import Decision tree library"
   ]
  },
  {
   "cell_type": "code",
   "execution_count": 24,
   "metadata": {},
   "outputs": [],
   "source": [
    "from sklearn import tree"
   ]
  },
  {
   "cell_type": "code",
   "execution_count": 25,
   "metadata": {},
   "outputs": [
    {
     "data": {
      "text/plain": [
       "DecisionTreeClassifier(class_weight=None, criterion='gini', max_depth=None,\n",
       "                       max_features=None, max_leaf_nodes=None,\n",
       "                       min_impurity_decrease=0.0, min_impurity_split=None,\n",
       "                       min_samples_leaf=1, min_samples_split=2,\n",
       "                       min_weight_fraction_leaf=0.0, presort=False,\n",
       "                       random_state=None, splitter='best')"
      ]
     },
     "execution_count": 25,
     "metadata": {},
     "output_type": "execute_result"
    }
   ],
   "source": [
    "# training the model on training set\n",
    "\n",
    "model1 = tree.DecisionTreeClassifier()\n",
    "model1.fit(X_train,y_train)"
   ]
  },
  {
   "cell_type": "code",
   "execution_count": 26,
   "metadata": {},
   "outputs": [
    {
     "data": {
      "text/plain": [
       "0.8194444444444444"
      ]
     },
     "execution_count": 26,
     "metadata": {},
     "output_type": "execute_result"
    }
   ],
   "source": [
    "DT = model1.score(X_test, y_test)     # Checking Accuracy of our model by using decision tree method\n",
    "DT"
   ]
  },
  {
   "cell_type": "code",
   "execution_count": 27,
   "metadata": {
    "scrolled": false
   },
   "outputs": [],
   "source": [
    "# making predictions on the testing set \n",
    "\n",
    "model1.predict(X_test)\n",
    "y_predicted1 = model1.predict(X_test)"
   ]
  },
  {
   "cell_type": "code",
   "execution_count": 28,
   "metadata": {},
   "outputs": [
    {
     "data": {
      "text/plain": [
       "array([[27,  0,  0,  0,  1,  1,  0,  0,  0,  0],\n",
       "       [ 0, 27,  1,  0,  2,  0,  0,  1,  0,  2],\n",
       "       [ 0,  3, 31,  0,  0,  0,  0,  1,  2,  1],\n",
       "       [ 0,  1,  2, 27,  0,  3,  1,  0,  3,  1],\n",
       "       [ 0,  2,  0,  0, 31,  0,  1,  0,  0,  1],\n",
       "       [ 0,  0,  0,  1,  1, 34,  0,  0,  0,  0],\n",
       "       [ 1,  1,  0,  2,  2,  0, 24,  0,  0,  0],\n",
       "       [ 0,  0,  0,  0,  2,  0,  1, 33,  3,  2],\n",
       "       [ 2,  4,  0,  0,  1,  1,  0,  0, 39,  0],\n",
       "       [ 0,  4,  0,  2,  0,  1,  0,  3,  1, 22]], dtype=int64)"
      ]
     },
     "execution_count": 28,
     "metadata": {},
     "output_type": "execute_result"
    }
   ],
   "source": [
    "from sklearn.metrics import confusion_matrix\n",
    "cm1 = confusion_matrix(y_test, y_predicted1)\n",
    "cm1"
   ]
  },
  {
   "cell_type": "code",
   "execution_count": 29,
   "metadata": {},
   "outputs": [
    {
     "data": {
      "text/plain": [
       "Text(123.0, 0.5, 'Truth')"
      ]
     },
     "execution_count": 29,
     "metadata": {},
     "output_type": "execute_result"
    },
    {
     "data": {
      "image/png": "[encoded data removed]",
      "text/plain": [
       "<Figure size 1152x432 with 2 Axes>"
      ]
     },
     "metadata": {
      "needs_background": "light"
     },
     "output_type": "display_data"
    }
   ],
   "source": [
    "import seaborn as sns\n",
    "plt.figure(figsize=(16,6))\n",
    "sns.heatmap(cm1, annot=True, cmap='PuBu')\n",
    "plt.xlabel('Predicted')\n",
    "plt.ylabel('Truth')"
   ]
  },
  {
   "cell_type": "code",
   "execution_count": 30,
   "metadata": {},
   "outputs": [],
   "source": [
    "from sklearn.metrics import classification_report"
   ]
  },
  {
   "cell_type": "code",
   "execution_count": 31,
   "metadata": {
    "scrolled": true
   },
   "outputs": [
    {
     "name": "stdout",
     "output_type": "stream",
     "text": [
      "              precision    recall  f1-score   support\n",
      "\n",
      "           0       0.90      0.93      0.92        29\n",
      "           1       0.64      0.82      0.72        33\n",
      "           2       0.91      0.82      0.86        38\n",
      "           3       0.84      0.71      0.77        38\n",
      "           4       0.78      0.89      0.83        35\n",
      "           5       0.85      0.94      0.89        36\n",
      "           6       0.89      0.80      0.84        30\n",
      "           7       0.87      0.80      0.84        41\n",
      "           8       0.81      0.83      0.82        47\n",
      "           9       0.76      0.67      0.71        33\n",
      "\n",
      "    accuracy                           0.82       360\n",
      "   macro avg       0.83      0.82      0.82       360\n",
      "weighted avg       0.83      0.82      0.82       360\n",
      "\n"
     ]
    }
   ],
   "source": [
    "predictions1 = model1.predict(X_test)\n",
    "print(classification_report(y_test, predictions1))"
   ]
  },
  {
   "cell_type": "code",
   "execution_count": 32,
   "metadata": {},
   "outputs": [],
   "source": [
    "clf = tree.DecisionTreeClassifier(random_state=0)"
   ]
  },
  {
   "cell_type": "code",
   "execution_count": 33,
   "metadata": {
    "scrolled": true
   },
   "outputs": [
    {
     "data": {
      "text/plain": [
       "[Text(251.1922590501238, 631.9350000000001, 'X[36] <= 0.5\\ngini = 0.9\\nsamples = 1797\\nvalue = [178, 182, 177, 183, 181, 182, 181, 179, 174, 180]'),\n",
       " Text(67.12574257425744, 591.1650000000001, 'X[28] <= 2.5\\ngini = 0.547\\nsamples = 275\\nvalue = [174, 0, 4, 1, 6, 25, 5, 0, 3, 57]'),\n",
       " Text(34.805940594059415, 550.395, 'X[21] <= 0.5\\ngini = 0.17\\nsamples = 188\\nvalue = [171, 0, 2, 0, 6, 6, 3, 0, 0, 0]'),\n",
       " Text(24.861386138613867, 509.625, 'X[6] <= 1.0\\ngini = 0.719\\nsamples = 16\\nvalue = [1, 0, 1, 0, 5, 6, 3, 0, 0, 0]'),\n",
       " Text(19.889108910891093, 468.855, 'X[29] <= 1.0\\ngini = 0.64\\nsamples = 10\\nvalue = [1, 0, 1, 0, 5, 0, 3, 0, 0, 0]'),\n",
       " Text(14.916831683168319, 428.08500000000004, 'X[44] <= 8.0\\ngini = 0.56\\nsamples = 5\\nvalue = [1, 0, 1, 0, 0, 0, 3, 0, 0, 0]'),\n",
       " Text(9.944554455445546, 387.31500000000005, 'X[37] <= 0.5\\ngini = 0.5\\nsamples = 2\\nvalue = [1, 0, 1, 0, 0, 0, 0, 0, 0, 0]'),\n",
       " Text(4.972277227722773, 346.545, 'gini = 0.0\\nsamples = 1\\nvalue = [0, 0, 1, 0, 0, 0, 0, 0, 0, 0]'),\n",
       " Text(14.916831683168319, 346.545, 'gini = 0.0\\nsamples = 1\\nvalue = [1, 0, 0, 0, 0, 0, 0, 0, 0, 0]'),\n",
       " Text(19.889108910891093, 387.31500000000005, 'gini = 0.0\\nsamples = 3\\nvalue = [0, 0, 0, 0, 0, 0, 3, 0, 0, 0]'),\n",
       " Text(24.861386138613867, 428.08500000000004, 'gini = 0.0\\nsamples = 5\\nvalue = [0, 0, 0, 0, 5, 0, 0, 0, 0, 0]'),\n",
       " Text(29.833663366336637, 468.855, 'gini = 0.0\\nsamples = 6\\nvalue = [0, 0, 0, 0, 0, 6, 0, 0, 0, 0]'),\n",
       " Text(44.750495049504956, 509.625, 'X[18] <= 0.5\\ngini = 0.023\\nsamples = 172\\nvalue = [170, 0, 1, 0, 1, 0, 0, 0, 0, 0]'),\n",
       " Text(39.778217821782185, 468.855, 'gini = 0.0\\nsamples = 1\\nvalue = [0, 0, 1, 0, 0, 0, 0, 0, 0, 0]'),\n",
       " Text(49.72277227722773, 468.855, 'X[43] <= 14.5\\ngini = 0.012\\nsamples = 171\\nvalue = [170, 0, 0, 0, 1, 0, 0, 0, 0, 0]'),\n",
       " Text(44.750495049504956, 428.08500000000004, 'gini = 0.0\\nsamples = 170\\nvalue = [170, 0, 0, 0, 0, 0, 0, 0, 0, 0]'),\n",
       " Text(54.695049504950504, 428.08500000000004, 'gini = 0.0\\nsamples = 1\\nvalue = [0, 0, 0, 0, 1, 0, 0, 0, 0, 0]'),\n",
       " Text(99.44554455445547, 550.395, 'X[21] <= 6.5\\ngini = 0.519\\nsamples = 87\\nvalue = [3, 0, 2, 1, 0, 19, 2, 0, 3, 57]'),\n",
       " Text(79.55643564356437, 509.625, 'X[43] <= 0.5\\ngini = 0.384\\nsamples = 22\\nvalue = [0, 0, 2, 0, 0, 17, 2, 0, 0, 1]'),\n",
       " Text(69.61188118811883, 468.855, 'X[18] <= 8.5\\ngini = 0.105\\nsamples = 18\\nvalue = [0, 0, 0, 0, 0, 17, 0, 0, 0, 1]'),\n",
       " Text(64.63960396039604, 428.08500000000004, 'gini = 0.0\\nsamples = 1\\nvalue = [0, 0, 0, 0, 0, 0, 0, 0, 0, 1]'),\n",
       " Text(74.5841584158416, 428.08500000000004, 'gini = 0.0\\nsamples = 17\\nvalue = [0, 0, 0, 0, 0, 17, 0, 0, 0, 0]'),\n",
       " Text(89.50099009900991, 468.855, 'X[10] <= 11.5\\ngini = 0.5\\nsamples = 4\\nvalue = [0, 0, 2, 0, 0, 0, 2, 0, 0, 0]'),\n",
       " Text(84.52871287128714, 428.08500000000004, 'gini = 0.0\\nsamples = 2\\nvalue = [0, 0, 0, 0, 0, 0, 2, 0, 0, 0]'),\n",
       " Text(94.4732673267327, 428.08500000000004, 'gini = 0.0\\nsamples = 2\\nvalue = [0, 0, 2, 0, 0, 0, 0, 0, 0, 0]'),\n",
       " Text(119.33465346534655, 509.625, 'X[34] <= 7.5\\ngini = 0.252\\nsamples = 65\\nvalue = [3, 0, 0, 1, 0, 2, 0, 0, 3, 56]'),\n",
       " Text(109.39009900990101, 468.855, 'X[9] <= 10.5\\ngini = 0.034\\nsamples = 57\\nvalue = [0, 0, 0, 1, 0, 0, 0, 0, 0, 56]'),\n",
       " Text(104.41782178217824, 428.08500000000004, 'gini = 0.0\\nsamples = 56\\nvalue = [0, 0, 0, 0, 0, 0, 0, 0, 0, 56]'),\n",
       " Text(114.36237623762378, 428.08500000000004, 'gini = 0.0\\nsamples = 1\\nvalue = [0, 0, 0, 1, 0, 0, 0, 0, 0, 0]'),\n",
       " Text(129.2792079207921, 468.855, 'X[60] <= 11.0\\ngini = 0.656\\nsamples = 8\\nvalue = [3, 0, 0, 0, 0, 2, 0, 0, 3, 0]'),\n",
       " Text(124.30693069306933, 428.08500000000004, 'X[52] <= 10.5\\ngini = 0.48\\nsamples = 5\\nvalue = [0, 0, 0, 0, 0, 2, 0, 0, 3, 0]'),\n",
       " Text(119.33465346534655, 387.31500000000005, 'gini = 0.0\\nsamples = 3\\nvalue = [0, 0, 0, 0, 0, 0, 0, 0, 3, 0]'),\n",
       " Text(129.2792079207921, 387.31500000000005, 'gini = 0.0\\nsamples = 2\\nvalue = [0, 0, 0, 0, 0, 2, 0, 0, 0, 0]'),\n",
       " Text(134.2514851485149, 428.08500000000004, 'gini = 0.0\\nsamples = 3\\nvalue = [3, 0, 0, 0, 0, 0, 0, 0, 0, 0]'),\n",
       " Text(435.2587755259902, 591.1650000000001, 'X[21] <= 0.5\\ngini = 0.888\\nsamples = 1522\\nvalue = [4, 182, 173, 182, 175, 157, 176, 179, 171, 123]'),\n",
       " Text(262.9091584158416, 550.395, 'X[42] <= 8.5\\ngini = 0.74\\nsamples = 464\\nvalue = [0, 43, 46, 15, 33, 145, 172, 6, 3, 1]'),\n",
       " Text(214.4294554455446, 509.625, 'X[5] <= 1.5\\ngini = 0.621\\nsamples = 246\\nvalue = [0, 35, 35, 15, 7, 142, 3, 5, 3, 1]'),\n",
       " Text(180.24504950495052, 468.855, 'X[19] <= 13.5\\ngini = 0.735\\nsamples = 101\\nvalue = [0, 35, 35, 14, 5, 2, 3, 4, 2, 1]'),\n",
       " Text(151.65445544554458, 428.08500000000004, 'X[37] <= 4.0\\ngini = 0.651\\nsamples = 61\\nvalue = [0, 3, 33, 13, 2, 2, 1, 4, 2, 1]'),\n",
       " Text(139.22376237623766, 387.31500000000005, 'X[58] <= 0.5\\ngini = 0.197\\nsamples = 37\\nvalue = [0, 3, 33, 0, 0, 0, 0, 0, 1, 0]'),\n",
       " Text(134.2514851485149, 346.545, 'X[26] <= 7.0\\ngini = 0.375\\nsamples = 4\\nvalue = [0, 3, 0, 0, 0, 0, 0, 0, 1, 0]'),\n",
       " Text(129.2792079207921, 305.77500000000003, 'gini = 0.0\\nsamples = 3\\nvalue = [0, 3, 0, 0, 0, 0, 0, 0, 0, 0]'),\n",
       " Text(139.22376237623766, 305.77500000000003, 'gini = 0.0\\nsamples = 1\\nvalue = [0, 0, 0, 0, 0, 0, 0, 0, 1, 0]'),\n",
       " Text(144.19603960396043, 346.545, 'gini = 0.0\\nsamples = 33\\nvalue = [0, 0, 33, 0, 0, 0, 0, 0, 0, 0]'),\n",
       " Text(164.0851485148515, 387.31500000000005, 'X[43] <= 5.5\\ngini = 0.66\\nsamples = 24\\nvalue = [0, 0, 0, 13, 2, 2, 1, 4, 1, 1]'),\n",
       " Text(154.14059405940597, 346.545, 'X[26] <= 12.5\\ngini = 0.32\\nsamples = 16\\nvalue = [0, 0, 0, 13, 0, 2, 0, 0, 0, 1]'),\n",
       " Text(149.1683168316832, 305.77500000000003, 'gini = 0.0\\nsamples = 13\\nvalue = [0, 0, 0, 13, 0, 0, 0, 0, 0, 0]'),\n",
       " Text(159.11287128712874, 305.77500000000003, 'X[25] <= 3.0\\ngini = 0.444\\nsamples = 3\\nvalue = [0, 0, 0, 0, 0, 2, 0, 0, 0, 1]'),\n",
       " Text(154.14059405940597, 265.005, 'gini = 0.0\\nsamples = 1\\nvalue = [0, 0, 0, 0, 0, 0, 0, 0, 0, 1]'),\n",
       " Text(164.0851485148515, 265.005, 'gini = 0.0\\nsamples = 2\\nvalue = [0, 0, 0, 0, 0, 2, 0, 0, 0, 0]'),\n",
       " Text(174.02970297029705, 346.545, 'X[45] <= 6.5\\ngini = 0.656\\nsamples = 8\\nvalue = [0, 0, 0, 0, 2, 0, 1, 4, 1, 0]'),\n",
       " Text(169.05742574257428, 305.77500000000003, 'gini = 0.0\\nsamples = 4\\nvalue = [0, 0, 0, 0, 0, 0, 0, 4, 0, 0]'),\n",
       " Text(179.00198019801982, 305.77500000000003, 'X[46] <= 5.0\\ngini = 0.625\\nsamples = 4\\nvalue = [0, 0, 0, 0, 2, 0, 1, 0, 1, 0]'),\n",
       " Text(174.02970297029705, 265.005, 'gini = 0.0\\nsamples = 2\\nvalue = [0, 0, 0, 0, 2, 0, 0, 0, 0, 0]'),\n",
       " Text(183.9742574257426, 265.005, 'X[26] <= 10.5\\ngini = 0.5\\nsamples = 2\\nvalue = [0, 0, 0, 0, 0, 0, 1, 0, 1, 0]'),\n",
       " Text(179.00198019801982, 224.235, 'gini = 0.0\\nsamples = 1\\nvalue = [0, 0, 0, 0, 0, 0, 1, 0, 0, 0]'),\n",
       " Text(188.9465346534654, 224.235, 'gini = 0.0\\nsamples = 1\\nvalue = [0, 0, 0, 0, 0, 0, 0, 0, 1, 0]'),\n",
       " Text(208.83564356435647, 428.08500000000004, 'X[46] <= 0.5\\ngini = 0.349\\nsamples = 40\\nvalue = [0, 32, 2, 1, 3, 0, 2, 0, 0, 0]'),\n",
       " Text(198.89108910891093, 387.31500000000005, 'X[27] <= 10.5\\ngini = 0.112\\nsamples = 34\\nvalue = [0, 32, 1, 0, 1, 0, 0, 0, 0, 0]'),\n",
       " Text(193.91881188118816, 346.545, 'X[19] <= 15.0\\ngini = 0.5\\nsamples = 2\\nvalue = [0, 0, 1, 0, 1, 0, 0, 0, 0, 0]'),\n",
       " Text(188.9465346534654, 305.77500000000003, 'gini = 0.0\\nsamples = 1\\nvalue = [0, 0, 1, 0, 0, 0, 0, 0, 0, 0]'),\n",
       " Text(198.89108910891093, 305.77500000000003, 'gini = 0.0\\nsamples = 1\\nvalue = [0, 0, 0, 0, 1, 0, 0, 0, 0, 0]'),\n",
       " Text(203.8633663366337, 346.545, 'gini = 0.0\\nsamples = 32\\nvalue = [0, 32, 0, 0, 0, 0, 0, 0, 0, 0]'),\n",
       " Text(218.78019801980201, 387.31500000000005, 'X[33] <= 4.0\\ngini = 0.722\\nsamples = 6\\nvalue = [0, 0, 1, 1, 2, 0, 2, 0, 0, 0]'),\n",
       " Text(213.80792079207924, 346.545, 'X[2] <= 2.0\\ngini = 0.625\\nsamples = 4\\nvalue = [0, 0, 1, 1, 0, 0, 2, 0, 0, 0]'),\n",
       " Text(208.83564356435647, 305.77500000000003, 'gini = 0.0\\nsamples = 2\\nvalue = [0, 0, 0, 0, 0, 0, 2, 0, 0, 0]'),\n",
       " Text(218.78019801980201, 305.77500000000003, 'X[1] <= 2.0\\ngini = 0.5\\nsamples = 2\\nvalue = [0, 0, 1, 1, 0, 0, 0, 0, 0, 0]'),\n",
       " Text(213.80792079207924, 265.005, 'gini = 0.0\\nsamples = 1\\nvalue = [0, 0, 0, 1, 0, 0, 0, 0, 0, 0]'),\n",
       " Text(223.75247524752479, 265.005, 'gini = 0.0\\nsamples = 1\\nvalue = [0, 0, 1, 0, 0, 0, 0, 0, 0, 0]'),\n",
       " Text(223.75247524752479, 346.545, 'gini = 0.0\\nsamples = 2\\nvalue = [0, 0, 0, 0, 2, 0, 0, 0, 0, 0]'),\n",
       " Text(248.61386138613867, 468.855, 'X[18] <= 4.5\\ngini = 0.067\\nsamples = 145\\nvalue = [0, 0, 0, 1, 2, 140, 0, 1, 1, 0]'),\n",
       " Text(233.69702970297033, 428.08500000000004, 'X[10] <= 1.0\\ngini = 0.667\\nsamples = 3\\nvalue = [0, 0, 0, 1, 1, 0, 0, 1, 0, 0]'),\n",
       " Text(228.72475247524756, 387.31500000000005, 'gini = 0.0\\nsamples = 1\\nvalue = [0, 0, 0, 0, 1, 0, 0, 0, 0, 0]'),\n",
       " Text(238.6693069306931, 387.31500000000005, 'X[14] <= 5.5\\ngini = 0.5\\nsamples = 2\\nvalue = [0, 0, 0, 1, 0, 0, 0, 1, 0, 0]'),\n",
       " Text(233.69702970297033, 346.545, 'gini = 0.0\\nsamples = 1\\nvalue = [0, 0, 0, 1, 0, 0, 0, 0, 0, 0]'),\n",
       " Text(243.6415841584159, 346.545, 'gini = 0.0\\nsamples = 1\\nvalue = [0, 0, 0, 0, 0, 0, 0, 1, 0, 0]'),\n",
       " Text(263.53069306930695, 428.08500000000004, 'X[9] <= 15.0\\ngini = 0.028\\nsamples = 142\\nvalue = [0, 0, 0, 0, 1, 140, 0, 0, 1, 0]'),\n",
       " Text(258.5584158415842, 387.31500000000005, 'X[24] <= 0.5\\ngini = 0.014\\nsamples = 141\\nvalue = [0, 0, 0, 0, 1, 140, 0, 0, 0, 0]'),\n",
       " Text(253.58613861386144, 346.545, 'gini = 0.0\\nsamples = 140\\nvalue = [0, 0, 0, 0, 0, 140, 0, 0, 0, 0]'),\n",
       " Text(263.53069306930695, 346.545, 'gini = 0.0\\nsamples = 1\\nvalue = [0, 0, 0, 0, 1, 0, 0, 0, 0, 0]'),\n",
       " Text(268.5029702970298, 387.31500000000005, 'gini = 0.0\\nsamples = 1\\nvalue = [0, 0, 0, 0, 0, 0, 0, 0, 1, 0]'),\n",
       " Text(311.3888613861387, 509.625, 'X[54] <= 1.5\\ngini = 0.381\\nsamples = 218\\nvalue = [0, 8, 11, 0, 26, 3, 169, 1, 0, 0]'),\n",
       " Text(297.0935643564357, 468.855, 'X[10] <= 5.5\\ngini = 0.636\\nsamples = 47\\nvalue = [0, 8, 2, 0, 26, 3, 7, 1, 0, 0]'),\n",
       " Text(283.4198019801981, 428.08500000000004, 'X[41] <= 1.5\\ngini = 0.145\\nsamples = 26\\nvalue = [0, 1, 0, 0, 24, 0, 1, 0, 0, 0]'),\n",
       " Text(278.4475247524753, 387.31500000000005, 'X[18] <= 5.5\\ngini = 0.5\\nsamples = 2\\nvalue = [0, 1, 0, 0, 0, 0, 1, 0, 0, 0]'),\n",
       " Text(273.47524752475255, 346.545, 'gini = 0.0\\nsamples = 1\\nvalue = [0, 0, 0, 0, 0, 0, 1, 0, 0, 0]'),\n",
       " Text(283.4198019801981, 346.545, 'gini = 0.0\\nsamples = 1\\nvalue = [0, 1, 0, 0, 0, 0, 0, 0, 0, 0]'),\n",
       " Text(288.39207920792086, 387.31500000000005, 'gini = 0.0\\nsamples = 24\\nvalue = [0, 0, 0, 0, 24, 0, 0, 0, 0, 0]'),\n",
       " Text(310.7673267326733, 428.08500000000004, 'X[45] <= 1.5\\ngini = 0.766\\nsamples = 21\\nvalue = [0, 7, 2, 0, 2, 3, 6, 1, 0, 0]'),\n",
       " Text(298.3366336633664, 387.31500000000005, 'X[62] <= 1.5\\ngini = 0.346\\nsamples = 9\\nvalue = [0, 7, 2, 0, 0, 0, 0, 0, 0, 0]'),\n",
       " Text(293.36435643564363, 346.545, 'gini = 0.0\\nsamples = 7\\nvalue = [0, 7, 0, 0, 0, 0, 0, 0, 0, 0]'),\n",
       " Text(303.30891089108917, 346.545, 'gini = 0.0\\nsamples = 2\\nvalue = [0, 0, 2, 0, 0, 0, 0, 0, 0, 0]'),\n",
       " Text(323.19801980198025, 387.31500000000005, 'X[50] <= 6.0\\ngini = 0.653\\nsamples = 12\\nvalue = [0, 0, 0, 0, 2, 3, 6, 1, 0, 0]'),\n",
       " Text(313.2534653465347, 346.545, 'X[5] <= 6.0\\ngini = 0.48\\nsamples = 5\\nvalue = [0, 0, 0, 0, 2, 3, 0, 0, 0, 0]'),\n",
       " Text(308.28118811881194, 305.77500000000003, 'gini = 0.0\\nsamples = 2\\nvalue = [0, 0, 0, 0, 2, 0, 0, 0, 0, 0]'),\n",
       " Text(318.2257425742575, 305.77500000000003, 'gini = 0.0\\nsamples = 3\\nvalue = [0, 0, 0, 0, 0, 3, 0, 0, 0, 0]'),\n",
       " Text(333.1425742574258, 346.545, 'X[38] <= 4.5\\ngini = 0.245\\nsamples = 7\\nvalue = [0, 0, 0, 0, 0, 0, 6, 1, 0, 0]'),\n",
       " Text(328.170297029703, 305.77500000000003, 'gini = 0.0\\nsamples = 6\\nvalue = [0, 0, 0, 0, 0, 0, 6, 0, 0, 0]'),\n",
       " Text(338.11485148514856, 305.77500000000003, 'gini = 0.0\\nsamples = 1\\nvalue = [0, 0, 0, 0, 0, 0, 0, 1, 0, 0]'),\n",
       " Text(325.68415841584164, 468.855, 'X[58] <= 9.0\\ngini = 0.1\\nsamples = 171\\nvalue = [0, 0, 9, 0, 0, 0, 162, 0, 0, 0]'),\n",
       " Text(320.71188118811887, 428.08500000000004, 'gini = 0.0\\nsamples = 162\\nvalue = [0, 0, 0, 0, 0, 0, 162, 0, 0, 0]'),\n",
       " Text(330.6564356435644, 428.08500000000004, 'gini = 0.0\\nsamples = 9\\nvalue = [0, 0, 9, 0, 0, 0, 0, 0, 0, 0]'),\n",
       " Text(607.6083926361388, 550.395, 'X[60] <= 7.5\\ngini = 0.86\\nsamples = 1058\\nvalue = [4, 139, 127, 167, 142, 12, 4, 173, 168, 122]'),\n",
       " Text(400.26831683168325, 509.625, 'X[5] <= 0.5\\ngini = 0.552\\nsamples = 247\\nvalue = [0, 11, 6, 10, 28, 4, 0, 161, 11, 16]'),\n",
       " Text(353.0316831683169, 468.855, 'X[12] <= 7.5\\ngini = 0.627\\nsamples = 45\\nvalue = [0, 2, 5, 0, 26, 2, 0, 6, 3, 1]'),\n",
       " Text(348.0594059405941, 428.08500000000004, 'gini = 0.0\\nsamples = 26\\nvalue = [0, 0, 0, 0, 26, 0, 0, 0, 0, 0]'),\n",
       " Text(358.00396039603964, 428.08500000000004, 'X[53] <= 10.5\\ngini = 0.781\\nsamples = 19\\nvalue = [0, 2, 5, 0, 0, 2, 0, 6, 3, 1]'),\n",
       " Text(348.0594059405941, 387.31500000000005, 'X[60] <= 1.5\\ngini = 0.698\\nsamples = 13\\nvalue = [0, 1, 0, 0, 0, 2, 0, 6, 3, 1]'),\n",
       " Text(343.08712871287133, 346.545, 'gini = 0.0\\nsamples = 6\\nvalue = [0, 0, 0, 0, 0, 0, 0, 6, 0, 0]'),\n",
       " Text(353.0316831683169, 346.545, 'X[26] <= 8.5\\ngini = 0.694\\nsamples = 7\\nvalue = [0, 1, 0, 0, 0, 2, 0, 0, 3, 1]'),\n",
       " Text(348.0594059405941, 305.77500000000003, 'gini = 0.0\\nsamples = 3\\nvalue = [0, 0, 0, 0, 0, 0, 0, 0, 3, 0]'),\n",
       " Text(358.00396039603964, 305.77500000000003, 'X[13] <= 7.5\\ngini = 0.625\\nsamples = 4\\nvalue = [0, 1, 0, 0, 0, 2, 0, 0, 0, 1]'),\n",
       " Text(353.0316831683169, 265.005, 'X[3] <= 14.5\\ngini = 0.5\\nsamples = 2\\nvalue = [0, 1, 0, 0, 0, 0, 0, 0, 0, 1]'),\n",
       " Text(348.0594059405941, 224.235, 'gini = 0.0\\nsamples = 1\\nvalue = [0, 0, 0, 0, 0, 0, 0, 0, 0, 1]'),\n",
       " Text(358.00396039603964, 224.235, 'gini = 0.0\\nsamples = 1\\nvalue = [0, 1, 0, 0, 0, 0, 0, 0, 0, 0]'),\n",
       " Text(362.9762376237624, 265.005, 'gini = 0.0\\nsamples = 2\\nvalue = [0, 0, 0, 0, 0, 2, 0, 0, 0, 0]'),\n",
       " Text(367.9485148514852, 387.31500000000005, 'X[61] <= 12.0\\ngini = 0.278\\nsamples = 6\\nvalue = [0, 1, 5, 0, 0, 0, 0, 0, 0, 0]'),\n",
       " Text(362.9762376237624, 346.545, 'gini = 0.0\\nsamples = 5\\nvalue = [0, 0, 5, 0, 0, 0, 0, 0, 0, 0]'),\n",
       " Text(372.920792079208, 346.545, 'gini = 0.0\\nsamples = 1\\nvalue = [0, 1, 0, 0, 0, 0, 0, 0, 0, 0]'),\n",
       " Text(447.50495049504957, 468.855, 'X[53] <= 3.5\\ngini = 0.399\\nsamples = 202\\nvalue = [0, 9, 1, 10, 2, 2, 0, 155, 8, 15]'),\n",
       " Text(412.6990099009902, 428.08500000000004, 'X[37] <= 0.5\\ngini = 0.269\\nsamples = 182\\nvalue = [0, 3, 0, 4, 2, 1, 0, 155, 6, 11]'),\n",
       " Text(387.8376237623763, 387.31500000000005, 'X[52] <= 1.0\\ngini = 0.79\\nsamples = 18\\nvalue = [0, 3, 0, 3, 0, 0, 0, 4, 5, 3]'),\n",
       " Text(382.86534653465355, 346.545, 'gini = 0.0\\nsamples = 4\\nvalue = [0, 0, 0, 0, 0, 0, 0, 4, 0, 0]'),\n",
       " Text(392.8099009900991, 346.545, 'X[20] <= 11.5\\ngini = 0.735\\nsamples = 14\\nvalue = [0, 3, 0, 3, 0, 0, 0, 0, 5, 3]'),\n",
       " Text(382.86534653465355, 305.77500000000003, 'X[52] <= 7.0\\ngini = 0.278\\nsamples = 6\\nvalue = [0, 0, 0, 0, 0, 0, 0, 0, 5, 1]'),\n",
       " Text(377.8930693069308, 265.005, 'gini = 0.0\\nsamples = 1\\nvalue = [0, 0, 0, 0, 0, 0, 0, 0, 0, 1]'),\n",
       " Text(387.8376237623763, 265.005, 'gini = 0.0\\nsamples = 5\\nvalue = [0, 0, 0, 0, 0, 0, 0, 0, 5, 0]'),\n",
       " Text(402.75445544554464, 305.77500000000003, 'X[1] <= 1.0\\ngini = 0.656\\nsamples = 8\\nvalue = [0, 3, 0, 3, 0, 0, 0, 0, 0, 2]'),\n",
       " Text(397.78217821782187, 265.005, 'X[11] <= 13.0\\ngini = 0.48\\nsamples = 5\\nvalue = [0, 3, 0, 0, 0, 0, 0, 0, 0, 2]'),\n",
       " Text(392.8099009900991, 224.235, 'gini = 0.0\\nsamples = 2\\nvalue = [0, 0, 0, 0, 0, 0, 0, 0, 0, 2]'),\n",
       " Text(402.75445544554464, 224.235, 'gini = 0.0\\nsamples = 3\\nvalue = [0, 3, 0, 0, 0, 0, 0, 0, 0, 0]'),\n",
       " Text(407.7267326732674, 265.005, 'gini = 0.0\\nsamples = 3\\nvalue = [0, 0, 0, 3, 0, 0, 0, 0, 0, 0]'),\n",
       " Text(437.56039603960403, 387.31500000000005, 'X[26] <= 12.5\\ngini = 0.15\\nsamples = 164\\nvalue = [0, 0, 0, 1, 2, 1, 0, 151, 1, 8]'),\n",
       " Text(427.6158415841585, 346.545, 'X[19] <= 12.5\\ngini = 0.028\\nsamples = 142\\nvalue = [0, 0, 0, 1, 0, 0, 0, 140, 1, 0]'),\n",
       " Text(422.6435643564357, 305.77500000000003, 'X[51] <= 2.5\\ngini = 0.014\\nsamples = 141\\nvalue = [0, 0, 0, 1, 0, 0, 0, 140, 0, 0]'),\n",
       " Text(417.67128712871295, 265.005, 'gini = 0.0\\nsamples = 1\\nvalue = [0, 0, 0, 1, 0, 0, 0, 0, 0, 0]'),\n",
       " Text(427.6158415841585, 265.005, 'gini = 0.0\\nsamples = 140\\nvalue = [0, 0, 0, 0, 0, 0, 0, 140, 0, 0]'),\n",
       " Text(432.58811881188126, 305.77500000000003, 'gini = 0.0\\nsamples = 1\\nvalue = [0, 0, 0, 0, 0, 0, 0, 0, 1, 0]'),\n",
       " Text(447.50495049504957, 346.545, 'X[27] <= 5.5\\ngini = 0.607\\nsamples = 22\\nvalue = [0, 0, 0, 0, 2, 1, 0, 11, 0, 8]'),\n",
       " Text(442.5326732673268, 305.77500000000003, 'gini = 0.0\\nsamples = 10\\nvalue = [0, 0, 0, 0, 0, 0, 0, 10, 0, 0]'),\n",
       " Text(452.47722772277234, 305.77500000000003, 'X[33] <= 1.5\\ngini = 0.514\\nsamples = 12\\nvalue = [0, 0, 0, 0, 2, 1, 0, 1, 0, 8]'),\n",
       " Text(442.5326732673268, 265.005, 'X[1] <= 3.0\\ngini = 0.198\\nsamples = 9\\nvalue = [0, 0, 0, 0, 0, 1, 0, 0, 0, 8]'),\n",
       " Text(437.56039603960403, 224.235, 'gini = 0.0\\nsamples = 8\\nvalue = [0, 0, 0, 0, 0, 0, 0, 0, 0, 8]'),\n",
       " Text(447.50495049504957, 224.235, 'gini = 0.0\\nsamples = 1\\nvalue = [0, 0, 0, 0, 0, 1, 0, 0, 0, 0]'),\n",
       " Text(462.4217821782179, 265.005, 'X[2] <= 6.5\\ngini = 0.444\\nsamples = 3\\nvalue = [0, 0, 0, 0, 2, 0, 0, 1, 0, 0]'),\n",
       " Text(457.4495049504951, 224.235, 'gini = 0.0\\nsamples = 2\\nvalue = [0, 0, 0, 0, 2, 0, 0, 0, 0, 0]'),\n",
       " Text(467.39405940594065, 224.235, 'gini = 0.0\\nsamples = 1\\nvalue = [0, 0, 0, 0, 0, 0, 0, 1, 0, 0]'),\n",
       " Text(482.310891089109, 428.08500000000004, 'X[62] <= 0.5\\ngini = 0.765\\nsamples = 20\\nvalue = [0, 6, 1, 6, 0, 1, 0, 0, 2, 4]'),\n",
       " Text(477.3386138613862, 387.31500000000005, 'X[18] <= 1.0\\ngini = 0.704\\nsamples = 14\\nvalue = [0, 0, 1, 6, 0, 1, 0, 0, 2, 4]'),\n",
       " Text(472.3663366336634, 346.545, 'gini = 0.0\\nsamples = 6\\nvalue = [0, 0, 0, 6, 0, 0, 0, 0, 0, 0]'),\n",
       " Text(482.310891089109, 346.545, 'X[44] <= 5.5\\ngini = 0.656\\nsamples = 8\\nvalue = [0, 0, 1, 0, 0, 1, 0, 0, 2, 4]'),\n",
       " Text(477.3386138613862, 305.77500000000003, 'gini = 0.0\\nsamples = 4\\nvalue = [0, 0, 0, 0, 0, 0, 0, 0, 0, 4]'),\n",
       " Text(487.2831683168318, 305.77500000000003, 'X[21] <= 12.0\\ngini = 0.625\\nsamples = 4\\nvalue = [0, 0, 1, 0, 0, 1, 0, 0, 2, 0]'),\n",
       " Text(482.310891089109, 265.005, 'X[20] <= 9.5\\ngini = 0.5\\nsamples = 2\\nvalue = [0, 0, 1, 0, 0, 1, 0, 0, 0, 0]'),\n",
       " Text(477.3386138613862, 224.235, 'gini = 0.0\\nsamples = 1\\nvalue = [0, 0, 0, 0, 0, 1, 0, 0, 0, 0]'),\n",
       " Text(487.2831683168318, 224.235, 'gini = 0.0\\nsamples = 1\\nvalue = [0, 0, 1, 0, 0, 0, 0, 0, 0, 0]'),\n",
       " Text(492.25544554455456, 265.005, 'gini = 0.0\\nsamples = 2\\nvalue = [0, 0, 0, 0, 0, 0, 0, 0, 2, 0]'),\n",
       " Text(487.2831683168318, 387.31500000000005, 'gini = 0.0\\nsamples = 6\\nvalue = [0, 6, 0, 0, 0, 0, 0, 0, 0, 0]'),\n",
       " Text(814.9484684405942, 509.625, 'X[33] <= 3.5\\ngini = 0.841\\nsamples = 811\\nvalue = [4, 128, 121, 157, 114, 8, 4, 12, 157, 106]'),\n",
       " Text(671.4905012376239, 468.855, 'X[43] <= 1.5\\ngini = 0.808\\nsamples = 666\\nvalue = [2, 107, 120, 156, 4, 7, 1, 10, 154, 105]'),\n",
       " Text(576.1626237623764, 428.08500000000004, 'X[29] <= 12.5\\ngini = 0.636\\nsamples = 281\\nvalue = [0, 19, 6, 138, 0, 7, 0, 0, 16, 95]'),\n",
       " Text(545.7074257425744, 387.31500000000005, 'X[34] <= 3.5\\ngini = 0.342\\nsamples = 163\\nvalue = [0, 3, 2, 131, 0, 3, 0, 0, 14, 10]'),\n",
       " Text(524.5752475247525, 346.545, 'X[26] <= 8.5\\ngini = 0.149\\nsamples = 140\\nvalue = [0, 1, 2, 129, 0, 3, 0, 0, 0, 5]'),\n",
       " Text(507.1722772277229, 305.77500000000003, 'X[28] <= 7.5\\ngini = 0.073\\nsamples = 133\\nvalue = [0, 1, 2, 128, 0, 0, 0, 0, 0, 2]'),\n",
       " Text(502.2000000000001, 265.005, 'gini = 0.0\\nsamples = 2\\nvalue = [0, 0, 2, 0, 0, 0, 0, 0, 0, 0]'),\n",
       " Text(512.1445544554456, 265.005, 'X[19] <= 14.5\\ngini = 0.045\\nsamples = 131\\nvalue = [0, 1, 0, 128, 0, 0, 0, 0, 0, 2]'),\n",
       " Text(502.2000000000001, 224.235, 'X[4] <= 7.5\\ngini = 0.015\\nsamples = 129\\nvalue = [0, 0, 0, 128, 0, 0, 0, 0, 0, 1]'),\n",
       " Text(497.22772277227733, 183.46500000000003, 'X[18] <= 10.5\\ngini = 0.375\\nsamples = 4\\nvalue = [0, 0, 0, 3, 0, 0, 0, 0, 0, 1]'),\n",
       " Text(492.25544554455456, 142.695, 'gini = 0.0\\nsamples = 3\\nvalue = [0, 0, 0, 3, 0, 0, 0, 0, 0, 0]'),\n",
       " Text(502.2000000000001, 142.695, 'gini = 0.0\\nsamples = 1\\nvalue = [0, 0, 0, 0, 0, 0, 0, 0, 0, 1]'),\n",
       " Text(507.1722772277229, 183.46500000000003, 'gini = 0.0\\nsamples = 125\\nvalue = [0, 0, 0, 125, 0, 0, 0, 0, 0, 0]'),\n",
       " Text(522.0891089108911, 224.235, 'X[55] <= 2.5\\ngini = 0.5\\nsamples = 2\\nvalue = [0, 1, 0, 0, 0, 0, 0, 0, 0, 1]'),\n",
       " Text(517.1168316831684, 183.46500000000003, 'gini = 0.0\\nsamples = 1\\nvalue = [0, 0, 0, 0, 0, 0, 0, 0, 0, 1]'),\n",
       " Text(527.0613861386139, 183.46500000000003, 'gini = 0.0\\nsamples = 1\\nvalue = [0, 1, 0, 0, 0, 0, 0, 0, 0, 0]'),\n",
       " Text(541.9782178217823, 305.77500000000003, 'X[19] <= 9.0\\ngini = 0.612\\nsamples = 7\\nvalue = [0, 0, 0, 1, 0, 3, 0, 0, 0, 3]'),\n",
       " Text(537.0059405940596, 265.005, 'X[51] <= 9.0\\ngini = 0.375\\nsamples = 4\\nvalue = [0, 0, 0, 1, 0, 0, 0, 0, 0, 3]'),\n",
       " Text(532.0336633663368, 224.235, 'gini = 0.0\\nsamples = 3\\nvalue = [0, 0, 0, 0, 0, 0, 0, 0, 0, 3]'),\n",
       " Text(541.9782178217823, 224.235, 'gini = 0.0\\nsamples = 1\\nvalue = [0, 0, 0, 1, 0, 0, 0, 0, 0, 0]'),\n",
       " Text(546.9504950495051, 265.005, 'gini = 0.0\\nsamples = 3\\nvalue = [0, 0, 0, 0, 0, 3, 0, 0, 0, 0]'),\n",
       " Text(566.8396039603962, 346.545, 'X[42] <= 3.5\\ngini = 0.567\\nsamples = 23\\nvalue = [0, 2, 0, 2, 0, 0, 0, 0, 14, 5]'),\n",
       " Text(561.8673267326734, 305.77500000000003, 'X[25] <= 2.0\\ngini = 0.593\\nsamples = 9\\nvalue = [0, 2, 0, 2, 0, 0, 0, 0, 0, 5]'),\n",
       " Text(556.8950495049506, 265.005, 'X[59] <= 13.0\\ngini = 0.5\\nsamples = 4\\nvalue = [0, 2, 0, 2, 0, 0, 0, 0, 0, 0]'),\n",
       " Text(551.9227722772279, 224.235, 'gini = 0.0\\nsamples = 2\\nvalue = [0, 2, 0, 0, 0, 0, 0, 0, 0, 0]'),\n",
       " Text(561.8673267326734, 224.235, 'gini = 0.0\\nsamples = 2\\nvalue = [0, 0, 0, 2, 0, 0, 0, 0, 0, 0]'),\n",
       " Text(566.8396039603962, 265.005, 'gini = 0.0\\nsamples = 5\\nvalue = [0, 0, 0, 0, 0, 0, 0, 0, 0, 5]'),\n",
       " Text(571.811881188119, 305.77500000000003, 'gini = 0.0\\nsamples = 14\\nvalue = [0, 0, 0, 0, 0, 0, 0, 0, 14, 0]'),\n",
       " Text(606.6178217821783, 387.31500000000005, 'X[35] <= 1.5\\ngini = 0.457\\nsamples = 118\\nvalue = [0, 16, 4, 7, 0, 4, 0, 0, 2, 85]'),\n",
       " Text(586.7287128712873, 346.545, 'X[3] <= 3.5\\ngini = 0.711\\nsamples = 40\\nvalue = [0, 15, 4, 4, 0, 3, 0, 0, 0, 14]'),\n",
       " Text(581.7564356435645, 305.77500000000003, 'gini = 0.0\\nsamples = 15\\nvalue = [0, 15, 0, 0, 0, 0, 0, 0, 0, 0]'),\n",
       " Text(591.70099009901, 305.77500000000003, 'X[27] <= 7.5\\ngini = 0.621\\nsamples = 25\\nvalue = [0, 0, 4, 4, 0, 3, 0, 0, 0, 14]'),\n",
       " Text(581.7564356435645, 265.005, 'X[52] <= 14.0\\ngini = 0.66\\nsamples = 10\\nvalue = [0, 0, 4, 4, 0, 1, 0, 0, 0, 1]'),\n",
       " Text(576.7841584158417, 224.235, 'X[18] <= 12.5\\ngini = 0.5\\nsamples = 6\\nvalue = [0, 0, 0, 4, 0, 1, 0, 0, 0, 1]'),\n",
       " Text(571.811881188119, 183.46500000000003, 'gini = 0.0\\nsamples = 4\\nvalue = [0, 0, 0, 4, 0, 0, 0, 0, 0, 0]'),\n",
       " Text(581.7564356435645, 183.46500000000003, 'X[19] <= 15.5\\ngini = 0.5\\nsamples = 2\\nvalue = [0, 0, 0, 0, 0, 1, 0, 0, 0, 1]'),\n",
       " Text(576.7841584158417, 142.695, 'gini = 0.0\\nsamples = 1\\nvalue = [0, 0, 0, 0, 0, 0, 0, 0, 0, 1]'),\n",
       " Text(586.7287128712873, 142.695, 'gini = 0.0\\nsamples = 1\\nvalue = [0, 0, 0, 0, 0, 1, 0, 0, 0, 0]'),\n",
       " Text(586.7287128712873, 224.235, 'gini = 0.0\\nsamples = 4\\nvalue = [0, 0, 4, 0, 0, 0, 0, 0, 0, 0]'),\n",
       " Text(601.6455445544556, 265.005, 'X[58] <= 12.5\\ngini = 0.231\\nsamples = 15\\nvalue = [0, 0, 0, 0, 0, 2, 0, 0, 0, 13]'),\n",
       " Text(596.6732673267328, 224.235, 'gini = 0.0\\nsamples = 13\\nvalue = [0, 0, 0, 0, 0, 0, 0, 0, 0, 13]'),\n",
       " Text(606.6178217821783, 224.235, 'gini = 0.0\\nsamples = 2\\nvalue = [0, 0, 0, 0, 0, 2, 0, 0, 0, 0]'),\n",
       " Text(626.5069306930694, 346.545, 'X[26] <= 2.5\\ngini = 0.169\\nsamples = 78\\nvalue = [0, 1, 0, 3, 0, 1, 0, 0, 2, 71]'),\n",
       " Text(621.5346534653467, 305.77500000000003, 'gini = 0.0\\nsamples = 3\\nvalue = [0, 0, 0, 3, 0, 0, 0, 0, 0, 0]'),\n",
       " Text(631.4792079207922, 305.77500000000003, 'X[21] <= 10.5\\ngini = 0.103\\nsamples = 75\\nvalue = [0, 1, 0, 0, 0, 1, 0, 0, 2, 71]'),\n",
       " Text(621.5346534653467, 265.005, 'X[17] <= 2.0\\ngini = 0.64\\nsamples = 5\\nvalue = [0, 0, 0, 0, 0, 1, 0, 0, 2, 2]'),\n",
       " Text(616.5623762376239, 224.235, 'gini = 0.0\\nsamples = 2\\nvalue = [0, 0, 0, 0, 0, 0, 0, 0, 0, 2]'),\n",
       " Text(626.5069306930694, 224.235, 'X[22] <= 1.0\\ngini = 0.444\\nsamples = 3\\nvalue = [0, 0, 0, 0, 0, 1, 0, 0, 2, 0]'),\n",
       " Text(621.5346534653467, 183.46500000000003, 'gini = 0.0\\nsamples = 1\\nvalue = [0, 0, 0, 0, 0, 1, 0, 0, 0, 0]'),\n",
       " Text(631.4792079207922, 183.46500000000003, 'gini = 0.0\\nsamples = 2\\nvalue = [0, 0, 0, 0, 0, 0, 0, 0, 2, 0]'),\n",
       " Text(641.4237623762377, 265.005, 'X[11] <= 1.0\\ngini = 0.028\\nsamples = 70\\nvalue = [0, 1, 0, 0, 0, 0, 0, 0, 0, 69]'),\n",
       " Text(636.451485148515, 224.235, 'gini = 0.0\\nsamples = 1\\nvalue = [0, 1, 0, 0, 0, 0, 0, 0, 0, 0]'),\n",
       " Text(646.3960396039605, 224.235, 'gini = 0.0\\nsamples = 69\\nvalue = [0, 0, 0, 0, 0, 0, 0, 0, 0, 69]'),\n",
       " Text(766.8183787128714, 428.08500000000004, 'X[27] <= 7.5\\ngini = 0.728\\nsamples = 385\\nvalue = [2, 88, 114, 18, 4, 0, 1, 10, 138, 10]'),\n",
       " Text(698.6049504950496, 387.31500000000005, 'X[34] <= 3.5\\ngini = 0.398\\nsamples = 121\\nvalue = [1, 2, 93, 2, 2, 0, 0, 7, 9, 5]'),\n",
       " Text(676.2297029702971, 346.545, 'X[50] <= 0.5\\ngini = 0.121\\nsamples = 95\\nvalue = [0, 2, 89, 2, 0, 0, 0, 2, 0, 0]'),\n",
       " Text(666.2851485148516, 305.77500000000003, 'X[5] <= 12.0\\ngini = 0.722\\nsamples = 6\\nvalue = [0, 2, 1, 1, 0, 0, 0, 2, 0, 0]'),\n",
       " Text(661.3128712871288, 265.005, 'X[11] <= 12.5\\ngini = 0.625\\nsamples = 4\\nvalue = [0, 2, 1, 1, 0, 0, 0, 0, 0, 0]'),\n",
       " Text(656.340594059406, 224.235, 'X[11] <= 10.0\\ngini = 0.5\\nsamples = 2\\nvalue = [0, 0, 1, 1, 0, 0, 0, 0, 0, 0]'),\n",
       " Text(651.3683168316833, 183.46500000000003, 'gini = 0.0\\nsamples = 1\\nvalue = [0, 0, 0, 1, 0, 0, 0, 0, 0, 0]'),\n",
       " Text(661.3128712871288, 183.46500000000003, 'gini = 0.0\\nsamples = 1\\nvalue = [0, 0, 1, 0, 0, 0, 0, 0, 0, 0]'),\n",
       " Text(666.2851485148516, 224.235, 'gini = 0.0\\nsamples = 2\\nvalue = [0, 2, 0, 0, 0, 0, 0, 0, 0, 0]'),\n",
       " Text(671.2574257425744, 265.005, 'gini = 0.0\\nsamples = 2\\nvalue = [0, 0, 0, 0, 0, 0, 0, 2, 0, 0]'),\n",
       " Text(686.1742574257427, 305.77500000000003, 'X[45] <= 14.0\\ngini = 0.022\\nsamples = 89\\nvalue = [0, 0, 88, 1, 0, 0, 0, 0, 0, 0]'),\n",
       " Text(681.2019801980199, 265.005, 'gini = 0.0\\nsamples = 88\\nvalue = [0, 0, 88, 0, 0, 0, 0, 0, 0, 0]'),\n",
       " Text(691.1465346534654, 265.005, 'gini = 0.0\\nsamples = 1\\nvalue = [0, 0, 0, 1, 0, 0, 0, 0, 0, 0]'),\n",
       " Text(720.9801980198021, 346.545, 'X[38] <= 0.5\\ngini = 0.775\\nsamples = 26\\nvalue = [1, 0, 4, 0, 2, 0, 0, 5, 9, 5]'),\n",
       " Text(706.0633663366337, 305.77500000000003, 'X[18] <= 10.5\\ngini = 0.5\\nsamples = 14\\nvalue = [1, 0, 4, 0, 0, 0, 0, 0, 9, 0]'),\n",
       " Text(701.091089108911, 265.005, 'gini = 0.0\\nsamples = 4\\nvalue = [0, 0, 4, 0, 0, 0, 0, 0, 0, 0]'),\n",
       " Text(711.0356435643565, 265.005, 'X[61] <= 1.5\\ngini = 0.18\\nsamples = 10\\nvalue = [1, 0, 0, 0, 0, 0, 0, 0, 9, 0]'),\n",
       " Text(706.0633663366337, 224.235, 'gini = 0.0\\nsamples = 1\\nvalue = [1, 0, 0, 0, 0, 0, 0, 0, 0, 0]'),\n",
       " Text(716.0079207920793, 224.235, 'gini = 0.0\\nsamples = 9\\nvalue = [0, 0, 0, 0, 0, 0, 0, 0, 9, 0]'),\n",
       " Text(735.8970297029704, 305.77500000000003, 'X[46] <= 3.5\\ngini = 0.625\\nsamples = 12\\nvalue = [0, 0, 0, 0, 2, 0, 0, 5, 0, 5]'),\n",
       " Text(730.9247524752476, 265.005, 'X[18] <= 12.0\\ngini = 0.408\\nsamples = 7\\nvalue = [0, 0, 0, 0, 2, 0, 0, 5, 0, 0]'),\n",
       " Text(725.9524752475248, 224.235, 'gini = 0.0\\nsamples = 5\\nvalue = [0, 0, 0, 0, 0, 0, 0, 5, 0, 0]'),\n",
       " Text(735.8970297029704, 224.235, 'gini = 0.0\\nsamples = 2\\nvalue = [0, 0, 0, 0, 2, 0, 0, 0, 0, 0]'),\n",
       " Text(740.8693069306931, 265.005, 'gini = 0.0\\nsamples = 5\\nvalue = [0, 0, 0, 0, 0, 0, 0, 0, 0, 5]'),\n",
       " Text(835.0318069306932, 387.31500000000005, 'X[20] <= 15.5\\ngini = 0.645\\nsamples = 264\\nvalue = [1, 86, 21, 16, 2, 0, 1, 3, 129, 5]'),\n",
       " Text(789.9705445544556, 346.545, 'X[18] <= 2.5\\ngini = 0.357\\nsamples = 147\\nvalue = [1, 5, 4, 11, 0, 0, 1, 3, 117, 5]'),\n",
       " Text(760.7584158415843, 305.77500000000003, 'X[2] <= 5.0\\ngini = 0.773\\nsamples = 16\\nvalue = [0, 2, 2, 6, 0, 0, 1, 2, 3, 0]'),\n",
       " Text(750.8138613861388, 265.005, 'X[42] <= 12.0\\ngini = 0.719\\nsamples = 8\\nvalue = [0, 2, 0, 0, 0, 0, 1, 2, 3, 0]'),\n",
       " Text(745.841584158416, 224.235, 'X[20] <= 5.5\\ngini = 0.64\\nsamples = 5\\nvalue = [0, 2, 0, 0, 0, 0, 1, 2, 0, 0]'),\n",
       " Text(740.8693069306931, 183.46500000000003, 'gini = 0.0\\nsamples = 2\\nvalue = [0, 0, 0, 0, 0, 0, 0, 2, 0, 0]'),\n",
       " Text(750.8138613861388, 183.46500000000003, 'X[28] <= 15.5\\ngini = 0.444\\nsamples = 3\\nvalue = [0, 2, 0, 0, 0, 0, 1, 0, 0, 0]'),\n",
       " Text(745.841584158416, 142.695, 'gini = 0.0\\nsamples = 2\\nvalue = [0, 2, 0, 0, 0, 0, 0, 0, 0, 0]'),\n",
       " Text(755.7861386138616, 142.695, 'gini = 0.0\\nsamples = 1\\nvalue = [0, 0, 0, 0, 0, 0, 1, 0, 0, 0]'),\n",
       " Text(755.7861386138616, 224.235, 'gini = 0.0\\nsamples = 3\\nvalue = [0, 0, 0, 0, 0, 0, 0, 0, 3, 0]'),\n",
       " Text(770.7029702970299, 265.005, 'X[13] <= 8.0\\ngini = 0.375\\nsamples = 8\\nvalue = [0, 0, 2, 6, 0, 0, 0, 0, 0, 0]'),\n",
       " Text(765.7306930693071, 224.235, 'gini = 0.0\\nsamples = 2\\nvalue = [0, 0, 2, 0, 0, 0, 0, 0, 0, 0]'),\n",
       " Text(775.6752475247526, 224.235, 'gini = 0.0\\nsamples = 6\\nvalue = [0, 0, 0, 6, 0, 0, 0, 0, 0, 0]'),\n",
       " Text(819.1826732673269, 305.77500000000003, 'X[38] <= 3.5\\ngini = 0.239\\nsamples = 131\\nvalue = [1, 3, 2, 5, 0, 0, 0, 1, 114, 5]'),\n",
       " Text(798.0504950495051, 265.005, 'X[21] <= 4.0\\ngini = 0.166\\nsamples = 125\\nvalue = [0, 3, 2, 3, 0, 0, 0, 0, 114, 3]'),\n",
       " Text(785.6198019801982, 224.235, 'X[51] <= 14.0\\ngini = 0.48\\nsamples = 5\\nvalue = [0, 3, 0, 0, 0, 0, 0, 0, 2, 0]'),\n",
       " Text(780.6475247524754, 183.46500000000003, 'gini = 0.0\\nsamples = 2\\nvalue = [0, 0, 0, 0, 0, 0, 0, 0, 2, 0]'),\n",
       " Text(790.592079207921, 183.46500000000003, 'gini = 0.0\\nsamples = 3\\nvalue = [0, 3, 0, 0, 0, 0, 0, 0, 0, 0]'),\n",
       " Text(810.481188118812, 224.235, 'X[50] <= 2.5\\ngini = 0.127\\nsamples = 120\\nvalue = [0, 0, 2, 3, 0, 0, 0, 0, 112, 3]'),\n",
       " Text(800.5366336633665, 183.46500000000003, 'X[51] <= 9.5\\ngini = 0.498\\nsamples = 15\\nvalue = [0, 0, 0, 2, 0, 0, 0, 0, 10, 3]'),\n",
       " Text(795.5643564356437, 142.695, 'X[54] <= 0.5\\ngini = 0.48\\nsamples = 5\\nvalue = [0, 0, 0, 2, 0, 0, 0, 0, 0, 3]'),\n",
       " Text(790.592079207921, 101.92499999999995, 'gini = 0.0\\nsamples = 3\\nvalue = [0, 0, 0, 0, 0, 0, 0, 0, 0, 3]'),\n",
       " Text(800.5366336633665, 101.92499999999995, 'gini = 0.0\\nsamples = 2\\nvalue = [0, 0, 0, 2, 0, 0, 0, 0, 0, 0]'),\n",
       " Text(805.5089108910893, 142.695, 'gini = 0.0\\nsamples = 10\\nvalue = [0, 0, 0, 0, 0, 0, 0, 0, 10, 0]'),\n",
       " Text(820.4257425742576, 183.46500000000003, 'X[35] <= 5.0\\ngini = 0.056\\nsamples = 105\\nvalue = [0, 0, 2, 1, 0, 0, 0, 0, 102, 0]'),\n",
       " Text(815.4534653465348, 142.695, 'gini = 0.0\\nsamples = 1\\nvalue = [0, 0, 0, 1, 0, 0, 0, 0, 0, 0]'),\n",
       " Text(825.3980198019804, 142.695, 'X[27] <= 8.5\\ngini = 0.038\\nsamples = 104\\nvalue = [0, 0, 2, 0, 0, 0, 0, 0, 102, 0]'),\n",
       " Text(815.4534653465348, 101.92499999999995, 'X[46] <= 1.5\\ngini = 0.5\\nsamples = 2\\nvalue = [0, 0, 1, 0, 0, 0, 0, 0, 1, 0]'),\n",
       " Text(810.481188118812, 61.15499999999997, 'gini = 0.0\\nsamples = 1\\nvalue = [0, 0, 0, 0, 0, 0, 0, 0, 1, 0]'),\n",
       " Text(820.4257425742576, 61.15499999999997, 'gini = 0.0\\nsamples = 1\\nvalue = [0, 0, 1, 0, 0, 0, 0, 0, 0, 0]'),\n",
       " Text(835.3425742574259, 101.92499999999995, 'X[36] <= 4.5\\ngini = 0.019\\nsamples = 102\\nvalue = [0, 0, 1, 0, 0, 0, 0, 0, 101, 0]'),\n",
       " Text(830.3702970297031, 61.15499999999997, 'X[12] <= 10.5\\ngini = 0.444\\nsamples = 3\\nvalue = [0, 0, 1, 0, 0, 0, 0, 0, 2, 0]'),\n",
       " Text(825.3980198019804, 20.38499999999999, 'gini = 0.0\\nsamples = 2\\nvalue = [0, 0, 0, 0, 0, 0, 0, 0, 2, 0]'),\n",
       " Text(835.3425742574259, 20.38499999999999, 'gini = 0.0\\nsamples = 1\\nvalue = [0, 0, 1, 0, 0, 0, 0, 0, 0, 0]'),\n",
       " Text(840.3148514851487, 61.15499999999997, 'gini = 0.0\\nsamples = 99\\nvalue = [0, 0, 0, 0, 0, 0, 0, 0, 99, 0]'),\n",
       " Text(840.3148514851487, 265.005, 'X[61] <= 14.5\\ngini = 0.722\\nsamples = 6\\nvalue = [1, 0, 0, 2, 0, 0, 0, 1, 0, 2]'),\n",
       " Text(835.3425742574259, 224.235, 'X[52] <= 12.5\\ngini = 0.625\\nsamples = 4\\nvalue = [1, 0, 0, 2, 0, 0, 0, 1, 0, 0]'),\n",
       " Text(830.3702970297031, 183.46500000000003, 'gini = 0.0\\nsamples = 2\\nvalue = [0, 0, 0, 2, 0, 0, 0, 0, 0, 0]'),\n",
       " Text(840.3148514851487, 183.46500000000003, 'X[33] <= 0.5\\ngini = 0.5\\nsamples = 2\\nvalue = [1, 0, 0, 0, 0, 0, 0, 1, 0, 0]'),\n",
       " Text(835.3425742574259, 142.695, 'gini = 0.0\\nsamples = 1\\nvalue = [0, 0, 0, 0, 0, 0, 0, 1, 0, 0]'),\n",
       " Text(845.2871287128714, 142.695, 'gini = 0.0\\nsamples = 1\\nvalue = [1, 0, 0, 0, 0, 0, 0, 0, 0, 0]'),\n",
       " Text(845.2871287128714, 224.235, 'gini = 0.0\\nsamples = 2\\nvalue = [0, 0, 0, 0, 0, 0, 0, 0, 0, 2]'),\n",
       " Text(880.0930693069308, 346.545, 'X[44] <= 6.5\\ngini = 0.487\\nsamples = 117\\nvalue = [0, 81, 17, 5, 2, 0, 0, 0, 12, 0]'),\n",
       " Text(855.231683168317, 305.77500000000003, 'X[45] <= 13.0\\ngini = 0.265\\nsamples = 20\\nvalue = [0, 0, 17, 1, 0, 0, 0, 0, 2, 0]'),\n",
       " Text(850.2594059405942, 265.005, 'gini = 0.0\\nsamples = 17\\nvalue = [0, 0, 17, 0, 0, 0, 0, 0, 0, 0]'),\n",
       " Text(860.2039603960397, 265.005, 'X[18] <= 1.0\\ngini = 0.444\\nsamples = 3\\nvalue = [0, 0, 0, 1, 0, 0, 0, 0, 2, 0]'),\n",
       " Text(855.231683168317, 224.235, 'gini = 0.0\\nsamples = 1\\nvalue = [0, 0, 0, 1, 0, 0, 0, 0, 0, 0]'),\n",
       " Text(865.1762376237625, 224.235, 'gini = 0.0\\nsamples = 2\\nvalue = [0, 0, 0, 0, 0, 0, 0, 0, 2, 0]'),\n",
       " Text(904.9544554455447, 305.77500000000003, 'X[10] <= 13.5\\ngini = 0.29\\nsamples = 97\\nvalue = [0, 81, 0, 4, 2, 0, 0, 0, 10, 0]'),\n",
       " Text(890.0376237623764, 265.005, 'X[52] <= 9.0\\ngini = 0.186\\nsamples = 90\\nvalue = [0, 81, 0, 2, 2, 0, 0, 0, 5, 0]'),\n",
       " Text(875.1207920792081, 224.235, 'X[28] <= 10.0\\ngini = 0.56\\nsamples = 5\\nvalue = [0, 1, 0, 1, 0, 0, 0, 0, 3, 0]'),\n",
       " Text(870.1485148514853, 183.46500000000003, 'gini = 0.0\\nsamples = 1\\nvalue = [0, 0, 0, 1, 0, 0, 0, 0, 0, 0]'),\n",
       " Text(880.0930693069308, 183.46500000000003, 'X[45] <= 2.5\\ngini = 0.375\\nsamples = 4\\nvalue = [0, 1, 0, 0, 0, 0, 0, 0, 3, 0]'),\n",
       " Text(875.1207920792081, 142.695, 'gini = 0.0\\nsamples = 1\\nvalue = [0, 1, 0, 0, 0, 0, 0, 0, 0, 0]'),\n",
       " Text(885.0653465346536, 142.695, 'gini = 0.0\\nsamples = 3\\nvalue = [0, 0, 0, 0, 0, 0, 0, 0, 3, 0]'),\n",
       " Text(904.9544554455447, 224.235, 'X[41] <= 7.5\\ngini = 0.113\\nsamples = 85\\nvalue = [0, 80, 0, 1, 2, 0, 0, 0, 2, 0]'),\n",
       " Text(899.9821782178219, 183.46500000000003, 'X[19] <= 5.5\\ngini = 0.07\\nsamples = 83\\nvalue = [0, 80, 0, 1, 0, 0, 0, 0, 2, 0]'),\n",
       " Text(895.0099009900991, 142.695, 'gini = 0.0\\nsamples = 1\\nvalue = [0, 0, 0, 1, 0, 0, 0, 0, 0, 0]'),\n",
       " Text(904.9544554455447, 142.695, 'X[36] <= 7.0\\ngini = 0.048\\nsamples = 82\\nvalue = [0, 80, 0, 0, 0, 0, 0, 0, 2, 0]'),\n",
       " Text(899.9821782178219, 101.92499999999995, 'gini = 0.0\\nsamples = 1\\nvalue = [0, 0, 0, 0, 0, 0, 0, 0, 1, 0]'),\n",
       " Text(909.9267326732675, 101.92499999999995, 'X[12] <= 9.0\\ngini = 0.024\\nsamples = 81\\nvalue = [0, 80, 0, 0, 0, 0, 0, 0, 1, 0]'),\n",
       " Text(904.9544554455447, 61.15499999999997, 'X[12] <= 3.5\\ngini = 0.5\\nsamples = 2\\nvalue = [0, 1, 0, 0, 0, 0, 0, 0, 1, 0]'),\n",
       " Text(899.9821782178219, 20.38499999999999, 'gini = 0.0\\nsamples = 1\\nvalue = [0, 1, 0, 0, 0, 0, 0, 0, 0, 0]'),\n",
       " Text(909.9267326732675, 20.38499999999999, 'gini = 0.0\\nsamples = 1\\nvalue = [0, 0, 0, 0, 0, 0, 0, 0, 1, 0]'),\n",
       " Text(914.8990099009902, 61.15499999999997, 'gini = 0.0\\nsamples = 79\\nvalue = [0, 79, 0, 0, 0, 0, 0, 0, 0, 0]'),\n",
       " Text(909.9267326732675, 183.46500000000003, 'gini = 0.0\\nsamples = 2\\nvalue = [0, 0, 0, 0, 2, 0, 0, 0, 0, 0]'),\n",
       " Text(919.871287128713, 265.005, 'X[18] <= 7.0\\ngini = 0.408\\nsamples = 7\\nvalue = [0, 0, 0, 2, 0, 0, 0, 0, 5, 0]'),\n",
       " Text(914.8990099009902, 224.235, 'gini = 0.0\\nsamples = 2\\nvalue = [0, 0, 0, 2, 0, 0, 0, 0, 0, 0]'),\n",
       " Text(924.8435643564358, 224.235, 'gini = 0.0\\nsamples = 5\\nvalue = [0, 0, 0, 0, 0, 0, 0, 0, 5, 0]'),\n",
       " Text(958.4064356435646, 468.855, 'X[13] <= 9.5\\ngini = 0.402\\nsamples = 145\\nvalue = [2, 21, 1, 1, 110, 1, 3, 2, 3, 1]'),\n",
       " Text(934.7881188118813, 428.08500000000004, 'X[2] <= 1.5\\ngini = 0.088\\nsamples = 110\\nvalue = [0, 3, 0, 0, 105, 0, 1, 0, 0, 1]'),\n",
       " Text(924.8435643564358, 387.31500000000005, 'X[5] <= 12.5\\ngini = 0.037\\nsamples = 107\\nvalue = [0, 1, 0, 0, 105, 0, 0, 0, 0, 1]'),\n",
       " Text(919.871287128713, 346.545, 'X[37] <= 3.5\\ngini = 0.019\\nsamples = 106\\nvalue = [0, 1, 0, 0, 105, 0, 0, 0, 0, 0]'),\n",
       " Text(914.8990099009902, 305.77500000000003, 'gini = 0.0\\nsamples = 1\\nvalue = [0, 1, 0, 0, 0, 0, 0, 0, 0, 0]'),\n",
       " Text(924.8435643564358, 305.77500000000003, 'gini = 0.0\\nsamples = 105\\nvalue = [0, 0, 0, 0, 105, 0, 0, 0, 0, 0]'),\n",
       " Text(929.8158415841585, 346.545, 'gini = 0.0\\nsamples = 1\\nvalue = [0, 0, 0, 0, 0, 0, 0, 0, 0, 1]'),\n",
       " Text(944.7326732673268, 387.31500000000005, 'X[51] <= 11.5\\ngini = 0.444\\nsamples = 3\\nvalue = [0, 2, 0, 0, 0, 0, 1, 0, 0, 0]'),\n",
       " Text(939.7603960396041, 346.545, 'gini = 0.0\\nsamples = 1\\nvalue = [0, 0, 0, 0, 0, 0, 1, 0, 0, 0]'),\n",
       " Text(949.7049504950496, 346.545, 'gini = 0.0\\nsamples = 2\\nvalue = [0, 2, 0, 0, 0, 0, 0, 0, 0, 0]'),\n",
       " Text(982.0247524752477, 428.08500000000004, 'X[27] <= 14.5\\ngini = 0.696\\nsamples = 35\\nvalue = [2, 18, 1, 1, 5, 1, 2, 2, 3, 0]'),\n",
       " Text(969.5940594059408, 387.31500000000005, 'X[59] <= 7.5\\ngini = 0.836\\nsamples = 16\\nvalue = [2, 1, 1, 1, 5, 1, 2, 2, 1, 0]'),\n",
       " Text(959.6495049504953, 346.545, 'X[35] <= 12.5\\ngini = 0.449\\nsamples = 7\\nvalue = [0, 1, 1, 0, 5, 0, 0, 0, 0, 0]'),\n",
       " Text(954.6772277227724, 305.77500000000003, 'X[26] <= 8.0\\ngini = 0.5\\nsamples = 2\\nvalue = [0, 1, 1, 0, 0, 0, 0, 0, 0, 0]'),\n",
       " Text(949.7049504950496, 265.005, 'gini = 0.0\\nsamples = 1\\nvalue = [0, 0, 1, 0, 0, 0, 0, 0, 0, 0]'),\n",
       " Text(959.6495049504953, 265.005, 'gini = 0.0\\nsamples = 1\\nvalue = [0, 1, 0, 0, 0, 0, 0, 0, 0, 0]'),\n",
       " Text(964.621782178218, 305.77500000000003, 'gini = 0.0\\nsamples = 5\\nvalue = [0, 0, 0, 0, 5, 0, 0, 0, 0, 0]'),\n",
       " Text(979.5386138613864, 346.545, 'X[11] <= 12.5\\ngini = 0.815\\nsamples = 9\\nvalue = [2, 0, 0, 1, 0, 1, 2, 2, 1, 0]'),\n",
       " Text(974.5663366336636, 305.77500000000003, 'gini = 0.0\\nsamples = 2\\nvalue = [0, 0, 0, 0, 0, 0, 0, 2, 0, 0]'),\n",
       " Text(984.5108910891091, 305.77500000000003, 'X[12] <= 14.5\\ngini = 0.776\\nsamples = 7\\nvalue = [2, 0, 0, 1, 0, 1, 2, 0, 1, 0]'),\n",
       " Text(979.5386138613864, 265.005, 'X[12] <= 9.0\\ngini = 0.72\\nsamples = 5\\nvalue = [0, 0, 0, 1, 0, 1, 2, 0, 1, 0]'),\n",
       " Text(974.5663366336636, 224.235, 'X[34] <= 9.5\\ngini = 0.667\\nsamples = 3\\nvalue = [0, 0, 0, 1, 0, 1, 0, 0, 1, 0]'),\n",
       " Text(969.5940594059408, 183.46500000000003, 'gini = 0.0\\nsamples = 1\\nvalue = [0, 0, 0, 1, 0, 0, 0, 0, 0, 0]'),\n",
       " Text(979.5386138613864, 183.46500000000003, 'X[38] <= 3.0\\ngini = 0.5\\nsamples = 2\\nvalue = [0, 0, 0, 0, 0, 1, 0, 0, 1, 0]'),\n",
       " Text(974.5663366336636, 142.695, 'gini = 0.0\\nsamples = 1\\nvalue = [0, 0, 0, 0, 0, 0, 0, 0, 1, 0]'),\n",
       " Text(984.5108910891091, 142.695, 'gini = 0.0\\nsamples = 1\\nvalue = [0, 0, 0, 0, 0, 1, 0, 0, 0, 0]'),\n",
       " Text(984.5108910891091, 224.235, 'gini = 0.0\\nsamples = 2\\nvalue = [0, 0, 0, 0, 0, 0, 2, 0, 0, 0]'),\n",
       " Text(989.4831683168319, 265.005, 'gini = 0.0\\nsamples = 2\\nvalue = [2, 0, 0, 0, 0, 0, 0, 0, 0, 0]'),\n",
       " Text(994.4554455445547, 387.31500000000005, 'X[12] <= 11.0\\ngini = 0.188\\nsamples = 19\\nvalue = [0, 17, 0, 0, 0, 0, 0, 0, 2, 0]'),\n",
       " Text(989.4831683168319, 346.545, 'gini = 0.0\\nsamples = 2\\nvalue = [0, 0, 0, 0, 0, 0, 0, 0, 2, 0]'),\n",
       " Text(999.4277227722774, 346.545, 'gini = 0.0\\nsamples = 17\\nvalue = [0, 17, 0, 0, 0, 0, 0, 0, 0, 0]')]"
      ]
     },
     "execution_count": 33,
     "metadata": {},
     "output_type": "execute_result"
    },
    {
     "data": {
      "image/png": "[encoded data removed]",
      "text/plain": [
       "<Figure size 1296x864 with 1 Axes>"
      ]
     },
     "metadata": {
      "needs_background": "light"
     },
     "output_type": "display_data"
    }
   ],
   "source": [
    "plt.figure(figsize = (18,12))\n",
    "clf = clf.fit(digits.data, digits.target)\n",
    "tree.plot_tree(clf)"
   ]
  },
  {
   "cell_type": "markdown",
   "metadata": {},
   "source": [
    "***"
   ]
  },
  {
   "cell_type": "markdown",
   "metadata": {},
   "source": [
    "<center> <h2>SVM</h2><center>"
   ]
  },
  {
   "cell_type": "markdown",
   "metadata": {},
   "source": [
    "### import SVM library"
   ]
  },
  {
   "cell_type": "code",
   "execution_count": 34,
   "metadata": {},
   "outputs": [],
   "source": [
    "from sklearn.svm import SVC"
   ]
  },
  {
   "cell_type": "code",
   "execution_count": 35,
   "metadata": {},
   "outputs": [
    {
     "data": {
      "text/plain": [
       "SVC(C=1.0, cache_size=200, class_weight=None, coef0=0.0,\n",
       "    decision_function_shape='ovr', degree=3, gamma='auto_deprecated',\n",
       "    kernel='linear', max_iter=-1, probability=False, random_state=None,\n",
       "    shrinking=True, tol=0.001, verbose=False)"
      ]
     },
     "execution_count": 35,
     "metadata": {},
     "output_type": "execute_result"
    }
   ],
   "source": [
    "# model2 = SVC()\n",
    "model2 = SVC(kernel='linear')\n",
    "model2.fit(X_train,y_train)"
   ]
  },
  {
   "cell_type": "code",
   "execution_count": 36,
   "metadata": {},
   "outputs": [
    {
     "data": {
      "text/plain": [
       "0.9583333333333334"
      ]
     },
     "execution_count": 36,
     "metadata": {},
     "output_type": "execute_result"
    }
   ],
   "source": [
    "SV = model2.score(X_test, y_test)      # Checking Accuracy of our model by using SVM method\n",
    "SV"
   ]
  },
  {
   "cell_type": "code",
   "execution_count": 37,
   "metadata": {},
   "outputs": [],
   "source": [
    "# making predictions on the testing set \n",
    "\n",
    "model2.predict(X_test)\n",
    "y_predicted2 = model2.predict(X_test)"
   ]
  },
  {
   "cell_type": "code",
   "execution_count": 38,
   "metadata": {},
   "outputs": [
    {
     "data": {
      "text/plain": [
       "array([[29,  0,  0,  0,  0,  0,  0,  0,  0,  0],\n",
       "       [ 0, 32,  0,  0,  0,  0,  0,  0,  1,  0],\n",
       "       [ 0,  0, 38,  0,  0,  0,  0,  0,  0,  0],\n",
       "       [ 0,  0,  1, 37,  0,  0,  0,  0,  0,  0],\n",
       "       [ 0,  1,  0,  0, 34,  0,  0,  0,  0,  0],\n",
       "       [ 0,  0,  0,  1,  0, 35,  0,  0,  0,  0],\n",
       "       [ 1,  0,  0,  0,  0,  0, 28,  0,  1,  0],\n",
       "       [ 0,  0,  0,  0,  0,  1,  0, 40,  0,  0],\n",
       "       [ 0,  4,  0,  0,  1,  1,  0,  0, 41,  0],\n",
       "       [ 0,  0,  0,  0,  0,  1,  0,  1,  0, 31]], dtype=int64)"
      ]
     },
     "execution_count": 38,
     "metadata": {},
     "output_type": "execute_result"
    }
   ],
   "source": [
    "from sklearn.metrics import confusion_matrix\n",
    "cm2 = confusion_matrix(y_test, y_predicted2)\n",
    "cm2"
   ]
  },
  {
   "cell_type": "code",
   "execution_count": 39,
   "metadata": {},
   "outputs": [
    {
     "data": {
      "image/png": "[encoded data removed]",
      "text/plain": [
       "<Figure size 1152x432 with 2 Axes>"
      ]
     },
     "metadata": {
      "needs_background": "light"
     },
     "output_type": "display_data"
    }
   ],
   "source": [
    "plt.figure(figsize=(16,6))\n",
    "sns.heatmap(cm2, annot=True, cmap='PuBu')\n",
    "plt.xlabel('Predicted')\n",
    "plt.ylabel('Truth')\n",
    "plt.show()"
   ]
  },
  {
   "cell_type": "code",
   "execution_count": 40,
   "metadata": {},
   "outputs": [],
   "source": [
    "from sklearn.metrics import classification_report"
   ]
  },
  {
   "cell_type": "code",
   "execution_count": 41,
   "metadata": {},
   "outputs": [
    {
     "name": "stdout",
     "output_type": "stream",
     "text": [
      "              precision    recall  f1-score   support\n",
      "\n",
      "           0       0.97      1.00      0.98        29\n",
      "           1       0.86      0.97      0.91        33\n",
      "           2       0.97      1.00      0.99        38\n",
      "           3       0.97      0.97      0.97        38\n",
      "           4       0.97      0.97      0.97        35\n",
      "           5       0.92      0.97      0.95        36\n",
      "           6       1.00      0.93      0.97        30\n",
      "           7       0.98      0.98      0.98        41\n",
      "           8       0.95      0.87      0.91        47\n",
      "           9       1.00      0.94      0.97        33\n",
      "\n",
      "    accuracy                           0.96       360\n",
      "   macro avg       0.96      0.96      0.96       360\n",
      "weighted avg       0.96      0.96      0.96       360\n",
      "\n"
     ]
    }
   ],
   "source": [
    "predictions2 = model2.predict(X_test)\n",
    "print(classification_report(y_test, predictions2))"
   ]
  },
  {
   "cell_type": "markdown",
   "metadata": {},
   "source": [
    "***"
   ]
  },
  {
   "cell_type": "markdown",
   "metadata": {},
   "source": [
    "<center> <h2>Random Forest Classifier</h2><center>"
   ]
  },
  {
   "cell_type": "markdown",
   "metadata": {},
   "source": [
    "### import RandomForest library"
   ]
  },
  {
   "cell_type": "code",
   "execution_count": 42,
   "metadata": {},
   "outputs": [],
   "source": [
    "from sklearn.ensemble import RandomForestClassifier"
   ]
  },
  {
   "cell_type": "code",
   "execution_count": 47,
   "metadata": {
    "scrolled": true
   },
   "outputs": [
    {
     "data": {
      "text/plain": [
       "RandomForestClassifier(bootstrap=True, class_weight=None, criterion='gini',\n",
       "                       max_depth=None, max_features='auto', max_leaf_nodes=None,\n",
       "                       min_impurity_decrease=0.0, min_impurity_split=None,\n",
       "                       min_samples_leaf=1, min_samples_split=2,\n",
       "                       min_weight_fraction_leaf=0.0, n_estimators=30,\n",
       "                       n_jobs=None, oob_score=False, random_state=None,\n",
       "                       verbose=0, warm_start=False)"
      ]
     },
     "execution_count": 47,
     "metadata": {},
     "output_type": "execute_result"
    }
   ],
   "source": [
    "model3 = RandomForestClassifier(30)\n",
    "model3.fit(X_train,y_train)"
   ]
  },
  {
   "cell_type": "code",
   "execution_count": 48,
   "metadata": {
    "scrolled": true
   },
   "outputs": [
    {
     "data": {
      "text/plain": [
       "0.975"
      ]
     },
     "execution_count": 48,
     "metadata": {},
     "output_type": "execute_result"
    }
   ],
   "source": [
    "RF = model3.score(X_test, y_test)         # Checking Accuracy of our model by using RandomForest\n",
    "RF"
   ]
  },
  {
   "cell_type": "code",
   "execution_count": 49,
   "metadata": {
    "scrolled": false
   },
   "outputs": [],
   "source": [
    "# making predictions on the testing set \n",
    "\n",
    "model3.predict(X_test)\n",
    "y_predicted3 = model3.predict(X_test)"
   ]
  },
  {
   "cell_type": "code",
   "execution_count": 50,
   "metadata": {},
   "outputs": [
    {
     "data": {
      "text/plain": [
       "array([[29,  0,  0,  0,  0,  0,  0,  0,  0,  0],\n",
       "       [ 0, 33,  0,  0,  0,  0,  0,  0,  0,  0],\n",
       "       [ 0,  0, 38,  0,  0,  0,  0,  0,  0,  0],\n",
       "       [ 1,  1,  0, 35,  0,  0,  0,  0,  1,  0],\n",
       "       [ 0,  0,  0,  0, 35,  0,  0,  0,  0,  0],\n",
       "       [ 0,  0,  0,  0,  0, 36,  0,  0,  0,  0],\n",
       "       [ 0,  1,  0,  0,  0,  1, 28,  0,  0,  0],\n",
       "       [ 0,  0,  0,  0,  0,  0,  0, 41,  0,  0],\n",
       "       [ 0,  0,  1,  0,  1,  0,  0,  0, 45,  0],\n",
       "       [ 0,  0,  0,  0,  0,  1,  0,  0,  1, 31]], dtype=int64)"
      ]
     },
     "execution_count": 50,
     "metadata": {},
     "output_type": "execute_result"
    }
   ],
   "source": [
    "from sklearn.metrics import confusion_matrix\n",
    "cm3 = confusion_matrix(y_test, y_predicted3)\n",
    "cm3"
   ]
  },
  {
   "cell_type": "code",
   "execution_count": 51,
   "metadata": {},
   "outputs": [
    {
     "data": {
      "text/plain": [
       "Text(123.0, 0.5, 'Truth')"
      ]
     },
     "execution_count": 51,
     "metadata": {},
     "output_type": "execute_result"
    },
    {
     "data": {
      "image/png": "[encoded data removed]",
      "text/plain": [
       "<Figure size 1152x432 with 2 Axes>"
      ]
     },
     "metadata": {
      "needs_background": "light"
     },
     "output_type": "display_data"
    }
   ],
   "source": [
    "import seaborn as sns\n",
    "plt.figure(figsize=(16,6))\n",
    "sns.heatmap(cm3, annot=True, cmap='PuBu')\n",
    "plt.xlabel('Predicted')\n",
    "plt.ylabel('Truth')"
   ]
  },
  {
   "cell_type": "code",
   "execution_count": 52,
   "metadata": {},
   "outputs": [],
   "source": [
    "from sklearn.metrics import classification_report"
   ]
  },
  {
   "cell_type": "code",
   "execution_count": 53,
   "metadata": {},
   "outputs": [
    {
     "name": "stdout",
     "output_type": "stream",
     "text": [
      "              precision    recall  f1-score   support\n",
      "\n",
      "           0       0.97      1.00      0.98        29\n",
      "           1       0.94      1.00      0.97        33\n",
      "           2       0.97      1.00      0.99        38\n",
      "           3       1.00      0.92      0.96        38\n",
      "           4       0.97      1.00      0.99        35\n",
      "           5       0.95      1.00      0.97        36\n",
      "           6       1.00      0.93      0.97        30\n",
      "           7       1.00      1.00      1.00        41\n",
      "           8       0.96      0.96      0.96        47\n",
      "           9       1.00      0.94      0.97        33\n",
      "\n",
      "    accuracy                           0.97       360\n",
      "   macro avg       0.98      0.98      0.98       360\n",
      "weighted avg       0.98      0.97      0.97       360\n",
      "\n"
     ]
    }
   ],
   "source": [
    "predictions3 = model3.predict(X_test)\n",
    "print(classification_report(y_test, predictions3))"
   ]
  },
  {
   "cell_type": "markdown",
   "metadata": {},
   "source": [
    "***"
   ]
  },
  {
   "cell_type": "markdown",
   "metadata": {},
   "source": [
    "<font color=\"red\"><h3>Comparing All model and Checking Accuracy</h3></font>"
   ]
  },
  {
   "cell_type": "code",
   "execution_count": 54,
   "metadata": {},
   "outputs": [
    {
     "name": "stdout",
     "output_type": "stream",
     "text": [
      "Logistic Regression Accuracy 0.939 %\n",
      "Dicision Tree Accuracy 0.819 %\n",
      "SVM Accuracy 0.958 %\n",
      "Random Forest Accuracy 0.975 %\n"
     ]
    },
    {
     "data": {
      "image/png": "[encoded data removed]",
      "text/plain": [
       "<Figure size 1296x720 with 8 Axes>"
      ]
     },
     "metadata": {
      "needs_background": "light"
     },
     "output_type": "display_data"
    }
   ],
   "source": [
    "plt.figure(figsize=(18,10))               # Set image graph size\n",
    "plt.subplot(2,2,1)                        # Create suboplot instance\n",
    "plt.title('Logistic Regression')          # Provide title to plot\n",
    "sns.heatmap(cm, annot=True, cmap='gray')  # Use ConfusionMatrix\n",
    "plt.xlabel('Predicted')                   # Gave title to X-axis\n",
    "plt.ylabel('Truth')                       # Gave title to y-axis\n",
    "print(\"Logistic Regression Accuracy\",str(LR.round(3)) + ' %')  # Print Accuracy of model\n",
    "\n",
    "plt.subplot(2,2,2)\n",
    "plt.title('Decision Tree Classifier')\n",
    "sns.heatmap(cm1, annot=True, cmap='PuBu')  # Use confusion matrix of Decision Tree\n",
    "plt.xlabel('Predicted')\n",
    "plt.ylabel('Truth')\n",
    "print(\"Dicision Tree Accuracy\",str(DT.round(3)) + ' %')        # Print Accuracy of model\n",
    "\n",
    "plt.subplot(2,2,3)\n",
    "plt.title('Support Vector Classifier')\n",
    "sns.heatmap(cm2, annot=True, cmap='PuBu')  # Use confusion matrix of SVM\n",
    "plt.xlabel('Predicted')\n",
    "plt.ylabel('Truth')\n",
    "print(\"SVM Accuracy\",str(SV.round(3)) + ' %')        # Print Accuracy of model\n",
    "\n",
    "plt.subplot(2,2,4)\n",
    "plt.title('Random Forest Classifier')\n",
    "sns.heatmap(cm3, annot=True, cmap='gray') # Use confusion matrix of Random Forest\n",
    "plt.xlabel('Predicted')\n",
    "plt.ylabel('Truth')\n",
    "print(\"Random Forest Accuracy\",str(RF.round(3)) + ' %')        # Print Accuracy of model\n",
    "plt.show()"
   ]
  },
  {
   "cell_type": "markdown",
   "metadata": {},
   "source": [
    "***"
   ]
  },
  {
   "cell_type": "markdown",
   "metadata": {},
   "source": [
    "## Accuracy:\n",
    "###  Logistic Regression Accuracy 0.939 %\n",
    "###  Dicision Tree Accuracy 0.819 %\n",
    "###  SVM Accuracy 0.958 %\n",
    "###  Random Forest Accuracy 0.975 %"
   ]
  },
  {
   "cell_type": "markdown",
   "metadata": {},
   "source": [
    "<font color='blue'><h1>Findings : </h1></font>\n",
    "<font color='gray'><h2>After seeing above result by use different model we find that Random forest gives us better accuracy result.<br><br> So, this doesn't mean that others method is not usefull. All method have their own places to train an predict output <br><br> Decision Tree is useful to put those column who have multicolinearity between independent features but we don't want to drop them .<br><br>It's depends on your requirement what type of output you want</h2></font>"
   ]
  },
  {
   "cell_type": "markdown",
   "metadata": {},
   "source": [
    "***"
   ]
  },
  {
   "cell_type": "markdown",
   "metadata": {},
   "source": [
    "<center><h3>END<h3></center>"
   ]
  },
  {
   "cell_type": "markdown",
   "metadata": {},
   "source": [
    "***"
   ]
  },
  {
   "cell_type": "markdown",
   "metadata": {},
   "source": [
    "<center> <h2>K-Folds Cross validation</h2><center>"
   ]
  },
  {
   "cell_type": "markdown",
   "metadata": {},
   "source": [
    "### import library"
   ]
  },
  {
   "cell_type": "code",
   "execution_count": 55,
   "metadata": {},
   "outputs": [],
   "source": [
    "import numpy as np\n",
    "from sklearn.model_selection import cross_val_score"
   ]
  },
  {
   "cell_type": "markdown",
   "metadata": {},
   "source": [
    "## Logistic Regression"
   ]
  },
  {
   "cell_type": "code",
   "execution_count": 56,
   "metadata": {},
   "outputs": [],
   "source": [
    "from sklearn.linear_model import LogisticRegression"
   ]
  },
  {
   "cell_type": "code",
   "execution_count": 57,
   "metadata": {},
   "outputs": [
    {
     "data": {
      "text/plain": [
       "array([0.92307692, 0.88121547, 0.94986072, 0.95798319, 0.89295775])"
      ]
     },
     "execution_count": 57,
     "metadata": {},
     "output_type": "execute_result"
    }
   ],
   "source": [
    "s1 = cross_val_score(LogisticRegression(solver='liblinear',multi_class='ovr'), digits.data, digits.target, cv=5)\n",
    "s1"
   ]
  },
  {
   "cell_type": "code",
   "execution_count": 58,
   "metadata": {},
   "outputs": [
    {
     "data": {
      "text/plain": [
       "0.9210188113360701"
      ]
     },
     "execution_count": 58,
     "metadata": {},
     "output_type": "execute_result"
    }
   ],
   "source": [
    "np.average(s1)  # Accuracy of our model by using Kfold method"
   ]
  },
  {
   "cell_type": "markdown",
   "metadata": {},
   "source": [
    "## SVM Accuracy"
   ]
  },
  {
   "cell_type": "code",
   "execution_count": 59,
   "metadata": {},
   "outputs": [],
   "source": [
    "from sklearn.svm import SVC"
   ]
  },
  {
   "cell_type": "code",
   "execution_count": 60,
   "metadata": {},
   "outputs": [
    {
     "data": {
      "text/plain": [
       "array([0.43406593, 0.40883978, 0.41504178, 0.48739496, 0.49859155])"
      ]
     },
     "execution_count": 60,
     "metadata": {},
     "output_type": "execute_result"
    }
   ],
   "source": [
    "s2 = cross_val_score(SVC(gamma='auto'), digits.data, digits.target, cv=5)\n",
    "s2"
   ]
  },
  {
   "cell_type": "code",
   "execution_count": 61,
   "metadata": {},
   "outputs": [
    {
     "data": {
      "text/plain": [
       "0.44878680061604637"
      ]
     },
     "execution_count": 61,
     "metadata": {},
     "output_type": "execute_result"
    }
   ],
   "source": [
    "np.average(s2)    # Accuracy of our model by using Kfold method"
   ]
  },
  {
   "cell_type": "markdown",
   "metadata": {},
   "source": [
    "## Random Forest accuracy"
   ]
  },
  {
   "cell_type": "code",
   "execution_count": 62,
   "metadata": {},
   "outputs": [],
   "source": [
    "from sklearn.ensemble import RandomForestClassifier"
   ]
  },
  {
   "cell_type": "code",
   "execution_count": 67,
   "metadata": {
    "scrolled": false
   },
   "outputs": [
    {
     "data": {
      "text/plain": [
       "array([0.91483516, 0.91436464, 0.9637883 , 0.95518207, 0.91549296])"
      ]
     },
     "execution_count": 67,
     "metadata": {},
     "output_type": "execute_result"
    }
   ],
   "source": [
    "s3 = cross_val_score(RandomForestClassifier(n_estimators=40), digits.data, digits.target, cv=5)\n",
    "s3"
   ]
  },
  {
   "cell_type": "code",
   "execution_count": 68,
   "metadata": {},
   "outputs": [
    {
     "data": {
      "text/plain": [
       "0.9327326274260817"
      ]
     },
     "execution_count": 68,
     "metadata": {},
     "output_type": "execute_result"
    }
   ],
   "source": [
    "np.average(s3)    # Accuracy of our model by using Kfold method"
   ]
  },
  {
   "cell_type": "markdown",
   "metadata": {},
   "source": [
    "***"
   ]
  }
 ],
 "metadata": {
  "kernelspec": {
   "display_name": "Python 3",
   "language": "python",
   "name": "python3"
  },
  "language_info": {
   "codemirror_mode": {
    "name": "ipython",
    "version": 3
   },
   "file_extension": ".py",
   "mimetype": "text/x-python",
   "name": "python",
   "nbconvert_exporter": "python",
   "pygments_lexer": "ipython3",
   "version": "3.7.4"
  }
 },
 "nbformat": 4,
 "nbformat_minor": 2
}
